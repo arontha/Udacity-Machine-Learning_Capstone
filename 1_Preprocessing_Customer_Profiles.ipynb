{
 "cells": [
  {
   "cell_type": "markdown",
   "metadata": {},
   "source": [
    "# Starbucks Capstone Challenge\n",
    "Notebook 1 of 4\n",
    "\n",
    "### Introduction\n",
    "\n",
    "This data set contains simulated data that mimics customer behavior on the Starbucks rewards mobile app. Once every few days, Starbucks sends out an offer to users of the mobile app. An offer can be merely an advertisement for a drink or an actual offer such as a discount or BOGO (buy one get one free). Some users might not receive any offer during certain weeks. \n",
    "\n",
    "Not all users receive the same offer, and that is the challenge to solve with this data set.\n",
    "\n",
    "The task is to combine transaction, demographic and offer data to determine which demographic groups respond best to which offer type. This data set is a simplified version of the real Starbucks app because the underlying simulator only has one product whereas Starbucks actually sells dozens of products.\n",
    "\n",
    "Every offer has a validity period before the offer expires. As an example, a BOGO offer might be valid for only 5 days. You'll see in the data set that informational offers have a validity period even though these ads are merely providing information about a product; for example, if an informational offer has 7 days of validity, you can assume the customer is feeling the influence of the offer for 7 days after receiving the advertisement.\n",
    "\n",
    "Transactional data shows user purchases made on the app including the timestamp of purchase and the amount of money spent on a purchase. This transactional data also has a record for each offer that a user receives as well as a record for when a user actually views the offer. There are also records for when a user completes an offer. \n",
    "\n",
    "Keep in mind as well that someone using the app might make a purchase through the app without having received an offer or seen an offer.\n",
    "\n",
    "### Example\n",
    "\n",
    "To give an example, a user could receive a discount offer of 'buy 10 dollars get 2 off' on Monday. The offer is valid for 10 days from receipt. If the customer accumulates at least 10 dollars in purchases during the validity period, the customer completes the offer.\n",
    "\n",
    "However, there are a few things to watch out for in this data set. Customers do not opt into the offers that they receive; in other words, a user can receive an offer, never actually view the offer, and still complete the offer. For example, a user might receive the \"buy 10 dollars get 2 dollars off offer\", but the user never opens the offer during the 10 day validity period. The customer spends 15 dollars during those ten days. There will be an offer completion record in the data set; however, the customer was not influenced by the offer because the customer never viewed the offer.\n",
    "\n",
    "### Cleaning\n",
    "\n",
    "The data cleaning will be especially important and tricky due to the complexity of the trasactional data.\n",
    "\n",
    "Additionally, some demographic groups will make purchases even if they don't receive an offer. From a business perspective, if a customer is going to make a 10 dollar purchase without an offer anyway, you wouldn't want to send a buy 10 dollars get 2 dollars off offer. You'll want to try to assess what a certain demographic group will buy when not receiving any offers.\n",
    "\n",
    "### General Direction\n",
    "\n",
    "Because this is a capstone project, analysis of the data is driven as the learner sees fit. Udacity provides a few suggestions stating you could:\n",
    "- build a machine learning model that predicts how much someone will spend based on demographics and offer type.\n",
    "- build a model that predicts whether or not someone will respond to an offer\n",
    "- develop a set of heuristics that determine what offer you should send to each customer \n",
    "\n",
    "### Problem Statement\n",
    "This is a classic project of evaluating marketing strategies. A simplification of the problem is a marketing organization that has applied promotions across a wide range of customers without knowledge of whether or not these promotions are successful and without targeting customers with specific promotions. The next logical step is to apply analytics to determine effectiveness and optimize the marketing strategy to positively impact the company’s bottom line. Various promotions occurred across different customer segments and analysis on the results can provide valuable insights to employ customer-targeting techniques.\n",
    "\n",
    "Inputs to this problem are 10 different marketing promotions, basic demographic information of 17,000 customers, and 300,000 interactions of the customers with the app. After clustering the customers into segments, linear regression will determine whether each promotional strategy had a positive, negative, or neutral effect on customer spending within a given segment.\n",
    "\n",
    "### Solution Statement\n",
    "A proposed solution will be to determine whether each promotional strategy has a significant effect (positive or negative) on each customer segment. Based on the datasets, we will cluster the customer data into similar groups using k-means and then separately evaluate efficacy of promotional strategies for each group. Efficacy will be determined through linear regression to determine whether the promotion is statistically significant (rejecting the null hypothesis) compared to no promotion. If it is significant and the coefficient is positive, then the promotion will be considered good. If it is significant but with a negative coefficient then it will be considered bad. If it is not significant then the promotion will be considered neutral. A determination of good, neutral, and bad promotions will become evident for each segment, supporting a potential improvement in overall performance of the Starbucks marketing department.\n",
    "\n",
    "### Project Design\n",
    "This project contains 3 different datasets and a significant amount of data. The data must be thoroughly cleaned and explored in order to support our machine learning models. Success in this manner will gain additional insights and drive quality in our final product.\n",
    "\n",
    "A preliminary workflow will follow these steps:\n",
    "\n",
    "1.      Data cleaning and exploration - missing data in the profile.json file will need to be cleaned and the data in the transcript file will need to be better understood. Transaction.json will be transformed to determine whether a specific purchase was made during a promotional period. Transformation of the features in the data will be required to support regression.\n",
    "\n",
    "2.      Principle Component Analysis (PCA) on profile.json to determine key relationships between variables and rank them in order of importance. Determination of how many components to include in final model.\n",
    "\n",
    "3.      K-means clustering on the PCA dataset to define customer segments. An elbow graph will determine the appropriate number of clusters.\n",
    "\n",
    "4.      Merge the transformed transcript matrix with the newly defined customer segments.\n",
    "\n",
    "5.      Processing of the transaction and promotion data to flag transactions as to whether they were influenced by a specific promotion.\n",
    "\n",
    "6.      Split the merged matrix into separate training and test datasets for each customer segment.\n",
    "\n",
    "7.      Perform linear regression on this data to determine how each customer segment reacts to different promotional strategies vs. the baseline of no promotion.\n",
    "\n",
    "8.      Repeat regression as needed and evaluate results of linear regression to determine if each promotion was good, bad, or neutral for each customer segment.\n",
    "\n",
    "9.      Re-perform analysis by only following steps 1,5,6 and 7, i.e. develop benchmark model. Evaluate benchmark model vs. complete model to observe usefulness of customer segmentation.\n"
   ]
  },
  {
   "cell_type": "markdown",
   "metadata": {},
   "source": [
    "# Starting Data Sets\n",
    "\n",
    "The data is contained in three files:\n",
    "\n",
    "* portfolio.json - containing offer ids and meta data about each offer (duration, type, etc.)\n",
    "* profile.json - demographic data for each customer\n",
    "* transcript.json - records for transactions, offers received, offers viewed, and offers completed\n",
    "\n",
    "Here is the schema and explanation of each variable in the files:\n",
    "\n",
    "**portfolio.json**\n",
    "* id (string) - offer id\n",
    "* offer_type (string) - type of offer ie BOGO, discount, informational\n",
    "* difficulty (int) - minimum required spend to complete an offer\n",
    "* reward (int) - reward given for completing an offer\n",
    "* duration (int) - time for offer to be open, in days\n",
    "* channels (list of strings)\n",
    "\n",
    "**profile.json**\n",
    "* age (int) - age of the customer \n",
    "* became_member_on (int) - date when customer created an app account\n",
    "* gender (str) - gender of the customer (note some entries contain 'O' for other rather than M or F)\n",
    "* id (str) - customer id\n",
    "* income (float) - customer's income\n",
    "\n",
    "**transcript.json**\n",
    "* event (str) - record description (ie transaction, offer received, offer viewed, etc.)\n",
    "* person (str) - customer id\n",
    "* time (int) - time in hours since start of test. The data begins at time t=0\n",
    "* value - (dict of strings) - either an offer id or transaction amount depending on the record"
   ]
  },
  {
   "cell_type": "markdown",
   "metadata": {},
   "source": [
    "# Data importing and observation\n",
    "Our first step will be to read in the data and do some simple ob"
   ]
  },
  {
   "cell_type": "code",
   "execution_count": 1,
   "metadata": {},
   "outputs": [],
   "source": [
    "import pandas as pd\n",
    "import numpy as np\n",
    "import math\n",
    "import json\n",
    "from IPython.display import display, HTML\n",
    "% matplotlib inline\n",
    "\n",
    "prefix = 'raw_data'\n",
    "\n",
    "# read in the json files\n",
    "portfolio = pd.read_json(prefix + '/portfolio.json', orient='records', lines=True)\n",
    "profile = pd.read_json(prefix + '/profile.json', orient='records', lines=True)\n",
    "transcript = pd.read_json(prefix + '/transcript.json', orient='records', lines=True)"
   ]
  },
  {
   "cell_type": "code",
   "execution_count": 2,
   "metadata": {},
   "outputs": [
    {
     "name": "stdout",
     "output_type": "stream",
     "text": [
      "portfolio:   10 rows,      6 columns\n",
      "profile:     17000 rows,   5 columns\n",
      "transcript:  306534 rows,  4 columns\n"
     ]
    }
   ],
   "source": [
    "print(\"portfolio:   {} rows,      {} columns\".format(portfolio.shape[0],portfolio.shape[1]))\n",
    "print(\"profile:     {} rows,   {} columns\".format(profile.shape[0],profile.shape[1]))\n",
    "print(\"transcript:  {} rows,  {} columns\".format(transcript.shape[0],transcript.shape[1]))"
   ]
  },
  {
   "cell_type": "markdown",
   "metadata": {},
   "source": [
    "# Customer Data\n",
    "First we will dive into our profile.json dataset which contains information on 17000 customers. "
   ]
  },
  {
   "cell_type": "code",
   "execution_count": 3,
   "metadata": {},
   "outputs": [
    {
     "data": {
      "text/html": [
       "<table border=\"1\" class=\"dataframe\">\n",
       "  <thead>\n",
       "    <tr style=\"text-align: right;\">\n",
       "      <th></th>\n",
       "      <th>age</th>\n",
       "      <th>became_member_on</th>\n",
       "      <th>gender</th>\n",
       "      <th>id</th>\n",
       "      <th>income</th>\n",
       "    </tr>\n",
       "  </thead>\n",
       "  <tbody>\n",
       "    <tr>\n",
       "      <th>0</th>\n",
       "      <td>118</td>\n",
       "      <td>20170212</td>\n",
       "      <td>None</td>\n",
       "      <td>68be06ca386d4c31939f3a4f0e3dd783</td>\n",
       "      <td>NaN</td>\n",
       "    </tr>\n",
       "    <tr>\n",
       "      <th>1</th>\n",
       "      <td>55</td>\n",
       "      <td>20170715</td>\n",
       "      <td>F</td>\n",
       "      <td>0610b486422d4921ae7d2bf64640c50b</td>\n",
       "      <td>112000.0</td>\n",
       "    </tr>\n",
       "    <tr>\n",
       "      <th>2</th>\n",
       "      <td>118</td>\n",
       "      <td>20180712</td>\n",
       "      <td>None</td>\n",
       "      <td>38fe809add3b4fcf9315a9694bb96ff5</td>\n",
       "      <td>NaN</td>\n",
       "    </tr>\n",
       "    <tr>\n",
       "      <th>3</th>\n",
       "      <td>75</td>\n",
       "      <td>20170509</td>\n",
       "      <td>F</td>\n",
       "      <td>78afa995795e4d85b5d9ceeca43f5fef</td>\n",
       "      <td>100000.0</td>\n",
       "    </tr>\n",
       "    <tr>\n",
       "      <th>4</th>\n",
       "      <td>118</td>\n",
       "      <td>20170804</td>\n",
       "      <td>None</td>\n",
       "      <td>a03223e636434f42ac4c3df47e8bac43</td>\n",
       "      <td>NaN</td>\n",
       "    </tr>\n",
       "    <tr>\n",
       "      <th>5</th>\n",
       "      <td>68</td>\n",
       "      <td>20180426</td>\n",
       "      <td>M</td>\n",
       "      <td>e2127556f4f64592b11af22de27a7932</td>\n",
       "      <td>70000.0</td>\n",
       "    </tr>\n",
       "    <tr>\n",
       "      <th>6</th>\n",
       "      <td>118</td>\n",
       "      <td>20170925</td>\n",
       "      <td>None</td>\n",
       "      <td>8ec6ce2a7e7949b1bf142def7d0e0586</td>\n",
       "      <td>NaN</td>\n",
       "    </tr>\n",
       "    <tr>\n",
       "      <th>7</th>\n",
       "      <td>118</td>\n",
       "      <td>20171002</td>\n",
       "      <td>None</td>\n",
       "      <td>68617ca6246f4fbc85e91a2a49552598</td>\n",
       "      <td>NaN</td>\n",
       "    </tr>\n",
       "    <tr>\n",
       "      <th>8</th>\n",
       "      <td>65</td>\n",
       "      <td>20180209</td>\n",
       "      <td>M</td>\n",
       "      <td>389bc3fa690240e798340f5a15918d5c</td>\n",
       "      <td>53000.0</td>\n",
       "    </tr>\n",
       "    <tr>\n",
       "      <th>9</th>\n",
       "      <td>118</td>\n",
       "      <td>20161122</td>\n",
       "      <td>None</td>\n",
       "      <td>8974fc5686fe429db53ddde067b88302</td>\n",
       "      <td>NaN</td>\n",
       "    </tr>\n",
       "    <tr>\n",
       "      <th>10</th>\n",
       "      <td>118</td>\n",
       "      <td>20170824</td>\n",
       "      <td>None</td>\n",
       "      <td>c4863c7985cf408faee930f111475da3</td>\n",
       "      <td>NaN</td>\n",
       "    </tr>\n",
       "    <tr>\n",
       "      <th>11</th>\n",
       "      <td>118</td>\n",
       "      <td>20150919</td>\n",
       "      <td>None</td>\n",
       "      <td>148adfcaa27d485b82f323aaaad036bd</td>\n",
       "      <td>NaN</td>\n",
       "    </tr>\n",
       "    <tr>\n",
       "      <th>12</th>\n",
       "      <td>58</td>\n",
       "      <td>20171111</td>\n",
       "      <td>M</td>\n",
       "      <td>2eeac8d8feae4a8cad5a6af0499a211d</td>\n",
       "      <td>51000.0</td>\n",
       "    </tr>\n",
       "    <tr>\n",
       "      <th>13</th>\n",
       "      <td>61</td>\n",
       "      <td>20170911</td>\n",
       "      <td>F</td>\n",
       "      <td>aa4862eba776480b8bb9c68455b8c2e1</td>\n",
       "      <td>57000.0</td>\n",
       "    </tr>\n",
       "    <tr>\n",
       "      <th>14</th>\n",
       "      <td>26</td>\n",
       "      <td>20140213</td>\n",
       "      <td>M</td>\n",
       "      <td>e12aeaf2d47d42479ea1c4ac3d8286c6</td>\n",
       "      <td>46000.0</td>\n",
       "    </tr>\n",
       "  </tbody>\n",
       "</table>"
      ],
      "text/plain": [
       "<IPython.core.display.HTML object>"
      ]
     },
     "metadata": {},
     "output_type": "display_data"
    }
   ],
   "source": [
    "display(HTML(profile.iloc[0:15].to_html()))"
   ]
  },
  {
   "cell_type": "markdown",
   "metadata": {},
   "source": [
    "It is immediately apparent that age, gender and income each have a significant amount of invalid user inputs. We will assume that an age of 118 is invalid, that gender should not be None, and income should not be NaN. It appears that many entries in this table have all 3 of the invalid inputs appearing. For the purposes of our analysis, we will consider those as a separate and not use this data since it does not seem reasonable that we could accurate impute all 3 pieces of data. "
   ]
  },
  {
   "cell_type": "code",
   "execution_count": 4,
   "metadata": {},
   "outputs": [
    {
     "data": {
      "text/html": [
       "<table border=\"1\" class=\"dataframe\">\n",
       "  <thead>\n",
       "    <tr style=\"text-align: right;\">\n",
       "      <th></th>\n",
       "      <th>age</th>\n",
       "      <th>became_member_on</th>\n",
       "      <th>gender</th>\n",
       "      <th>id</th>\n",
       "      <th>income</th>\n",
       "      <th>invalid</th>\n",
       "    </tr>\n",
       "  </thead>\n",
       "  <tbody>\n",
       "    <tr>\n",
       "      <th>0</th>\n",
       "      <td>118</td>\n",
       "      <td>20170212</td>\n",
       "      <td>None</td>\n",
       "      <td>68be06ca386d4c31939f3a4f0e3dd783</td>\n",
       "      <td>NaN</td>\n",
       "      <td>1</td>\n",
       "    </tr>\n",
       "    <tr>\n",
       "      <th>1</th>\n",
       "      <td>55</td>\n",
       "      <td>20170715</td>\n",
       "      <td>F</td>\n",
       "      <td>0610b486422d4921ae7d2bf64640c50b</td>\n",
       "      <td>112000.0</td>\n",
       "      <td>0</td>\n",
       "    </tr>\n",
       "    <tr>\n",
       "      <th>2</th>\n",
       "      <td>118</td>\n",
       "      <td>20180712</td>\n",
       "      <td>None</td>\n",
       "      <td>38fe809add3b4fcf9315a9694bb96ff5</td>\n",
       "      <td>NaN</td>\n",
       "      <td>1</td>\n",
       "    </tr>\n",
       "    <tr>\n",
       "      <th>3</th>\n",
       "      <td>75</td>\n",
       "      <td>20170509</td>\n",
       "      <td>F</td>\n",
       "      <td>78afa995795e4d85b5d9ceeca43f5fef</td>\n",
       "      <td>100000.0</td>\n",
       "      <td>0</td>\n",
       "    </tr>\n",
       "    <tr>\n",
       "      <th>4</th>\n",
       "      <td>118</td>\n",
       "      <td>20170804</td>\n",
       "      <td>None</td>\n",
       "      <td>a03223e636434f42ac4c3df47e8bac43</td>\n",
       "      <td>NaN</td>\n",
       "      <td>1</td>\n",
       "    </tr>\n",
       "    <tr>\n",
       "      <th>5</th>\n",
       "      <td>68</td>\n",
       "      <td>20180426</td>\n",
       "      <td>M</td>\n",
       "      <td>e2127556f4f64592b11af22de27a7932</td>\n",
       "      <td>70000.0</td>\n",
       "      <td>0</td>\n",
       "    </tr>\n",
       "    <tr>\n",
       "      <th>6</th>\n",
       "      <td>118</td>\n",
       "      <td>20170925</td>\n",
       "      <td>None</td>\n",
       "      <td>8ec6ce2a7e7949b1bf142def7d0e0586</td>\n",
       "      <td>NaN</td>\n",
       "      <td>1</td>\n",
       "    </tr>\n",
       "    <tr>\n",
       "      <th>7</th>\n",
       "      <td>118</td>\n",
       "      <td>20171002</td>\n",
       "      <td>None</td>\n",
       "      <td>68617ca6246f4fbc85e91a2a49552598</td>\n",
       "      <td>NaN</td>\n",
       "      <td>1</td>\n",
       "    </tr>\n",
       "    <tr>\n",
       "      <th>8</th>\n",
       "      <td>65</td>\n",
       "      <td>20180209</td>\n",
       "      <td>M</td>\n",
       "      <td>389bc3fa690240e798340f5a15918d5c</td>\n",
       "      <td>53000.0</td>\n",
       "      <td>0</td>\n",
       "    </tr>\n",
       "    <tr>\n",
       "      <th>9</th>\n",
       "      <td>118</td>\n",
       "      <td>20161122</td>\n",
       "      <td>None</td>\n",
       "      <td>8974fc5686fe429db53ddde067b88302</td>\n",
       "      <td>NaN</td>\n",
       "      <td>1</td>\n",
       "    </tr>\n",
       "    <tr>\n",
       "      <th>10</th>\n",
       "      <td>118</td>\n",
       "      <td>20170824</td>\n",
       "      <td>None</td>\n",
       "      <td>c4863c7985cf408faee930f111475da3</td>\n",
       "      <td>NaN</td>\n",
       "      <td>1</td>\n",
       "    </tr>\n",
       "    <tr>\n",
       "      <th>11</th>\n",
       "      <td>118</td>\n",
       "      <td>20150919</td>\n",
       "      <td>None</td>\n",
       "      <td>148adfcaa27d485b82f323aaaad036bd</td>\n",
       "      <td>NaN</td>\n",
       "      <td>1</td>\n",
       "    </tr>\n",
       "    <tr>\n",
       "      <th>12</th>\n",
       "      <td>58</td>\n",
       "      <td>20171111</td>\n",
       "      <td>M</td>\n",
       "      <td>2eeac8d8feae4a8cad5a6af0499a211d</td>\n",
       "      <td>51000.0</td>\n",
       "      <td>0</td>\n",
       "    </tr>\n",
       "    <tr>\n",
       "      <th>13</th>\n",
       "      <td>61</td>\n",
       "      <td>20170911</td>\n",
       "      <td>F</td>\n",
       "      <td>aa4862eba776480b8bb9c68455b8c2e1</td>\n",
       "      <td>57000.0</td>\n",
       "      <td>0</td>\n",
       "    </tr>\n",
       "    <tr>\n",
       "      <th>14</th>\n",
       "      <td>26</td>\n",
       "      <td>20140213</td>\n",
       "      <td>M</td>\n",
       "      <td>e12aeaf2d47d42479ea1c4ac3d8286c6</td>\n",
       "      <td>46000.0</td>\n",
       "      <td>0</td>\n",
       "    </tr>\n",
       "  </tbody>\n",
       "</table>"
      ],
      "text/plain": [
       "<IPython.core.display.HTML object>"
      ]
     },
     "metadata": {},
     "output_type": "display_data"
    }
   ],
   "source": [
    "profile['invalid'] = 0\n",
    "profile.loc[(profile['age'] == 118) & (profile['gender'].isnull()) & (profile['income'].isna()), 'invalid'] = 1\n",
    "display(HTML(profile.iloc[0:15].to_html()))"
   ]
  },
  {
   "cell_type": "markdown",
   "metadata": {},
   "source": [
    "For now we will add a customer segment column with i (for invalid) for invalid rows and o (for others) for all other rows). We'll then separate the valid and invalid rows into 2 separate datasets and use only the valid rows for our customer segmentation analysis."
   ]
  },
  {
   "cell_type": "code",
   "execution_count": 5,
   "metadata": {},
   "outputs": [],
   "source": [
    "profile['segment'] = 'o'\n",
    "profile.loc[(profile['invalid']==1), 'segment'] = 'i'"
   ]
  },
  {
   "cell_type": "code",
   "execution_count": 6,
   "metadata": {},
   "outputs": [
    {
     "data": {
      "text/html": [
       "<table border=\"1\" class=\"dataframe\">\n",
       "  <thead>\n",
       "    <tr style=\"text-align: right;\">\n",
       "      <th></th>\n",
       "      <th>age</th>\n",
       "      <th>became_member_on</th>\n",
       "      <th>gender</th>\n",
       "      <th>id</th>\n",
       "      <th>income</th>\n",
       "    </tr>\n",
       "  </thead>\n",
       "  <tbody>\n",
       "    <tr>\n",
       "      <th>0</th>\n",
       "      <td>55</td>\n",
       "      <td>20170715</td>\n",
       "      <td>F</td>\n",
       "      <td>0610b486422d4921ae7d2bf64640c50b</td>\n",
       "      <td>112000.0</td>\n",
       "    </tr>\n",
       "    <tr>\n",
       "      <th>1</th>\n",
       "      <td>75</td>\n",
       "      <td>20170509</td>\n",
       "      <td>F</td>\n",
       "      <td>78afa995795e4d85b5d9ceeca43f5fef</td>\n",
       "      <td>100000.0</td>\n",
       "    </tr>\n",
       "    <tr>\n",
       "      <th>2</th>\n",
       "      <td>68</td>\n",
       "      <td>20180426</td>\n",
       "      <td>M</td>\n",
       "      <td>e2127556f4f64592b11af22de27a7932</td>\n",
       "      <td>70000.0</td>\n",
       "    </tr>\n",
       "    <tr>\n",
       "      <th>3</th>\n",
       "      <td>65</td>\n",
       "      <td>20180209</td>\n",
       "      <td>M</td>\n",
       "      <td>389bc3fa690240e798340f5a15918d5c</td>\n",
       "      <td>53000.0</td>\n",
       "    </tr>\n",
       "    <tr>\n",
       "      <th>4</th>\n",
       "      <td>58</td>\n",
       "      <td>20171111</td>\n",
       "      <td>M</td>\n",
       "      <td>2eeac8d8feae4a8cad5a6af0499a211d</td>\n",
       "      <td>51000.0</td>\n",
       "    </tr>\n",
       "    <tr>\n",
       "      <th>5</th>\n",
       "      <td>61</td>\n",
       "      <td>20170911</td>\n",
       "      <td>F</td>\n",
       "      <td>aa4862eba776480b8bb9c68455b8c2e1</td>\n",
       "      <td>57000.0</td>\n",
       "    </tr>\n",
       "    <tr>\n",
       "      <th>6</th>\n",
       "      <td>26</td>\n",
       "      <td>20140213</td>\n",
       "      <td>M</td>\n",
       "      <td>e12aeaf2d47d42479ea1c4ac3d8286c6</td>\n",
       "      <td>46000.0</td>\n",
       "    </tr>\n",
       "    <tr>\n",
       "      <th>7</th>\n",
       "      <td>62</td>\n",
       "      <td>20160211</td>\n",
       "      <td>F</td>\n",
       "      <td>31dda685af34476cad5bc968bdb01c53</td>\n",
       "      <td>71000.0</td>\n",
       "    </tr>\n",
       "    <tr>\n",
       "      <th>8</th>\n",
       "      <td>49</td>\n",
       "      <td>20141113</td>\n",
       "      <td>M</td>\n",
       "      <td>62cf5e10845442329191fc246e7bcea3</td>\n",
       "      <td>52000.0</td>\n",
       "    </tr>\n",
       "    <tr>\n",
       "      <th>9</th>\n",
       "      <td>57</td>\n",
       "      <td>20171231</td>\n",
       "      <td>M</td>\n",
       "      <td>6445de3b47274c759400cd68131d91b4</td>\n",
       "      <td>42000.0</td>\n",
       "    </tr>\n",
       "    <tr>\n",
       "      <th>10</th>\n",
       "      <td>61</td>\n",
       "      <td>20180501</td>\n",
       "      <td>F</td>\n",
       "      <td>a448667f336b42c9a66fc5ffd5d73772</td>\n",
       "      <td>40000.0</td>\n",
       "    </tr>\n",
       "    <tr>\n",
       "      <th>11</th>\n",
       "      <td>40</td>\n",
       "      <td>20160504</td>\n",
       "      <td>F</td>\n",
       "      <td>440cf1fd7580490c971d8c651ed962af</td>\n",
       "      <td>71000.0</td>\n",
       "    </tr>\n",
       "    <tr>\n",
       "      <th>12</th>\n",
       "      <td>64</td>\n",
       "      <td>20170909</td>\n",
       "      <td>M</td>\n",
       "      <td>4b0da7e80e5945209a1fdddfe813dbe0</td>\n",
       "      <td>100000.0</td>\n",
       "    </tr>\n",
       "    <tr>\n",
       "      <th>13</th>\n",
       "      <td>78</td>\n",
       "      <td>20170616</td>\n",
       "      <td>F</td>\n",
       "      <td>c27e0d6ab72c455a8bb66d980963de60</td>\n",
       "      <td>71000.0</td>\n",
       "    </tr>\n",
       "    <tr>\n",
       "      <th>14</th>\n",
       "      <td>42</td>\n",
       "      <td>20130811</td>\n",
       "      <td>M</td>\n",
       "      <td>f806632c011441378d4646567f357a21</td>\n",
       "      <td>69000.0</td>\n",
       "    </tr>\n",
       "  </tbody>\n",
       "</table>"
      ],
      "text/plain": [
       "<IPython.core.display.HTML object>"
      ]
     },
     "metadata": {},
     "output_type": "display_data"
    },
    {
     "name": "stdout",
     "output_type": "stream",
     "text": [
      "2,175 customers are labeled invalid. This means 87.2% of our customers have valid input.\n"
     ]
    }
   ],
   "source": [
    "valid_customers = profile.loc[(profile['segment']=='o')]\n",
    "valid_customers = valid_customers.drop(columns=['invalid','segment'])\n",
    "valid_customers = valid_customers.reset_index(drop = True)\n",
    "display(HTML(valid_customers.iloc[0:15].to_html()))\n",
    "valid_customers.shape\n",
    "print(\"2,175 customers are labeled invalid. This means {}% of our customers have valid input.\".format(round(100*valid_customers.shape[0]/profile.shape[0],1)))"
   ]
  },
  {
   "cell_type": "markdown",
   "metadata": {},
   "source": [
    "# Spending Variables\n",
    "\n",
    "We will create 2 new variables in this dataset which represents the number of purchases during the period and the total amount spent. In order to develop these variables, we must extract them from the transactions in transcript.json."
   ]
  },
  {
   "cell_type": "code",
   "execution_count": 7,
   "metadata": {},
   "outputs": [
    {
     "name": "stdout",
     "output_type": "stream",
     "text": [
      "['offer received' 'offer viewed' 'transaction' 'offer completed']\n"
     ]
    }
   ],
   "source": [
    "#display(HTML(transcript.iloc[0:15].to_html()))\n",
    "print(transcript.event.unique())"
   ]
  },
  {
   "cell_type": "code",
   "execution_count": 8,
   "metadata": {},
   "outputs": [
    {
     "data": {
      "text/html": [
       "<table border=\"1\" class=\"dataframe\">\n",
       "  <thead>\n",
       "    <tr style=\"text-align: right;\">\n",
       "      <th></th>\n",
       "      <th>event</th>\n",
       "      <th>person</th>\n",
       "      <th>time</th>\n",
       "      <th>value</th>\n",
       "    </tr>\n",
       "  </thead>\n",
       "  <tbody>\n",
       "    <tr>\n",
       "      <th>0</th>\n",
       "      <td>transaction</td>\n",
       "      <td>02c083884c7d45b39cc68e1314fec56c</td>\n",
       "      <td>0</td>\n",
       "      <td>{'amount': 0.8300000000000001}</td>\n",
       "    </tr>\n",
       "    <tr>\n",
       "      <th>1</th>\n",
       "      <td>transaction</td>\n",
       "      <td>9fa9ae8f57894cc9a3b8a9bbe0fc1b2f</td>\n",
       "      <td>0</td>\n",
       "      <td>{'amount': 34.56}</td>\n",
       "    </tr>\n",
       "    <tr>\n",
       "      <th>2</th>\n",
       "      <td>transaction</td>\n",
       "      <td>54890f68699049c2a04d415abc25e717</td>\n",
       "      <td>0</td>\n",
       "      <td>{'amount': 13.23}</td>\n",
       "    </tr>\n",
       "    <tr>\n",
       "      <th>3</th>\n",
       "      <td>transaction</td>\n",
       "      <td>b2f1cd155b864803ad8334cdf13c4bd2</td>\n",
       "      <td>0</td>\n",
       "      <td>{'amount': 19.51}</td>\n",
       "    </tr>\n",
       "    <tr>\n",
       "      <th>4</th>\n",
       "      <td>transaction</td>\n",
       "      <td>fe97aa22dd3e48c8b143116a8403dd52</td>\n",
       "      <td>0</td>\n",
       "      <td>{'amount': 18.97}</td>\n",
       "    </tr>\n",
       "  </tbody>\n",
       "</table>"
      ],
      "text/plain": [
       "<IPython.core.display.HTML object>"
      ]
     },
     "metadata": {},
     "output_type": "display_data"
    }
   ],
   "source": [
    "transactions = transcript[transcript.event == 'transaction']\n",
    "transactions = transactions.reset_index(drop = True)\n",
    "display(HTML(transactions.iloc[0:5].to_html()))"
   ]
  },
  {
   "cell_type": "code",
   "execution_count": 9,
   "metadata": {},
   "outputs": [],
   "source": [
    "#cleaning up\n",
    "transcript = None"
   ]
  },
  {
   "cell_type": "markdown",
   "metadata": {},
   "source": [
    "To extract our features and compare the 2 dataframes, we need to transform this dataframe into a new dataframe with index of person (equal to the id in the profile data) and the column data equal to the amount of the purchase."
   ]
  },
  {
   "cell_type": "code",
   "execution_count": 10,
   "metadata": {},
   "outputs": [],
   "source": [
    "#create amount column\n",
    "transactions = pd.concat([transactions, pd.DataFrame((d for idx, d in transactions['value'].iteritems()))], axis=1)"
   ]
  },
  {
   "cell_type": "code",
   "execution_count": 11,
   "metadata": {},
   "outputs": [],
   "source": [
    "transactions['id'] = transactions['person']\n",
    "transactions = transactions.loc[:, ['id', 'amount']]"
   ]
  },
  {
   "cell_type": "code",
   "execution_count": 12,
   "metadata": {},
   "outputs": [
    {
     "data": {
      "text/html": [
       "<table border=\"1\" class=\"dataframe\">\n",
       "  <thead>\n",
       "    <tr style=\"text-align: right;\">\n",
       "      <th></th>\n",
       "      <th>id</th>\n",
       "      <th>amount</th>\n",
       "    </tr>\n",
       "  </thead>\n",
       "  <tbody>\n",
       "    <tr>\n",
       "      <th>0</th>\n",
       "      <td>02c083884c7d45b39cc68e1314fec56c</td>\n",
       "      <td>0.83</td>\n",
       "    </tr>\n",
       "    <tr>\n",
       "      <th>1</th>\n",
       "      <td>9fa9ae8f57894cc9a3b8a9bbe0fc1b2f</td>\n",
       "      <td>34.56</td>\n",
       "    </tr>\n",
       "    <tr>\n",
       "      <th>2</th>\n",
       "      <td>54890f68699049c2a04d415abc25e717</td>\n",
       "      <td>13.23</td>\n",
       "    </tr>\n",
       "    <tr>\n",
       "      <th>3</th>\n",
       "      <td>b2f1cd155b864803ad8334cdf13c4bd2</td>\n",
       "      <td>19.51</td>\n",
       "    </tr>\n",
       "    <tr>\n",
       "      <th>4</th>\n",
       "      <td>fe97aa22dd3e48c8b143116a8403dd52</td>\n",
       "      <td>18.97</td>\n",
       "    </tr>\n",
       "  </tbody>\n",
       "</table>"
      ],
      "text/plain": [
       "<IPython.core.display.HTML object>"
      ]
     },
     "metadata": {},
     "output_type": "display_data"
    },
    {
     "name": "stdout",
     "output_type": "stream",
     "text": [
      "(138953, 2)\n"
     ]
    }
   ],
   "source": [
    "display(HTML(transactions.iloc[0:5].to_html()))\n",
    "print(transactions.shape)"
   ]
  },
  {
   "cell_type": "code",
   "execution_count": 13,
   "metadata": {},
   "outputs": [],
   "source": [
    "transaction_counts = transactions.groupby(['id']).count()\n",
    "amount_purchased = transactions.groupby(['id']).sum()\n",
    "transaction_counts = transaction_counts.rename(columns={'amount':'num purchases'})\n",
    "amount_purchased = amount_purchased.rename(columns={'amount':'total amount purchased'})"
   ]
  },
  {
   "cell_type": "code",
   "execution_count": 14,
   "metadata": {},
   "outputs": [],
   "source": [
    "spending_features = pd.concat([transaction_counts, amount_purchased], axis=1)"
   ]
  },
  {
   "cell_type": "code",
   "execution_count": 15,
   "metadata": {},
   "outputs": [],
   "source": [
    "#cleaning up\n",
    "transaction_counts = amount_purchased = None"
   ]
  },
  {
   "cell_type": "code",
   "execution_count": 16,
   "metadata": {},
   "outputs": [
    {
     "data": {
      "text/html": [
       "<table border=\"1\" class=\"dataframe\">\n",
       "  <thead>\n",
       "    <tr style=\"text-align: right;\">\n",
       "      <th></th>\n",
       "      <th>num purchases</th>\n",
       "      <th>total amount purchased</th>\n",
       "    </tr>\n",
       "    <tr>\n",
       "      <th>id</th>\n",
       "      <th></th>\n",
       "      <th></th>\n",
       "    </tr>\n",
       "  </thead>\n",
       "  <tbody>\n",
       "    <tr>\n",
       "      <th>0009655768c64bdeb2e877511632db8f</th>\n",
       "      <td>8</td>\n",
       "      <td>127.60</td>\n",
       "    </tr>\n",
       "    <tr>\n",
       "      <th>00116118485d4dfda04fdbaba9a87b5c</th>\n",
       "      <td>3</td>\n",
       "      <td>4.09</td>\n",
       "    </tr>\n",
       "    <tr>\n",
       "      <th>0011e0d4e6b944f998e987f904e8c1e5</th>\n",
       "      <td>5</td>\n",
       "      <td>79.46</td>\n",
       "    </tr>\n",
       "    <tr>\n",
       "      <th>0020c2b971eb4e9188eac86d93036a77</th>\n",
       "      <td>8</td>\n",
       "      <td>196.86</td>\n",
       "    </tr>\n",
       "    <tr>\n",
       "      <th>0020ccbbb6d84e358d3414a3ff76cffd</th>\n",
       "      <td>12</td>\n",
       "      <td>154.05</td>\n",
       "    </tr>\n",
       "  </tbody>\n",
       "</table>"
      ],
      "text/plain": [
       "<IPython.core.display.HTML object>"
      ]
     },
     "metadata": {},
     "output_type": "display_data"
    }
   ],
   "source": [
    "display(HTML(spending_features.iloc[0:5].to_html()))"
   ]
  },
  {
   "cell_type": "code",
   "execution_count": 17,
   "metadata": {},
   "outputs": [
    {
     "data": {
      "text/html": [
       "<div>\n",
       "<style scoped>\n",
       "    .dataframe tbody tr th:only-of-type {\n",
       "        vertical-align: middle;\n",
       "    }\n",
       "\n",
       "    .dataframe tbody tr th {\n",
       "        vertical-align: top;\n",
       "    }\n",
       "\n",
       "    .dataframe thead th {\n",
       "        text-align: right;\n",
       "    }\n",
       "</style>\n",
       "<table border=\"1\" class=\"dataframe\">\n",
       "  <thead>\n",
       "    <tr style=\"text-align: right;\">\n",
       "      <th></th>\n",
       "      <th>num purchases</th>\n",
       "      <th>total amount purchased</th>\n",
       "    </tr>\n",
       "  </thead>\n",
       "  <tbody>\n",
       "    <tr>\n",
       "      <th>count</th>\n",
       "      <td>16578.000000</td>\n",
       "      <td>16578.000000</td>\n",
       "    </tr>\n",
       "    <tr>\n",
       "      <th>mean</th>\n",
       "      <td>8.381771</td>\n",
       "      <td>107.096874</td>\n",
       "    </tr>\n",
       "    <tr>\n",
       "      <th>std</th>\n",
       "      <td>5.009822</td>\n",
       "      <td>126.393939</td>\n",
       "    </tr>\n",
       "    <tr>\n",
       "      <th>min</th>\n",
       "      <td>1.000000</td>\n",
       "      <td>0.050000</td>\n",
       "    </tr>\n",
       "    <tr>\n",
       "      <th>25%</th>\n",
       "      <td>5.000000</td>\n",
       "      <td>23.682500</td>\n",
       "    </tr>\n",
       "    <tr>\n",
       "      <th>50%</th>\n",
       "      <td>7.000000</td>\n",
       "      <td>72.410000</td>\n",
       "    </tr>\n",
       "    <tr>\n",
       "      <th>75%</th>\n",
       "      <td>11.000000</td>\n",
       "      <td>150.937500</td>\n",
       "    </tr>\n",
       "    <tr>\n",
       "      <th>max</th>\n",
       "      <td>36.000000</td>\n",
       "      <td>1608.690000</td>\n",
       "    </tr>\n",
       "  </tbody>\n",
       "</table>\n",
       "</div>"
      ],
      "text/plain": [
       "       num purchases  total amount purchased\n",
       "count   16578.000000            16578.000000\n",
       "mean        8.381771              107.096874\n",
       "std         5.009822              126.393939\n",
       "min         1.000000                0.050000\n",
       "25%         5.000000               23.682500\n",
       "50%         7.000000               72.410000\n",
       "75%        11.000000              150.937500\n",
       "max        36.000000             1608.690000"
      ]
     },
     "execution_count": 17,
     "metadata": {},
     "output_type": "execute_result"
    }
   ],
   "source": [
    "spending_features.describe()"
   ]
  },
  {
   "cell_type": "code",
   "execution_count": 18,
   "metadata": {},
   "outputs": [
    {
     "data": {
      "text/html": [
       "<table border=\"1\" class=\"dataframe\">\n",
       "  <thead>\n",
       "    <tr style=\"text-align: right;\">\n",
       "      <th></th>\n",
       "      <th>num purchases</th>\n",
       "      <th>total amount purchased</th>\n",
       "    </tr>\n",
       "    <tr>\n",
       "      <th>id</th>\n",
       "      <th></th>\n",
       "      <th></th>\n",
       "    </tr>\n",
       "  </thead>\n",
       "  <tbody>\n",
       "    <tr>\n",
       "      <th>3c8d541112a74af99e88abbd0692f00e</th>\n",
       "      <td>8</td>\n",
       "      <td>1608.69</td>\n",
       "    </tr>\n",
       "    <tr>\n",
       "      <th>f1d65ae63f174b8f80fa063adcaa63b7</th>\n",
       "      <td>13</td>\n",
       "      <td>1365.66</td>\n",
       "    </tr>\n",
       "    <tr>\n",
       "      <th>ae6f43089b674728a50b8727252d3305</th>\n",
       "      <td>16</td>\n",
       "      <td>1327.74</td>\n",
       "    </tr>\n",
       "    <tr>\n",
       "      <th>626df8678e2a4953b9098246418c9cfa</th>\n",
       "      <td>13</td>\n",
       "      <td>1321.42</td>\n",
       "    </tr>\n",
       "    <tr>\n",
       "      <th>73afdeca19e349b98f09e928644610f8</th>\n",
       "      <td>10</td>\n",
       "      <td>1319.97</td>\n",
       "    </tr>\n",
       "  </tbody>\n",
       "</table>"
      ],
      "text/plain": [
       "<IPython.core.display.HTML object>"
      ]
     },
     "metadata": {},
     "output_type": "display_data"
    },
    {
     "data": {
      "text/html": [
       "<table border=\"1\" class=\"dataframe\">\n",
       "  <thead>\n",
       "    <tr style=\"text-align: right;\">\n",
       "      <th></th>\n",
       "      <th>num purchases</th>\n",
       "      <th>total amount purchased</th>\n",
       "    </tr>\n",
       "    <tr>\n",
       "      <th>id</th>\n",
       "      <th></th>\n",
       "      <th></th>\n",
       "    </tr>\n",
       "  </thead>\n",
       "  <tbody>\n",
       "    <tr>\n",
       "      <th>c65086b345504ed398ffa2ed28e13d51</th>\n",
       "      <td>1</td>\n",
       "      <td>0.13</td>\n",
       "    </tr>\n",
       "    <tr>\n",
       "      <th>37ca07481c124d98ac1eaca5ee1f4146</th>\n",
       "      <td>1</td>\n",
       "      <td>0.10</td>\n",
       "    </tr>\n",
       "    <tr>\n",
       "      <th>11d87e606c2f4d649fe09a5e84d048c2</th>\n",
       "      <td>1</td>\n",
       "      <td>0.05</td>\n",
       "    </tr>\n",
       "    <tr>\n",
       "      <th>4828b93dd6dd44eb9ec8417f0564a9b9</th>\n",
       "      <td>1</td>\n",
       "      <td>0.05</td>\n",
       "    </tr>\n",
       "    <tr>\n",
       "      <th>fc3444ae44044a218e160522f7de8d8d</th>\n",
       "      <td>1</td>\n",
       "      <td>0.05</td>\n",
       "    </tr>\n",
       "  </tbody>\n",
       "</table>"
      ],
      "text/plain": [
       "<IPython.core.display.HTML object>"
      ]
     },
     "metadata": {},
     "output_type": "display_data"
    }
   ],
   "source": [
    "sorted_spending = spending_features.sort_values(by=['total amount purchased'], ascending=False)\n",
    "display(HTML(sorted_spending.iloc[0:5].to_html()))\n",
    "display(HTML(sorted_spending.iloc[-6:-1].to_html()))"
   ]
  },
  {
   "cell_type": "markdown",
   "metadata": {},
   "source": [
    "There seem to be very high and very low purchases, however there are similar entries so it should not be assumed that any of the amounts are erroneous. "
   ]
  },
  {
   "cell_type": "markdown",
   "metadata": {},
   "source": [
    "Since a higher count of purchases may be correlated with a total amount purchased, we will create a 3rd feature to replace total amount purchased, amount per purchase."
   ]
  },
  {
   "cell_type": "code",
   "execution_count": 19,
   "metadata": {},
   "outputs": [
    {
     "data": {
      "text/html": [
       "<style  type=\"text/css\" >\n",
       "    #T_6a95dff8_93b1_11ea_8aaf_06c471c406f4row0_col0 {\n",
       "            background-color:  #b40426;\n",
       "            color:  #f1f1f1;\n",
       "        }    #T_6a95dff8_93b1_11ea_8aaf_06c471c406f4row0_col1 {\n",
       "            background-color:  #3b4cc0;\n",
       "            color:  #f1f1f1;\n",
       "        }    #T_6a95dff8_93b1_11ea_8aaf_06c471c406f4row1_col0 {\n",
       "            background-color:  #3b4cc0;\n",
       "            color:  #f1f1f1;\n",
       "        }    #T_6a95dff8_93b1_11ea_8aaf_06c471c406f4row1_col1 {\n",
       "            background-color:  #b40426;\n",
       "            color:  #f1f1f1;\n",
       "        }</style><table id=\"T_6a95dff8_93b1_11ea_8aaf_06c471c406f4\" ><thead>    <tr>        <th class=\"blank level0\" ></th>        <th class=\"col_heading level0 col0\" >num purchases</th>        <th class=\"col_heading level0 col1\" >total amount purchased</th>    </tr></thead><tbody>\n",
       "                <tr>\n",
       "                        <th id=\"T_6a95dff8_93b1_11ea_8aaf_06c471c406f4level0_row0\" class=\"row_heading level0 row0\" >num purchases</th>\n",
       "                        <td id=\"T_6a95dff8_93b1_11ea_8aaf_06c471c406f4row0_col0\" class=\"data row0 col0\" >1</td>\n",
       "                        <td id=\"T_6a95dff8_93b1_11ea_8aaf_06c471c406f4row0_col1\" class=\"data row0 col1\" >0.331584</td>\n",
       "            </tr>\n",
       "            <tr>\n",
       "                        <th id=\"T_6a95dff8_93b1_11ea_8aaf_06c471c406f4level0_row1\" class=\"row_heading level0 row1\" >total amount purchased</th>\n",
       "                        <td id=\"T_6a95dff8_93b1_11ea_8aaf_06c471c406f4row1_col0\" class=\"data row1 col0\" >0.331584</td>\n",
       "                        <td id=\"T_6a95dff8_93b1_11ea_8aaf_06c471c406f4row1_col1\" class=\"data row1 col1\" >1</td>\n",
       "            </tr>\n",
       "    </tbody></table>"
      ],
      "text/plain": [
       "<pandas.io.formats.style.Styler at 0x7f900f8421d0>"
      ]
     },
     "execution_count": 19,
     "metadata": {},
     "output_type": "execute_result"
    }
   ],
   "source": [
    "corr = spending_features.corr()\n",
    "corr.style.background_gradient(cmap='coolwarm')"
   ]
  },
  {
   "cell_type": "code",
   "execution_count": 20,
   "metadata": {},
   "outputs": [
    {
     "data": {
      "text/html": [
       "<style  type=\"text/css\" >\n",
       "    #T_6a99e71a_93b1_11ea_8aaf_06c471c406f4row0_col0 {\n",
       "            background-color:  #b40426;\n",
       "            color:  #f1f1f1;\n",
       "        }    #T_6a99e71a_93b1_11ea_8aaf_06c471c406f4row0_col1 {\n",
       "            background-color:  #3b4cc0;\n",
       "            color:  #f1f1f1;\n",
       "        }    #T_6a99e71a_93b1_11ea_8aaf_06c471c406f4row0_col2 {\n",
       "            background-color:  #3b4cc0;\n",
       "            color:  #f1f1f1;\n",
       "        }    #T_6a99e71a_93b1_11ea_8aaf_06c471c406f4row1_col0 {\n",
       "            background-color:  #bcd2f7;\n",
       "            color:  #000000;\n",
       "        }    #T_6a99e71a_93b1_11ea_8aaf_06c471c406f4row1_col1 {\n",
       "            background-color:  #b40426;\n",
       "            color:  #f1f1f1;\n",
       "        }    #T_6a99e71a_93b1_11ea_8aaf_06c471c406f4row1_col2 {\n",
       "            background-color:  #ef886b;\n",
       "            color:  #000000;\n",
       "        }    #T_6a99e71a_93b1_11ea_8aaf_06c471c406f4row2_col0 {\n",
       "            background-color:  #3b4cc0;\n",
       "            color:  #f1f1f1;\n",
       "        }    #T_6a99e71a_93b1_11ea_8aaf_06c471c406f4row2_col1 {\n",
       "            background-color:  #f7ba9f;\n",
       "            color:  #000000;\n",
       "        }    #T_6a99e71a_93b1_11ea_8aaf_06c471c406f4row2_col2 {\n",
       "            background-color:  #b40426;\n",
       "            color:  #f1f1f1;\n",
       "        }</style><table id=\"T_6a99e71a_93b1_11ea_8aaf_06c471c406f4\" ><thead>    <tr>        <th class=\"blank level0\" ></th>        <th class=\"col_heading level0 col0\" >num purchases</th>        <th class=\"col_heading level0 col1\" >total amount purchased</th>        <th class=\"col_heading level0 col2\" >amount per purchase</th>    </tr></thead><tbody>\n",
       "                <tr>\n",
       "                        <th id=\"T_6a99e71a_93b1_11ea_8aaf_06c471c406f4level0_row0\" class=\"row_heading level0 row0\" >num purchases</th>\n",
       "                        <td id=\"T_6a99e71a_93b1_11ea_8aaf_06c471c406f4row0_col0\" class=\"data row0 col0\" >1</td>\n",
       "                        <td id=\"T_6a99e71a_93b1_11ea_8aaf_06c471c406f4row0_col1\" class=\"data row0 col1\" >0.331584</td>\n",
       "                        <td id=\"T_6a99e71a_93b1_11ea_8aaf_06c471c406f4row0_col2\" class=\"data row0 col2\" >-0.0940862</td>\n",
       "            </tr>\n",
       "            <tr>\n",
       "                        <th id=\"T_6a99e71a_93b1_11ea_8aaf_06c471c406f4level0_row1\" class=\"row_heading level0 row1\" >total amount purchased</th>\n",
       "                        <td id=\"T_6a99e71a_93b1_11ea_8aaf_06c471c406f4row1_col0\" class=\"data row1 col0\" >0.331584</td>\n",
       "                        <td id=\"T_6a99e71a_93b1_11ea_8aaf_06c471c406f4row1_col1\" class=\"data row1 col1\" >1</td>\n",
       "                        <td id=\"T_6a99e71a_93b1_11ea_8aaf_06c471c406f4row1_col2\" class=\"data row1 col2\" >0.772835</td>\n",
       "            </tr>\n",
       "            <tr>\n",
       "                        <th id=\"T_6a99e71a_93b1_11ea_8aaf_06c471c406f4level0_row2\" class=\"row_heading level0 row2\" >amount per purchase</th>\n",
       "                        <td id=\"T_6a99e71a_93b1_11ea_8aaf_06c471c406f4row2_col0\" class=\"data row2 col0\" >-0.0940862</td>\n",
       "                        <td id=\"T_6a99e71a_93b1_11ea_8aaf_06c471c406f4row2_col1\" class=\"data row2 col1\" >0.772835</td>\n",
       "                        <td id=\"T_6a99e71a_93b1_11ea_8aaf_06c471c406f4row2_col2\" class=\"data row2 col2\" >1</td>\n",
       "            </tr>\n",
       "    </tbody></table>"
      ],
      "text/plain": [
       "<pandas.io.formats.style.Styler at 0x7f900f842fd0>"
      ]
     },
     "execution_count": 20,
     "metadata": {},
     "output_type": "execute_result"
    }
   ],
   "source": [
    "spending_features['amount per purchase'] = spending_features['total amount purchased']/spending_features['num purchases']\n",
    "corr = spending_features.corr()\n",
    "corr.style.background_gradient(cmap='coolwarm')"
   ]
  },
  {
   "cell_type": "code",
   "execution_count": 21,
   "metadata": {},
   "outputs": [],
   "source": [
    "spending_features = spending_features.drop(columns = 'total amount purchased')"
   ]
  },
  {
   "cell_type": "markdown",
   "metadata": {},
   "source": [
    "# Cleaning Customer Data\n",
    "\n",
    "For the remaining data, we need to clean the features as follows: \n",
    "\n",
    "became_member_on: in order for this feature to be usable, we will convert it to an integer by comparing the date vs. the newest customer. We will then create a new variable called age of account where the newest customer has a value of 0 and all others have an integer value representing the age of the account in months versus the newest customer.\n",
    "\n",
    "income: should be integer instead of float. Additionally, we will convert units to thousands to make it more readable.\n",
    "\n",
    "age: no change\n",
    "\n",
    "id: set index to id.\n",
    "\n",
    "num purchases & total amount purhcased: import features from spending_features dataframe.\n",
    "\n",
    "gender: examine frequency and separate datasets if necessary. PCA requires numerical inputs and gender cannot be transformed into a nmber that would generate useful results."
   ]
  },
  {
   "cell_type": "code",
   "execution_count": 22,
   "metadata": {},
   "outputs": [],
   "source": [
    "valid_customers['became_member_on'] = pd.to_datetime(valid_customers['became_member_on'], format='%Y%m%d', errors='ignore')"
   ]
  },
  {
   "cell_type": "code",
   "execution_count": 23,
   "metadata": {},
   "outputs": [],
   "source": [
    "#Newest Customer\n",
    "newest_customer = max(valid_customers['became_member_on'])"
   ]
  },
  {
   "cell_type": "code",
   "execution_count": 24,
   "metadata": {},
   "outputs": [],
   "source": [
    "valid_customers['age of account'] = (newest_customer - valid_customers['became_member_on']).astype('timedelta64[M]')\n",
    "#(df.fr-df.to).astype('timedelta64[h]')\n",
    "valid_customers['age of account'] = valid_customers['age of account'].astype(int)\n",
    "valid_customers = valid_customers.drop(columns = 'became_member_on')"
   ]
  },
  {
   "cell_type": "code",
   "execution_count": 25,
   "metadata": {},
   "outputs": [],
   "source": [
    "valid_customers['income'] = valid_customers['income']/1000\n",
    "valid_customers['income'] = valid_customers.income.astype(int)"
   ]
  },
  {
   "cell_type": "code",
   "execution_count": 26,
   "metadata": {},
   "outputs": [],
   "source": [
    "valid_customers.index = valid_customers['id']\n",
    "valid_customers = valid_customers.drop(columns = 'id')"
   ]
  },
  {
   "cell_type": "code",
   "execution_count": 27,
   "metadata": {},
   "outputs": [
    {
     "data": {
      "text/html": [
       "<table border=\"1\" class=\"dataframe\">\n",
       "  <thead>\n",
       "    <tr style=\"text-align: right;\">\n",
       "      <th></th>\n",
       "      <th>age</th>\n",
       "      <th>gender</th>\n",
       "      <th>income</th>\n",
       "      <th>age of account</th>\n",
       "    </tr>\n",
       "    <tr>\n",
       "      <th>id</th>\n",
       "      <th></th>\n",
       "      <th></th>\n",
       "      <th></th>\n",
       "      <th></th>\n",
       "    </tr>\n",
       "  </thead>\n",
       "  <tbody>\n",
       "    <tr>\n",
       "      <th>0610b486422d4921ae7d2bf64640c50b</th>\n",
       "      <td>55</td>\n",
       "      <td>F</td>\n",
       "      <td>112</td>\n",
       "      <td>12</td>\n",
       "    </tr>\n",
       "    <tr>\n",
       "      <th>78afa995795e4d85b5d9ceeca43f5fef</th>\n",
       "      <td>75</td>\n",
       "      <td>F</td>\n",
       "      <td>100</td>\n",
       "      <td>14</td>\n",
       "    </tr>\n",
       "    <tr>\n",
       "      <th>e2127556f4f64592b11af22de27a7932</th>\n",
       "      <td>68</td>\n",
       "      <td>M</td>\n",
       "      <td>70</td>\n",
       "      <td>2</td>\n",
       "    </tr>\n",
       "    <tr>\n",
       "      <th>389bc3fa690240e798340f5a15918d5c</th>\n",
       "      <td>65</td>\n",
       "      <td>M</td>\n",
       "      <td>53</td>\n",
       "      <td>5</td>\n",
       "    </tr>\n",
       "    <tr>\n",
       "      <th>2eeac8d8feae4a8cad5a6af0499a211d</th>\n",
       "      <td>58</td>\n",
       "      <td>M</td>\n",
       "      <td>51</td>\n",
       "      <td>8</td>\n",
       "    </tr>\n",
       "    <tr>\n",
       "      <th>aa4862eba776480b8bb9c68455b8c2e1</th>\n",
       "      <td>61</td>\n",
       "      <td>F</td>\n",
       "      <td>57</td>\n",
       "      <td>10</td>\n",
       "    </tr>\n",
       "    <tr>\n",
       "      <th>e12aeaf2d47d42479ea1c4ac3d8286c6</th>\n",
       "      <td>26</td>\n",
       "      <td>M</td>\n",
       "      <td>46</td>\n",
       "      <td>53</td>\n",
       "    </tr>\n",
       "    <tr>\n",
       "      <th>31dda685af34476cad5bc968bdb01c53</th>\n",
       "      <td>62</td>\n",
       "      <td>F</td>\n",
       "      <td>71</td>\n",
       "      <td>29</td>\n",
       "    </tr>\n",
       "    <tr>\n",
       "      <th>62cf5e10845442329191fc246e7bcea3</th>\n",
       "      <td>49</td>\n",
       "      <td>M</td>\n",
       "      <td>52</td>\n",
       "      <td>44</td>\n",
       "    </tr>\n",
       "    <tr>\n",
       "      <th>6445de3b47274c759400cd68131d91b4</th>\n",
       "      <td>57</td>\n",
       "      <td>M</td>\n",
       "      <td>42</td>\n",
       "      <td>6</td>\n",
       "    </tr>\n",
       "  </tbody>\n",
       "</table>"
      ],
      "text/plain": [
       "<IPython.core.display.HTML object>"
      ]
     },
     "metadata": {},
     "output_type": "display_data"
    }
   ],
   "source": [
    "display(HTML(valid_customers.iloc[0:10].to_html()))"
   ]
  },
  {
   "cell_type": "code",
   "execution_count": 28,
   "metadata": {},
   "outputs": [
    {
     "data": {
      "text/html": [
       "<table border=\"1\" class=\"dataframe\">\n",
       "  <thead>\n",
       "    <tr style=\"text-align: right;\">\n",
       "      <th></th>\n",
       "      <th>age</th>\n",
       "      <th>gender</th>\n",
       "      <th>income</th>\n",
       "      <th>age of account</th>\n",
       "      <th>num purchases</th>\n",
       "      <th>amount per purchase</th>\n",
       "    </tr>\n",
       "    <tr>\n",
       "      <th>id</th>\n",
       "      <th></th>\n",
       "      <th></th>\n",
       "      <th></th>\n",
       "      <th></th>\n",
       "      <th></th>\n",
       "      <th></th>\n",
       "    </tr>\n",
       "  </thead>\n",
       "  <tbody>\n",
       "    <tr>\n",
       "      <th>0610b486422d4921ae7d2bf64640c50b</th>\n",
       "      <td>55</td>\n",
       "      <td>F</td>\n",
       "      <td>112</td>\n",
       "      <td>12</td>\n",
       "      <td>3.0</td>\n",
       "      <td>25.670000</td>\n",
       "    </tr>\n",
       "    <tr>\n",
       "      <th>78afa995795e4d85b5d9ceeca43f5fef</th>\n",
       "      <td>75</td>\n",
       "      <td>F</td>\n",
       "      <td>100</td>\n",
       "      <td>14</td>\n",
       "      <td>7.0</td>\n",
       "      <td>22.752857</td>\n",
       "    </tr>\n",
       "    <tr>\n",
       "      <th>e2127556f4f64592b11af22de27a7932</th>\n",
       "      <td>68</td>\n",
       "      <td>M</td>\n",
       "      <td>70</td>\n",
       "      <td>2</td>\n",
       "      <td>3.0</td>\n",
       "      <td>19.243333</td>\n",
       "    </tr>\n",
       "    <tr>\n",
       "      <th>389bc3fa690240e798340f5a15918d5c</th>\n",
       "      <td>65</td>\n",
       "      <td>M</td>\n",
       "      <td>53</td>\n",
       "      <td>5</td>\n",
       "      <td>3.0</td>\n",
       "      <td>12.143333</td>\n",
       "    </tr>\n",
       "    <tr>\n",
       "      <th>2eeac8d8feae4a8cad5a6af0499a211d</th>\n",
       "      <td>58</td>\n",
       "      <td>M</td>\n",
       "      <td>51</td>\n",
       "      <td>8</td>\n",
       "      <td>4.0</td>\n",
       "      <td>3.905000</td>\n",
       "    </tr>\n",
       "    <tr>\n",
       "      <th>aa4862eba776480b8bb9c68455b8c2e1</th>\n",
       "      <td>61</td>\n",
       "      <td>F</td>\n",
       "      <td>57</td>\n",
       "      <td>10</td>\n",
       "      <td>6.0</td>\n",
       "      <td>14.258333</td>\n",
       "    </tr>\n",
       "    <tr>\n",
       "      <th>e12aeaf2d47d42479ea1c4ac3d8286c6</th>\n",
       "      <td>26</td>\n",
       "      <td>M</td>\n",
       "      <td>46</td>\n",
       "      <td>53</td>\n",
       "      <td>11.0</td>\n",
       "      <td>5.110909</td>\n",
       "    </tr>\n",
       "    <tr>\n",
       "      <th>31dda685af34476cad5bc968bdb01c53</th>\n",
       "      <td>62</td>\n",
       "      <td>F</td>\n",
       "      <td>71</td>\n",
       "      <td>29</td>\n",
       "      <td>8.0</td>\n",
       "      <td>20.031250</td>\n",
       "    </tr>\n",
       "    <tr>\n",
       "      <th>62cf5e10845442329191fc246e7bcea3</th>\n",
       "      <td>49</td>\n",
       "      <td>M</td>\n",
       "      <td>52</td>\n",
       "      <td>44</td>\n",
       "      <td>9.0</td>\n",
       "      <td>16.012222</td>\n",
       "    </tr>\n",
       "    <tr>\n",
       "      <th>6445de3b47274c759400cd68131d91b4</th>\n",
       "      <td>57</td>\n",
       "      <td>M</td>\n",
       "      <td>42</td>\n",
       "      <td>6</td>\n",
       "      <td>6.0</td>\n",
       "      <td>3.183333</td>\n",
       "    </tr>\n",
       "  </tbody>\n",
       "</table>"
      ],
      "text/plain": [
       "<IPython.core.display.HTML object>"
      ]
     },
     "metadata": {},
     "output_type": "display_data"
    }
   ],
   "source": [
    "#import features from spending_features\n",
    "\n",
    "valid_customers = valid_customers.join(spending_features, how='left')\n",
    "display(HTML(valid_customers.iloc[0:10].to_html()))"
   ]
  },
  {
   "cell_type": "code",
   "execution_count": 29,
   "metadata": {},
   "outputs": [
    {
     "data": {
      "text/plain": [
       "(333, 6)"
      ]
     },
     "execution_count": 29,
     "metadata": {},
     "output_type": "execute_result"
    }
   ],
   "source": [
    "valid_customers.loc[(valid_customers['num purchases'].isnull())].shape"
   ]
  },
  {
   "cell_type": "markdown",
   "metadata": {},
   "source": [
    "333 customers have not made any purchases! Logically, we cannot determine the effect of a promotion on these customers since they are not making any purchases, regardless of the existence of any type of promotion. Perhaps these are customers who moved away, lost their phone, or were instructed by their doctor's to give up caffeine. In any case, we will remove these customers from our dataset."
   ]
  },
  {
   "cell_type": "code",
   "execution_count": 30,
   "metadata": {},
   "outputs": [],
   "source": [
    "valid_customers = valid_customers.loc[(valid_customers['num purchases'].notnull())]\n",
    "valid_customers['num purchases'] = valid_customers['num purchases'].astype(int)"
   ]
  },
  {
   "cell_type": "markdown",
   "metadata": {},
   "source": [
    "Let's check for outliers"
   ]
  },
  {
   "cell_type": "code",
   "execution_count": 31,
   "metadata": {},
   "outputs": [
    {
     "data": {
      "text/html": [
       "<div>\n",
       "<style scoped>\n",
       "    .dataframe tbody tr th:only-of-type {\n",
       "        vertical-align: middle;\n",
       "    }\n",
       "\n",
       "    .dataframe tbody tr th {\n",
       "        vertical-align: top;\n",
       "    }\n",
       "\n",
       "    .dataframe thead th {\n",
       "        text-align: right;\n",
       "    }\n",
       "</style>\n",
       "<table border=\"1\" class=\"dataframe\">\n",
       "  <thead>\n",
       "    <tr style=\"text-align: right;\">\n",
       "      <th></th>\n",
       "      <th>age</th>\n",
       "      <th>income</th>\n",
       "      <th>age of account</th>\n",
       "      <th>num purchases</th>\n",
       "      <th>amount per purchase</th>\n",
       "    </tr>\n",
       "  </thead>\n",
       "  <tbody>\n",
       "    <tr>\n",
       "      <th>count</th>\n",
       "      <td>14492.000000</td>\n",
       "      <td>14492.000000</td>\n",
       "      <td>14492.000000</td>\n",
       "      <td>14492.000000</td>\n",
       "      <td>14492.000000</td>\n",
       "    </tr>\n",
       "    <tr>\n",
       "      <th>mean</th>\n",
       "      <td>54.306100</td>\n",
       "      <td>65.218120</td>\n",
       "      <td>16.893458</td>\n",
       "      <td>8.553478</td>\n",
       "      <td>15.252287</td>\n",
       "    </tr>\n",
       "    <tr>\n",
       "      <th>std</th>\n",
       "      <td>17.434828</td>\n",
       "      <td>21.599247</td>\n",
       "      <td>13.803784</td>\n",
       "      <td>5.082696</td>\n",
       "      <td>16.543371</td>\n",
       "    </tr>\n",
       "    <tr>\n",
       "      <th>min</th>\n",
       "      <td>18.000000</td>\n",
       "      <td>30.000000</td>\n",
       "      <td>0.000000</td>\n",
       "      <td>1.000000</td>\n",
       "      <td>0.150000</td>\n",
       "    </tr>\n",
       "    <tr>\n",
       "      <th>25%</th>\n",
       "      <td>42.000000</td>\n",
       "      <td>49.000000</td>\n",
       "      <td>6.000000</td>\n",
       "      <td>5.000000</td>\n",
       "      <td>3.890833</td>\n",
       "    </tr>\n",
       "    <tr>\n",
       "      <th>50%</th>\n",
       "      <td>55.000000</td>\n",
       "      <td>63.000000</td>\n",
       "      <td>11.000000</td>\n",
       "      <td>7.000000</td>\n",
       "      <td>14.311214</td>\n",
       "    </tr>\n",
       "    <tr>\n",
       "      <th>75%</th>\n",
       "      <td>66.000000</td>\n",
       "      <td>79.000000</td>\n",
       "      <td>26.000000</td>\n",
       "      <td>11.000000</td>\n",
       "      <td>21.467625</td>\n",
       "    </tr>\n",
       "    <tr>\n",
       "      <th>max</th>\n",
       "      <td>101.000000</td>\n",
       "      <td>120.000000</td>\n",
       "      <td>59.000000</td>\n",
       "      <td>36.000000</td>\n",
       "      <td>451.470000</td>\n",
       "    </tr>\n",
       "  </tbody>\n",
       "</table>\n",
       "</div>"
      ],
      "text/plain": [
       "                age        income  age of account  num purchases  \\\n",
       "count  14492.000000  14492.000000    14492.000000   14492.000000   \n",
       "mean      54.306100     65.218120       16.893458       8.553478   \n",
       "std       17.434828     21.599247       13.803784       5.082696   \n",
       "min       18.000000     30.000000        0.000000       1.000000   \n",
       "25%       42.000000     49.000000        6.000000       5.000000   \n",
       "50%       55.000000     63.000000       11.000000       7.000000   \n",
       "75%       66.000000     79.000000       26.000000      11.000000   \n",
       "max      101.000000    120.000000       59.000000      36.000000   \n",
       "\n",
       "       amount per purchase  \n",
       "count         14492.000000  \n",
       "mean             15.252287  \n",
       "std              16.543371  \n",
       "min               0.150000  \n",
       "25%               3.890833  \n",
       "50%              14.311214  \n",
       "75%              21.467625  \n",
       "max             451.470000  "
      ]
     },
     "execution_count": 31,
     "metadata": {},
     "output_type": "execute_result"
    }
   ],
   "source": [
    "valid_customers.describe()"
   ]
  },
  {
   "cell_type": "code",
   "execution_count": null,
   "metadata": {},
   "outputs": [],
   "source": []
  },
  {
   "cell_type": "code",
   "execution_count": 32,
   "metadata": {},
   "outputs": [
    {
     "name": "stdout",
     "output_type": "stream",
     "text": [
      "5993 occurrences of gender F.\n",
      "8295 occurrences of gender M.\n",
      "204 occurrences of gender O.\n"
     ]
    }
   ],
   "source": [
    "genders = valid_customers.gender.unique()\n",
    "for gender in genders:\n",
    "    print(\"{} occurrences of gender {}.\".format(valid_customers[(valid_customers.gender == gender)].shape[0],gender))"
   ]
  },
  {
   "cell_type": "markdown",
   "metadata": {},
   "source": [
    "From a purely practical standpoint, gender O only represents 204 of the 17,000 customers, which is 1.2% of the total. This is too small to support segmentation, as segmentation would generate clusters less than 1% of the total. For this reason, it will not be considered in this analysis. However, if in the future it were to become a larger portion of the overall data then it should obviously be included in a future analysis. "
   ]
  },
  {
   "cell_type": "code",
   "execution_count": 33,
   "metadata": {},
   "outputs": [
    {
     "data": {
      "text/plain": [
       "0.012"
      ]
     },
     "execution_count": 33,
     "metadata": {},
     "output_type": "execute_result"
    }
   ],
   "source": [
    "204/17000"
   ]
  },
  {
   "cell_type": "code",
   "execution_count": 34,
   "metadata": {},
   "outputs": [],
   "source": [
    "valid_customers = valid_customers[valid_customers.gender != 'O']"
   ]
  },
  {
   "cell_type": "markdown",
   "metadata": {},
   "source": [
    "The remaining data will be split into different datasets for each gender. "
   ]
  },
  {
   "cell_type": "code",
   "execution_count": 35,
   "metadata": {},
   "outputs": [],
   "source": [
    "male_customers = valid_customers[valid_customers.gender == 'M']\n",
    "female_customers = valid_customers[valid_customers.gender == 'F']\n",
    "male_customers = male_customers.drop(columns = 'gender')\n",
    "female_customers = female_customers.drop(columns = 'gender')\n",
    "customers_dict = {'male':male_customers, \"female\":female_customers}"
   ]
  },
  {
   "cell_type": "markdown",
   "metadata": {},
   "source": [
    "This concludes our preprocessing. Now we need to save the data to be used in the next step."
   ]
  },
  {
   "cell_type": "code",
   "execution_count": 38,
   "metadata": {},
   "outputs": [],
   "source": [
    "import os\n",
    "\n",
    "def make_csv(data, filename, data_dir):\n",
    "    '''Merges features and labels and converts them into one csv file with labels in the first column.\n",
    "       :param x: Data features\n",
    "       :param y: Data labels\n",
    "       :param file_name: Name of csv file, ex. 'train.csv'\n",
    "       :param data_dir: The directory where files will be saved\n",
    "       '''\n",
    "    # make data dir, if it does not exist\n",
    "    if not os.path.exists(data_dir):\n",
    "        os.makedirs(data_dir)\n",
    "\n",
    "    df.to_csv(os.path.join(data_dir, filename), header=True, index=True)  \n",
    "    \n",
    "    # nothing is returned, but a print statement indicates that the function has run\n",
    "    print('Path created: '+str(data_dir)+'/'+str(filename))"
   ]
  },
  {
   "cell_type": "code",
   "execution_count": 39,
   "metadata": {},
   "outputs": [
    {
     "name": "stdout",
     "output_type": "stream",
     "text": [
      "Path created: preprocessed_data/male.csv\n",
      "Path created: preprocessed_data/female.csv\n"
     ]
    }
   ],
   "source": [
    "data_dir = 'preprocessed_data'\n",
    "for file_prefix, df in customers_dict.items():\n",
    "    make_csv(df,file_prefix+'.csv',data_dir)"
   ]
  },
  {
   "cell_type": "markdown",
   "metadata": {},
   "source": [
    "That concludes the preprocesing notebook. The next notebook is Customer Segmentation PCA and K-means."
   ]
  }
 ],
 "metadata": {
  "kernelspec": {
   "display_name": "conda_python3",
   "language": "python",
   "name": "conda_python3"
  },
  "language_info": {
   "codemirror_mode": {
    "name": "ipython",
    "version": 3
   },
   "file_extension": ".py",
   "mimetype": "text/x-python",
   "name": "python",
   "nbconvert_exporter": "python",
   "pygments_lexer": "ipython3",
   "version": "3.6.10"
  }
 },
 "nbformat": 4,
 "nbformat_minor": 4
}
