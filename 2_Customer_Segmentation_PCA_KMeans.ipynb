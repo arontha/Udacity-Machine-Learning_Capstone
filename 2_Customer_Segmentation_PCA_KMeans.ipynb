{
 "cells": [
  {
   "cell_type": "markdown",
   "metadata": {},
   "source": [
    "# Starbucks Capstone Challenge\n",
    "Notebook 2 of 4"
   ]
  },
  {
   "cell_type": "markdown",
   "metadata": {},
   "source": [
    "### Principal Components Analysis\n",
    "\n",
    "Now that our data is preprocessed into dataframes of numerical features, we are ready to begin a PCA to reduce the dimensions. Standard practice is to run the PCA with n-1 dimensions, which is what we will do here. The results of our PCA wiill be inputs into our k-means clustering of customer segments which will be the 2nd half of this notebook. "
   ]
  },
  {
   "cell_type": "code",
   "execution_count": 1,
   "metadata": {},
   "outputs": [
    {
     "name": "stdout",
     "output_type": "stream",
     "text": [
      "male_customers: 8295 rows and 5 columns\n",
      "female_customers: 5993 rows and 5 columns\n"
     ]
    }
   ],
   "source": [
    "import pandas as pd\n",
    "import numpy as np\n",
    "import math\n",
    "from IPython.display import display, HTML\n",
    "\n",
    "import matplotlib.pyplot as plt\n",
    "import matplotlib\n",
    "#% matplotlib inline\n",
    "\n",
    "prefix = 'preprocessed_data'\n",
    "\n",
    "def import_csvs(prefix, filename):\n",
    "    df = pd.read_csv(prefix + filename)\n",
    "    df.index = df['id']\n",
    "    df = df.drop(columns ='id')    \n",
    "    return df\n",
    "    \n",
    "male_customers = import_csvs(prefix,'/male.csv')\n",
    "female_customers = import_csvs(prefix,'/female.csv')\n",
    "\n",
    "print(\"male_customers: {} rows and {} columns\".format(male_customers.shape[0],male_customers.shape[1]))\n",
    "print(\"female_customers: {} rows and {} columns\".format(female_customers.shape[0],female_customers.shape[1]))"
   ]
  },
  {
   "cell_type": "markdown",
   "metadata": {},
   "source": [
    "Before continuing, we must **normalize** all of the data by scaling every value to fall on a range from 0-1 for each column. "
   ]
  },
  {
   "cell_type": "code",
   "execution_count": 2,
   "metadata": {},
   "outputs": [
    {
     "data": {
      "text/html": [
       "<table border=\"1\" class=\"dataframe\">\n",
       "  <thead>\n",
       "    <tr style=\"text-align: right;\">\n",
       "      <th></th>\n",
       "      <th>age</th>\n",
       "      <th>income</th>\n",
       "      <th>age of account</th>\n",
       "      <th>num purchases</th>\n",
       "      <th>amount per purchase</th>\n",
       "    </tr>\n",
       "    <tr>\n",
       "      <th>id</th>\n",
       "      <th></th>\n",
       "      <th></th>\n",
       "      <th></th>\n",
       "      <th></th>\n",
       "      <th></th>\n",
       "    </tr>\n",
       "  </thead>\n",
       "  <tbody>\n",
       "    <tr>\n",
       "      <th>e2127556f4f64592b11af22de27a7932</th>\n",
       "      <td>68</td>\n",
       "      <td>70</td>\n",
       "      <td>2</td>\n",
       "      <td>3</td>\n",
       "      <td>19.243333</td>\n",
       "    </tr>\n",
       "    <tr>\n",
       "      <th>389bc3fa690240e798340f5a15918d5c</th>\n",
       "      <td>65</td>\n",
       "      <td>53</td>\n",
       "      <td>5</td>\n",
       "      <td>3</td>\n",
       "      <td>12.143333</td>\n",
       "    </tr>\n",
       "    <tr>\n",
       "      <th>2eeac8d8feae4a8cad5a6af0499a211d</th>\n",
       "      <td>58</td>\n",
       "      <td>51</td>\n",
       "      <td>8</td>\n",
       "      <td>4</td>\n",
       "      <td>3.905000</td>\n",
       "    </tr>\n",
       "    <tr>\n",
       "      <th>e12aeaf2d47d42479ea1c4ac3d8286c6</th>\n",
       "      <td>26</td>\n",
       "      <td>46</td>\n",
       "      <td>53</td>\n",
       "      <td>11</td>\n",
       "      <td>5.110909</td>\n",
       "    </tr>\n",
       "    <tr>\n",
       "      <th>62cf5e10845442329191fc246e7bcea3</th>\n",
       "      <td>49</td>\n",
       "      <td>52</td>\n",
       "      <td>44</td>\n",
       "      <td>9</td>\n",
       "      <td>16.012222</td>\n",
       "    </tr>\n",
       "  </tbody>\n",
       "</table>"
      ],
      "text/plain": [
       "<IPython.core.display.HTML object>"
      ]
     },
     "metadata": {},
     "output_type": "display_data"
    }
   ],
   "source": [
    "display(HTML(male_customers.iloc[0:5].to_html()))"
   ]
  },
  {
   "cell_type": "code",
   "execution_count": 3,
   "metadata": {},
   "outputs": [],
   "source": [
    "# scale numerical features into a normalized range, 0-1\n",
    "from sklearn.preprocessing import MinMaxScaler\n",
    "\n",
    "def normalize_df(df):\n",
    "    scaler=MinMaxScaler()\n",
    "    df_scaled = pd.DataFrame(scaler.fit_transform(df.astype(float)))\n",
    "    df_scaled.columns=df.columns\n",
    "    df_scaled.index=df.index\n",
    "    return df_scaled"
   ]
  },
  {
   "cell_type": "code",
   "execution_count": 4,
   "metadata": {},
   "outputs": [
    {
     "data": {
      "text/html": [
       "<div>\n",
       "<style scoped>\n",
       "    .dataframe tbody tr th:only-of-type {\n",
       "        vertical-align: middle;\n",
       "    }\n",
       "\n",
       "    .dataframe tbody tr th {\n",
       "        vertical-align: top;\n",
       "    }\n",
       "\n",
       "    .dataframe thead th {\n",
       "        text-align: right;\n",
       "    }\n",
       "</style>\n",
       "<table border=\"1\" class=\"dataframe\">\n",
       "  <thead>\n",
       "    <tr style=\"text-align: right;\">\n",
       "      <th></th>\n",
       "      <th>age</th>\n",
       "      <th>income</th>\n",
       "      <th>age of account</th>\n",
       "      <th>num purchases</th>\n",
       "      <th>amount per purchase</th>\n",
       "    </tr>\n",
       "    <tr>\n",
       "      <th>id</th>\n",
       "      <th></th>\n",
       "      <th></th>\n",
       "      <th></th>\n",
       "      <th></th>\n",
       "      <th></th>\n",
       "    </tr>\n",
       "  </thead>\n",
       "  <tbody>\n",
       "    <tr>\n",
       "      <th>0610b486422d4921ae7d2bf64640c50b</th>\n",
       "      <td>0.445783</td>\n",
       "      <td>0.911111</td>\n",
       "      <td>0.203390</td>\n",
       "      <td>0.066667</td>\n",
       "      <td>0.056357</td>\n",
       "    </tr>\n",
       "    <tr>\n",
       "      <th>78afa995795e4d85b5d9ceeca43f5fef</th>\n",
       "      <td>0.686747</td>\n",
       "      <td>0.777778</td>\n",
       "      <td>0.237288</td>\n",
       "      <td>0.200000</td>\n",
       "      <td>0.049892</td>\n",
       "    </tr>\n",
       "    <tr>\n",
       "      <th>aa4862eba776480b8bb9c68455b8c2e1</th>\n",
       "      <td>0.518072</td>\n",
       "      <td>0.300000</td>\n",
       "      <td>0.169492</td>\n",
       "      <td>0.166667</td>\n",
       "      <td>0.031067</td>\n",
       "    </tr>\n",
       "    <tr>\n",
       "      <th>31dda685af34476cad5bc968bdb01c53</th>\n",
       "      <td>0.530120</td>\n",
       "      <td>0.455556</td>\n",
       "      <td>0.491525</td>\n",
       "      <td>0.233333</td>\n",
       "      <td>0.043861</td>\n",
       "    </tr>\n",
       "    <tr>\n",
       "      <th>a448667f336b42c9a66fc5ffd5d73772</th>\n",
       "      <td>0.518072</td>\n",
       "      <td>0.111111</td>\n",
       "      <td>0.033898</td>\n",
       "      <td>0.200000</td>\n",
       "      <td>0.006047</td>\n",
       "    </tr>\n",
       "  </tbody>\n",
       "</table>\n",
       "</div>"
      ],
      "text/plain": [
       "                                       age    income  age of account  \\\n",
       "id                                                                     \n",
       "0610b486422d4921ae7d2bf64640c50b  0.445783  0.911111        0.203390   \n",
       "78afa995795e4d85b5d9ceeca43f5fef  0.686747  0.777778        0.237288   \n",
       "aa4862eba776480b8bb9c68455b8c2e1  0.518072  0.300000        0.169492   \n",
       "31dda685af34476cad5bc968bdb01c53  0.530120  0.455556        0.491525   \n",
       "a448667f336b42c9a66fc5ffd5d73772  0.518072  0.111111        0.033898   \n",
       "\n",
       "                                  num purchases  amount per purchase  \n",
       "id                                                                    \n",
       "0610b486422d4921ae7d2bf64640c50b       0.066667             0.056357  \n",
       "78afa995795e4d85b5d9ceeca43f5fef       0.200000             0.049892  \n",
       "aa4862eba776480b8bb9c68455b8c2e1       0.166667             0.031067  \n",
       "31dda685af34476cad5bc968bdb01c53       0.233333             0.043861  \n",
       "a448667f336b42c9a66fc5ffd5d73772       0.200000             0.006047  "
      ]
     },
     "execution_count": 4,
     "metadata": {},
     "output_type": "execute_result"
    }
   ],
   "source": [
    "male_scaled = normalize_df(male_customers)\n",
    "female_scaled = normalize_df(female_customers)\n",
    "\n",
    "female_scaled.head()"
   ]
  },
  {
   "cell_type": "markdown",
   "metadata": {},
   "source": [
    "Let's get the **roles and buckets** needed for our PCA model."
   ]
  },
  {
   "cell_type": "code",
   "execution_count": 5,
   "metadata": {},
   "outputs": [],
   "source": [
    "# sagemaker libraries\n",
    "import boto3\n",
    "import sagemaker\n",
    "from sagemaker import get_execution_role\n",
    "\n",
    "session = sagemaker.Session() # store the current SageMaker session\n",
    "role = get_execution_role()# get IAM role\n",
    "bucket_name = session.default_bucket()# get default bucket"
   ]
  },
  {
   "cell_type": "markdown",
   "metadata": {},
   "source": [
    "To run our model, we'll need to **upload the data to s3**."
   ]
  },
  {
   "cell_type": "code",
   "execution_count": 6,
   "metadata": {},
   "outputs": [
    {
     "name": "stdout",
     "output_type": "stream",
     "text": [
      "Training artifacts will be uploaded to: \n",
      "s3://sagemaker-us-east-2-794135268543/male_customers/\n",
      "s3://sagemaker-us-east-2-794135268543/female_customers/\n"
     ]
    }
   ],
   "source": [
    "prefix_male = 'male_customers'\n",
    "prefix_female = 'female_customers'\n",
    "output_path_male ='s3://{}/{}/'.format(bucket_name, prefix_male)\n",
    "output_path_female ='s3://{}/{}/'.format(bucket_name, prefix_female)\n",
    "print('Training artifacts will be uploaded to: \\n{}\\n{}'.format(output_path_male, output_path_female))"
   ]
  },
  {
   "cell_type": "code",
   "execution_count": 7,
   "metadata": {},
   "outputs": [],
   "source": [
    "from sagemaker import PCA\n",
    "\n",
    "#current features - 1\n",
    "N_COMPONENTS=4"
   ]
  },
  {
   "cell_type": "markdown",
   "metadata": {},
   "source": [
    "Now we can build and train our 2 models. "
   ]
  },
  {
   "cell_type": "code",
   "execution_count": 8,
   "metadata": {},
   "outputs": [],
   "source": [
    "pca_SM_male = PCA(role=role,\n",
    "             train_instance_count=1,\n",
    "             train_instance_type='ml.c4.xlarge',\n",
    "             output_path=output_path_male, # specified, above\n",
    "             num_components=N_COMPONENTS, \n",
    "             sagemaker_session=session)"
   ]
  },
  {
   "cell_type": "code",
   "execution_count": 9,
   "metadata": {},
   "outputs": [],
   "source": [
    "pca_SM_female = PCA(role=role,\n",
    "             train_instance_count=1,\n",
    "             train_instance_type='ml.c4.xlarge',\n",
    "             output_path=output_path_female, # specified, above\n",
    "             num_components=N_COMPONENTS, \n",
    "             sagemaker_session=session)"
   ]
  },
  {
   "cell_type": "code",
   "execution_count": 10,
   "metadata": {},
   "outputs": [],
   "source": [
    "# convert df to np array\n",
    "male_train_data_np = male_scaled.values.astype('float32')\n",
    "female_train_data_np = female_scaled.values.astype('float32')\n",
    "\n",
    "# convert to RecordSet format\n",
    "formatted_male_train_data = pca_SM_male.record_set(male_train_data_np)\n",
    "formatted_female_train_data = pca_SM_female.record_set(female_train_data_np)"
   ]
  },
  {
   "cell_type": "markdown",
   "metadata": {},
   "source": [
    "Now our data is properly formatted, uploaded to s3, and our models are ready. We can go ahead and train them."
   ]
  },
  {
   "cell_type": "code",
   "execution_count": 11,
   "metadata": {},
   "outputs": [
    {
     "name": "stdout",
     "output_type": "stream",
     "text": [
      "2020-05-16 18:12:41 Starting - Starting the training job...\n",
      "2020-05-16 18:12:42 Starting - Launching requested ML instances......\n",
      "2020-05-16 18:13:47 Starting - Preparing the instances for training...\n",
      "2020-05-16 18:14:24 Downloading - Downloading input data...\n",
      "2020-05-16 18:15:03 Training - Downloading the training image..\u001b[34mDocker entrypoint called with argument(s): train\u001b[0m\n",
      "\u001b[34mRunning default environment configuration script\u001b[0m\n",
      "\u001b[34m[05/16/2020 18:15:22 INFO 139995464951616] Reading default configuration from /opt/amazon/lib/python2.7/site-packages/algorithm/resources/default-conf.json: {u'_num_gpus': u'auto', u'_log_level': u'info', u'subtract_mean': u'true', u'force_dense': u'true', u'epochs': 1, u'algorithm_mode': u'regular', u'extra_components': u'-1', u'_kvstore': u'dist_sync', u'_num_kv_servers': u'auto'}\u001b[0m\n",
      "\u001b[34m[05/16/2020 18:15:22 INFO 139995464951616] Reading provided configuration from /opt/ml/input/config/hyperparameters.json: {u'feature_dim': u'5', u'mini_batch_size': u'500', u'num_components': u'4'}\u001b[0m\n",
      "\u001b[34m[05/16/2020 18:15:22 INFO 139995464951616] Final configuration: {u'num_components': u'4', u'_num_gpus': u'auto', u'_log_level': u'info', u'subtract_mean': u'true', u'force_dense': u'true', u'epochs': 1, u'algorithm_mode': u'regular', u'feature_dim': u'5', u'extra_components': u'-1', u'_kvstore': u'dist_sync', u'_num_kv_servers': u'auto', u'mini_batch_size': u'500'}\u001b[0m\n",
      "\u001b[34m[05/16/2020 18:15:22 WARNING 139995464951616] Loggers have already been setup.\u001b[0m\n",
      "\u001b[34m[05/16/2020 18:15:23 INFO 139995464951616] Launching parameter server for role scheduler\u001b[0m\n",
      "\u001b[34m[05/16/2020 18:15:23 INFO 139995464951616] {'ECS_CONTAINER_METADATA_URI': 'http://169.254.170.2/v3/ff6cf61c-e952-4484-8045-8a8bd5b1ef72', 'PROTOCOL_BUFFERS_PYTHON_IMPLEMENTATION_VERSION': '2', 'PATH': '/opt/amazon/bin:/usr/local/nvidia/bin:/usr/local/sbin:/usr/local/bin:/usr/sbin:/usr/bin:/sbin:/bin:/opt/amazon/bin:/opt/amazon/bin', 'SAGEMAKER_HTTP_PORT': '8080', 'HOME': '/root', 'PYTHONUNBUFFERED': 'TRUE', 'CANONICAL_ENVROOT': '/opt/amazon', 'LD_LIBRARY_PATH': '/opt/amazon/lib/python2.7/site-packages/cv2/../../../../lib:/usr/local/nvidia/lib64:/opt/amazon/lib', 'LANG': 'en_US.utf8', 'DMLC_INTERFACE': 'eth0', 'SHLVL': '1', 'AWS_REGION': 'us-east-2', 'NVIDIA_VISIBLE_DEVICES': 'void', 'TRAINING_JOB_NAME': 'pca-2020-05-16-18-12-41-224', 'PROTOCOL_BUFFERS_PYTHON_IMPLEMENTATION': 'cpp', 'ENVROOT': '/opt/amazon', 'SAGEMAKER_DATA_PATH': '/opt/ml', 'NVIDIA_DRIVER_CAPABILITIES': 'compute,utility', 'NVIDIA_REQUIRE_CUDA': 'cuda>=9.0', 'OMP_NUM_THREADS': '2', 'HOSTNAME': 'ip-10-0-215-28.us-east-2.compute.internal', 'AWS_CONTAINER_CREDENTIALS_RELATIVE_URI': '/v2/credentials/cc400350-a182-41c6-9c80-40adf3f8c800', 'PWD': '/', 'TRAINING_JOB_ARN': 'arn:aws:sagemaker:us-east-2:794135268543:training-job/pca-2020-05-16-18-12-41-224', 'AWS_EXECUTION_ENV': 'AWS_ECS_EC2'}\u001b[0m\n",
      "\u001b[34m[05/16/2020 18:15:23 INFO 139995464951616] envs={'ECS_CONTAINER_METADATA_URI': 'http://169.254.170.2/v3/ff6cf61c-e952-4484-8045-8a8bd5b1ef72', 'PROTOCOL_BUFFERS_PYTHON_IMPLEMENTATION_VERSION': '2', 'DMLC_NUM_WORKER': '1', 'DMLC_PS_ROOT_PORT': '9000', 'PATH': '/opt/amazon/bin:/usr/local/nvidia/bin:/usr/local/sbin:/usr/local/bin:/usr/sbin:/usr/bin:/sbin:/bin:/opt/amazon/bin:/opt/amazon/bin', 'SAGEMAKER_HTTP_PORT': '8080', 'HOME': '/root', 'PYTHONUNBUFFERED': 'TRUE', 'CANONICAL_ENVROOT': '/opt/amazon', 'LD_LIBRARY_PATH': '/opt/amazon/lib/python2.7/site-packages/cv2/../../../../lib:/usr/local/nvidia/lib64:/opt/amazon/lib', 'LANG': 'en_US.utf8', 'DMLC_INTERFACE': 'eth0', 'SHLVL': '1', 'DMLC_PS_ROOT_URI': '10.0.215.28', 'AWS_REGION': 'us-east-2', 'NVIDIA_VISIBLE_DEVICES': 'void', 'TRAINING_JOB_NAME': 'pca-2020-05-16-18-12-41-224', 'PROTOCOL_BUFFERS_PYTHON_IMPLEMENTATION': 'cpp', 'ENVROOT': '/opt/amazon', 'SAGEMAKER_DATA_PATH': '/opt/ml', 'NVIDIA_DRIVER_CAPABILITIES': 'compute,utility', 'NVIDIA_REQUIRE_CUDA': 'cuda>=9.0', 'OMP_NUM_THREADS': '2', 'HOSTNAME': 'ip-10-0-215-28.us-east-2.compute.internal', 'AWS_CONTAINER_CREDENTIALS_RELATIVE_URI': '/v2/credentials/cc400350-a182-41c6-9c80-40adf3f8c800', 'DMLC_ROLE': 'scheduler', 'PWD': '/', 'DMLC_NUM_SERVER': '1', 'TRAINING_JOB_ARN': 'arn:aws:sagemaker:us-east-2:794135268543:training-job/pca-2020-05-16-18-12-41-224', 'AWS_EXECUTION_ENV': 'AWS_ECS_EC2'}\u001b[0m\n",
      "\u001b[34m[05/16/2020 18:15:23 INFO 139995464951616] Launching parameter server for role server\u001b[0m\n",
      "\u001b[34m[05/16/2020 18:15:23 INFO 139995464951616] {'ECS_CONTAINER_METADATA_URI': 'http://169.254.170.2/v3/ff6cf61c-e952-4484-8045-8a8bd5b1ef72', 'PROTOCOL_BUFFERS_PYTHON_IMPLEMENTATION_VERSION': '2', 'PATH': '/opt/amazon/bin:/usr/local/nvidia/bin:/usr/local/sbin:/usr/local/bin:/usr/sbin:/usr/bin:/sbin:/bin:/opt/amazon/bin:/opt/amazon/bin', 'SAGEMAKER_HTTP_PORT': '8080', 'HOME': '/root', 'PYTHONUNBUFFERED': 'TRUE', 'CANONICAL_ENVROOT': '/opt/amazon', 'LD_LIBRARY_PATH': '/opt/amazon/lib/python2.7/site-packages/cv2/../../../../lib:/usr/local/nvidia/lib64:/opt/amazon/lib', 'LANG': 'en_US.utf8', 'DMLC_INTERFACE': 'eth0', 'SHLVL': '1', 'AWS_REGION': 'us-east-2', 'NVIDIA_VISIBLE_DEVICES': 'void', 'TRAINING_JOB_NAME': 'pca-2020-05-16-18-12-41-224', 'PROTOCOL_BUFFERS_PYTHON_IMPLEMENTATION': 'cpp', 'ENVROOT': '/opt/amazon', 'SAGEMAKER_DATA_PATH': '/opt/ml', 'NVIDIA_DRIVER_CAPABILITIES': 'compute,utility', 'NVIDIA_REQUIRE_CUDA': 'cuda>=9.0', 'OMP_NUM_THREADS': '2', 'HOSTNAME': 'ip-10-0-215-28.us-east-2.compute.internal', 'AWS_CONTAINER_CREDENTIALS_RELATIVE_URI': '/v2/credentials/cc400350-a182-41c6-9c80-40adf3f8c800', 'PWD': '/', 'TRAINING_JOB_ARN': 'arn:aws:sagemaker:us-east-2:794135268543:training-job/pca-2020-05-16-18-12-41-224', 'AWS_EXECUTION_ENV': 'AWS_ECS_EC2'}\u001b[0m\n",
      "\u001b[34m[05/16/2020 18:15:23 INFO 139995464951616] envs={'ECS_CONTAINER_METADATA_URI': 'http://169.254.170.2/v3/ff6cf61c-e952-4484-8045-8a8bd5b1ef72', 'PROTOCOL_BUFFERS_PYTHON_IMPLEMENTATION_VERSION': '2', 'DMLC_NUM_WORKER': '1', 'DMLC_PS_ROOT_PORT': '9000', 'PATH': '/opt/amazon/bin:/usr/local/nvidia/bin:/usr/local/sbin:/usr/local/bin:/usr/sbin:/usr/bin:/sbin:/bin:/opt/amazon/bin:/opt/amazon/bin', 'SAGEMAKER_HTTP_PORT': '8080', 'HOME': '/root', 'PYTHONUNBUFFERED': 'TRUE', 'CANONICAL_ENVROOT': '/opt/amazon', 'LD_LIBRARY_PATH': '/opt/amazon/lib/python2.7/site-packages/cv2/../../../../lib:/usr/local/nvidia/lib64:/opt/amazon/lib', 'LANG': 'en_US.utf8', 'DMLC_INTERFACE': 'eth0', 'SHLVL': '1', 'DMLC_PS_ROOT_URI': '10.0.215.28', 'AWS_REGION': 'us-east-2', 'NVIDIA_VISIBLE_DEVICES': 'void', 'TRAINING_JOB_NAME': 'pca-2020-05-16-18-12-41-224', 'PROTOCOL_BUFFERS_PYTHON_IMPLEMENTATION': 'cpp', 'ENVROOT': '/opt/amazon', 'SAGEMAKER_DATA_PATH': '/opt/ml', 'NVIDIA_DRIVER_CAPABILITIES': 'compute,utility', 'NVIDIA_REQUIRE_CUDA': 'cuda>=9.0', 'OMP_NUM_THREADS': '2', 'HOSTNAME': 'ip-10-0-215-28.us-east-2.compute.internal', 'AWS_CONTAINER_CREDENTIALS_RELATIVE_URI': '/v2/credentials/cc400350-a182-41c6-9c80-40adf3f8c800', 'DMLC_ROLE': 'server', 'PWD': '/', 'DMLC_NUM_SERVER': '1', 'TRAINING_JOB_ARN': 'arn:aws:sagemaker:us-east-2:794135268543:training-job/pca-2020-05-16-18-12-41-224', 'AWS_EXECUTION_ENV': 'AWS_ECS_EC2'}\u001b[0m\n",
      "\u001b[34m[05/16/2020 18:15:23 INFO 139995464951616] Environment: {'ECS_CONTAINER_METADATA_URI': 'http://169.254.170.2/v3/ff6cf61c-e952-4484-8045-8a8bd5b1ef72', 'PROTOCOL_BUFFERS_PYTHON_IMPLEMENTATION_VERSION': '2', 'DMLC_PS_ROOT_PORT': '9000', 'DMLC_NUM_WORKER': '1', 'SAGEMAKER_HTTP_PORT': '8080', 'PATH': '/opt/amazon/bin:/usr/local/nvidia/bin:/usr/local/sbin:/usr/local/bin:/usr/sbin:/usr/bin:/sbin:/bin:/opt/amazon/bin:/opt/amazon/bin', 'PYTHONUNBUFFERED': 'TRUE', 'CANONICAL_ENVROOT': '/opt/amazon', 'LD_LIBRARY_PATH': '/opt/amazon/lib/python2.7/site-packages/cv2/../../../../lib:/usr/local/nvidia/lib64:/opt/amazon/lib', 'LANG': 'en_US.utf8', 'DMLC_INTERFACE': 'eth0', 'SHLVL': '1', 'DMLC_PS_ROOT_URI': '10.0.215.28', 'AWS_REGION': 'us-east-2', 'NVIDIA_VISIBLE_DEVICES': 'void', 'TRAINING_JOB_NAME': 'pca-2020-05-16-18-12-41-224', 'HOME': '/root', 'PROTOCOL_BUFFERS_PYTHON_IMPLEMENTATION': 'cpp', 'ENVROOT': '/opt/amazon', 'SAGEMAKER_DATA_PATH': '/opt/ml', 'NVIDIA_DRIVER_CAPABILITIES': 'compute,utility', 'NVIDIA_REQUIRE_CUDA': 'cuda>=9.0', 'OMP_NUM_THREADS': '2', 'HOSTNAME': 'ip-10-0-215-28.us-east-2.compute.internal', 'AWS_CONTAINER_CREDENTIALS_RELATIVE_URI': '/v2/credentials/cc400350-a182-41c6-9c80-40adf3f8c800', 'DMLC_ROLE': 'worker', 'PWD': '/', 'DMLC_NUM_SERVER': '1', 'TRAINING_JOB_ARN': 'arn:aws:sagemaker:us-east-2:794135268543:training-job/pca-2020-05-16-18-12-41-224', 'AWS_EXECUTION_ENV': 'AWS_ECS_EC2'}\u001b[0m\n",
      "\u001b[34mProcess 60 is a shell:scheduler.\u001b[0m\n",
      "\u001b[34mProcess 69 is a shell:server.\u001b[0m\n",
      "\u001b[34mProcess 1 is a worker.\u001b[0m\n",
      "\u001b[34m[05/16/2020 18:15:23 INFO 139995464951616] Using default worker.\u001b[0m\n",
      "\u001b[34m[05/16/2020 18:15:23 INFO 139995464951616] Loaded iterator creator application/x-recordio-protobuf for content type ('application/x-recordio-protobuf', '1.0')\u001b[0m\n",
      "\u001b[34m[05/16/2020 18:15:23 INFO 139995464951616] Loaded iterator creator application/x-labeled-vector-protobuf for content type ('application/x-labeled-vector-protobuf', '1.0')\u001b[0m\n",
      "\u001b[34m[05/16/2020 18:15:23 INFO 139995464951616] Loaded iterator creator protobuf for content type ('protobuf', '1.0')\u001b[0m\n",
      "\u001b[34m[05/16/2020 18:15:23 INFO 139995464951616] Create Store: dist_sync\u001b[0m\n",
      "\u001b[34m[05/16/2020 18:15:23 INFO 139995464951616] nvidia-smi took: 0.0251841545105 secs to identify 0 gpus\u001b[0m\n",
      "\u001b[34m[05/16/2020 18:15:23 INFO 139995464951616] Number of GPUs being used: 0\u001b[0m\n",
      "\u001b[34m[05/16/2020 18:15:23 INFO 139995464951616] The default executor is <PCAExecutor on cpu(0)>.\u001b[0m\n",
      "\u001b[34m[05/16/2020 18:15:23 INFO 139995464951616] 5 feature(s) found in 'data'.\u001b[0m\n",
      "\u001b[34m[05/16/2020 18:15:23 INFO 139995464951616] <PCAExecutor on cpu(0)> is assigned to batch slice from 0 to 499.\u001b[0m\n",
      "\u001b[34m#metrics {\"Metrics\": {\"initialize.time\": {\"count\": 1, \"max\": 742.297887802124, \"sum\": 742.297887802124, \"min\": 742.297887802124}}, \"EndTime\": 1589652923.93589, \"Dimensions\": {\"Host\": \"algo-1\", \"Operation\": \"training\", \"Algorithm\": \"PCA\"}, \"StartTime\": 1589652923.177704}\n",
      "\u001b[0m\n",
      "\u001b[34m#metrics {\"Metrics\": {\"Max Batches Seen Between Resets\": {\"count\": 1, \"max\": 0, \"sum\": 0.0, \"min\": 0}, \"Number of Batches Since Last Reset\": {\"count\": 1, \"max\": 0, \"sum\": 0.0, \"min\": 0}, \"Number of Records Since Last Reset\": {\"count\": 1, \"max\": 0, \"sum\": 0.0, \"min\": 0}, \"Total Batches Seen\": {\"count\": 1, \"max\": 0, \"sum\": 0.0, \"min\": 0}, \"Total Records Seen\": {\"count\": 1, \"max\": 0, \"sum\": 0.0, \"min\": 0}, \"Max Records Seen Between Resets\": {\"count\": 1, \"max\": 0, \"sum\": 0.0, \"min\": 0}, \"Reset Count\": {\"count\": 1, \"max\": 0, \"sum\": 0.0, \"min\": 0}}, \"EndTime\": 1589652923.936112, \"Dimensions\": {\"Host\": \"algo-1\", \"Meta\": \"init_train_data_iter\", \"Operation\": \"training\", \"Algorithm\": \"PCA\"}, \"StartTime\": 1589652923.936061}\n",
      "\u001b[0m\n",
      "\u001b[34m[2020-05-16 18:15:23.936] [tensorio] [info] epoch_stats={\"data_pipeline\": \"/opt/ml/input/data/train\", \"epoch\": 0, \"duration\": 757, \"num_examples\": 1, \"num_bytes\": 22000}\u001b[0m\n",
      "\u001b[34m[2020-05-16 18:15:23.981] [tensorio] [info] epoch_stats={\"data_pipeline\": \"/opt/ml/input/data/train\", \"epoch\": 1, \"duration\": 38, \"num_examples\": 17, \"num_bytes\": 364980}\u001b[0m\n",
      "\u001b[34m#metrics {\"Metrics\": {\"epochs\": {\"count\": 1, \"max\": 1, \"sum\": 1.0, \"min\": 1}, \"update.time\": {\"count\": 1, \"max\": 45.285940170288086, \"sum\": 45.285940170288086, \"min\": 45.285940170288086}}, \"EndTime\": 1589652923.981732, \"Dimensions\": {\"Host\": \"algo-1\", \"Operation\": \"training\", \"Algorithm\": \"PCA\"}, \"StartTime\": 1589652923.935986}\n",
      "\u001b[0m\n",
      "\u001b[34m[05/16/2020 18:15:23 INFO 139995464951616] #progress_metric: host=algo-1, completed 100 % of epochs\u001b[0m\n",
      "\u001b[34m#metrics {\"Metrics\": {\"Max Batches Seen Between Resets\": {\"count\": 1, \"max\": 17, \"sum\": 17.0, \"min\": 17}, \"Number of Batches Since Last Reset\": {\"count\": 1, \"max\": 17, \"sum\": 17.0, \"min\": 17}, \"Number of Records Since Last Reset\": {\"count\": 1, \"max\": 8295, \"sum\": 8295.0, \"min\": 8295}, \"Total Batches Seen\": {\"count\": 1, \"max\": 17, \"sum\": 17.0, \"min\": 17}, \"Total Records Seen\": {\"count\": 1, \"max\": 8295, \"sum\": 8295.0, \"min\": 8295}, \"Max Records Seen Between Resets\": {\"count\": 1, \"max\": 8295, \"sum\": 8295.0, \"min\": 8295}, \"Reset Count\": {\"count\": 1, \"max\": 1, \"sum\": 1.0, \"min\": 1}}, \"EndTime\": 1589652923.982051, \"Dimensions\": {\"Host\": \"algo-1\", \"Meta\": \"training_data_iter\", \"Operation\": \"training\", \"Algorithm\": \"PCA\", \"epoch\": 0}, \"StartTime\": 1589652923.936412}\n",
      "\u001b[0m\n",
      "\u001b[34m[05/16/2020 18:15:23 INFO 139995464951616] #throughput_metric: host=algo-1, train throughput=181204.208684 records/second\u001b[0m\n",
      "\u001b[34m#metrics {\"Metrics\": {\"finalize.time\": {\"count\": 1, \"max\": 15.20395278930664, \"sum\": 15.20395278930664, \"min\": 15.20395278930664}}, \"EndTime\": 1589652923.997614, \"Dimensions\": {\"Host\": \"algo-1\", \"Operation\": \"training\", \"Algorithm\": \"PCA\"}, \"StartTime\": 1589652923.981813}\n",
      "\u001b[0m\n",
      "\u001b[34m[05/16/2020 18:15:24 INFO 139995464951616] Test data is not provided.\u001b[0m\n",
      "\u001b[34m#metrics {\"Metrics\": {\"totaltime\": {\"count\": 1, \"max\": 1460.9980583190918, \"sum\": 1460.9980583190918, \"min\": 1460.9980583190918}, \"setuptime\": {\"count\": 1, \"max\": 546.8490123748779, \"sum\": 546.8490123748779, \"min\": 546.8490123748779}}, \"EndTime\": 1589652924.002408, \"Dimensions\": {\"Host\": \"algo-1\", \"Operation\": \"training\", \"Algorithm\": \"PCA\"}, \"StartTime\": 1589652923.997666}\n",
      "\u001b[0m\n",
      "\n",
      "2020-05-16 18:15:31 Uploading - Uploading generated training model\n",
      "2020-05-16 18:15:31 Completed - Training job completed\n",
      "Training seconds: 67\n",
      "Billable seconds: 67\n",
      "CPU times: user 414 ms, sys: 11.7 ms, total: 426 ms\n",
      "Wall time: 3min 11s\n"
     ]
    }
   ],
   "source": [
    "%%time\n",
    "\n",
    "# train the PCA mode on the formatted data\n",
    "pca_SM_male.fit(formatted_male_train_data)"
   ]
  },
  {
   "cell_type": "code",
   "execution_count": 12,
   "metadata": {},
   "outputs": [
    {
     "name": "stdout",
     "output_type": "stream",
     "text": [
      "2020-05-16 18:15:53 Starting - Starting the training job...\n",
      "2020-05-16 18:15:54 Starting - Launching requested ML instances......\n",
      "2020-05-16 18:16:57 Starting - Preparing the instances for training......\n",
      "2020-05-16 18:18:15 Downloading - Downloading input data\n",
      "2020-05-16 18:18:15 Training - Downloading the training image...\n",
      "2020-05-16 18:18:46 Uploading - Uploading generated training model\n",
      "2020-05-16 18:18:46 Completed - Training job completed\n",
      "\u001b[34mDocker entrypoint called with argument(s): train\u001b[0m\n",
      "\u001b[34mRunning default environment configuration script\u001b[0m\n",
      "\u001b[34m[05/16/2020 18:18:37 INFO 139774167705408] Reading default configuration from /opt/amazon/lib/python2.7/site-packages/algorithm/resources/default-conf.json: {u'_num_gpus': u'auto', u'_log_level': u'info', u'subtract_mean': u'true', u'force_dense': u'true', u'epochs': 1, u'algorithm_mode': u'regular', u'extra_components': u'-1', u'_kvstore': u'dist_sync', u'_num_kv_servers': u'auto'}\u001b[0m\n",
      "\u001b[34m[05/16/2020 18:18:37 INFO 139774167705408] Reading provided configuration from /opt/ml/input/config/hyperparameters.json: {u'feature_dim': u'5', u'mini_batch_size': u'500', u'num_components': u'4'}\u001b[0m\n",
      "\u001b[34m[05/16/2020 18:18:37 INFO 139774167705408] Final configuration: {u'num_components': u'4', u'_num_gpus': u'auto', u'_log_level': u'info', u'subtract_mean': u'true', u'force_dense': u'true', u'epochs': 1, u'algorithm_mode': u'regular', u'feature_dim': u'5', u'extra_components': u'-1', u'_kvstore': u'dist_sync', u'_num_kv_servers': u'auto', u'mini_batch_size': u'500'}\u001b[0m\n",
      "\u001b[34m[05/16/2020 18:18:37 WARNING 139774167705408] Loggers have already been setup.\u001b[0m\n",
      "\u001b[34m[05/16/2020 18:18:37 INFO 139774167705408] Launching parameter server for role scheduler\u001b[0m\n",
      "\u001b[34m[05/16/2020 18:18:37 INFO 139774167705408] {'ECS_CONTAINER_METADATA_URI': 'http://169.254.170.2/v3/bd7fc4f1-c047-472f-9884-c1b6db503bcf', 'PROTOCOL_BUFFERS_PYTHON_IMPLEMENTATION_VERSION': '2', 'PATH': '/opt/amazon/bin:/usr/local/nvidia/bin:/usr/local/sbin:/usr/local/bin:/usr/sbin:/usr/bin:/sbin:/bin:/opt/amazon/bin:/opt/amazon/bin', 'SAGEMAKER_HTTP_PORT': '8080', 'HOME': '/root', 'PYTHONUNBUFFERED': 'TRUE', 'CANONICAL_ENVROOT': '/opt/amazon', 'LD_LIBRARY_PATH': '/opt/amazon/lib/python2.7/site-packages/cv2/../../../../lib:/usr/local/nvidia/lib64:/opt/amazon/lib', 'LANG': 'en_US.utf8', 'DMLC_INTERFACE': 'eth0', 'SHLVL': '1', 'AWS_REGION': 'us-east-2', 'NVIDIA_VISIBLE_DEVICES': 'void', 'TRAINING_JOB_NAME': 'pca-2020-05-16-18-15-52-853', 'PROTOCOL_BUFFERS_PYTHON_IMPLEMENTATION': 'cpp', 'ENVROOT': '/opt/amazon', 'SAGEMAKER_DATA_PATH': '/opt/ml', 'NVIDIA_DRIVER_CAPABILITIES': 'compute,utility', 'NVIDIA_REQUIRE_CUDA': 'cuda>=9.0', 'OMP_NUM_THREADS': '2', 'HOSTNAME': 'ip-10-0-211-96.us-east-2.compute.internal', 'AWS_CONTAINER_CREDENTIALS_RELATIVE_URI': '/v2/credentials/253a1327-fd38-4f51-bc09-23629058456b', 'PWD': '/', 'TRAINING_JOB_ARN': 'arn:aws:sagemaker:us-east-2:794135268543:training-job/pca-2020-05-16-18-15-52-853', 'AWS_EXECUTION_ENV': 'AWS_ECS_EC2'}\u001b[0m\n",
      "\u001b[34m[05/16/2020 18:18:37 INFO 139774167705408] envs={'ECS_CONTAINER_METADATA_URI': 'http://169.254.170.2/v3/bd7fc4f1-c047-472f-9884-c1b6db503bcf', 'PROTOCOL_BUFFERS_PYTHON_IMPLEMENTATION_VERSION': '2', 'DMLC_NUM_WORKER': '1', 'DMLC_PS_ROOT_PORT': '9000', 'PATH': '/opt/amazon/bin:/usr/local/nvidia/bin:/usr/local/sbin:/usr/local/bin:/usr/sbin:/usr/bin:/sbin:/bin:/opt/amazon/bin:/opt/amazon/bin', 'SAGEMAKER_HTTP_PORT': '8080', 'HOME': '/root', 'PYTHONUNBUFFERED': 'TRUE', 'CANONICAL_ENVROOT': '/opt/amazon', 'LD_LIBRARY_PATH': '/opt/amazon/lib/python2.7/site-packages/cv2/../../../../lib:/usr/local/nvidia/lib64:/opt/amazon/lib', 'LANG': 'en_US.utf8', 'DMLC_INTERFACE': 'eth0', 'SHLVL': '1', 'DMLC_PS_ROOT_URI': '10.0.211.96', 'AWS_REGION': 'us-east-2', 'NVIDIA_VISIBLE_DEVICES': 'void', 'TRAINING_JOB_NAME': 'pca-2020-05-16-18-15-52-853', 'PROTOCOL_BUFFERS_PYTHON_IMPLEMENTATION': 'cpp', 'ENVROOT': '/opt/amazon', 'SAGEMAKER_DATA_PATH': '/opt/ml', 'NVIDIA_DRIVER_CAPABILITIES': 'compute,utility', 'NVIDIA_REQUIRE_CUDA': 'cuda>=9.0', 'OMP_NUM_THREADS': '2', 'HOSTNAME': 'ip-10-0-211-96.us-east-2.compute.internal', 'AWS_CONTAINER_CREDENTIALS_RELATIVE_URI': '/v2/credentials/253a1327-fd38-4f51-bc09-23629058456b', 'DMLC_ROLE': 'scheduler', 'PWD': '/', 'DMLC_NUM_SERVER': '1', 'TRAINING_JOB_ARN': 'arn:aws:sagemaker:us-east-2:794135268543:training-job/pca-2020-05-16-18-15-52-853', 'AWS_EXECUTION_ENV': 'AWS_ECS_EC2'}\u001b[0m\n",
      "\u001b[34m[05/16/2020 18:18:37 INFO 139774167705408] Launching parameter server for role server\u001b[0m\n",
      "\u001b[34m[05/16/2020 18:18:37 INFO 139774167705408] {'ECS_CONTAINER_METADATA_URI': 'http://169.254.170.2/v3/bd7fc4f1-c047-472f-9884-c1b6db503bcf', 'PROTOCOL_BUFFERS_PYTHON_IMPLEMENTATION_VERSION': '2', 'PATH': '/opt/amazon/bin:/usr/local/nvidia/bin:/usr/local/sbin:/usr/local/bin:/usr/sbin:/usr/bin:/sbin:/bin:/opt/amazon/bin:/opt/amazon/bin', 'SAGEMAKER_HTTP_PORT': '8080', 'HOME': '/root', 'PYTHONUNBUFFERED': 'TRUE', 'CANONICAL_ENVROOT': '/opt/amazon', 'LD_LIBRARY_PATH': '/opt/amazon/lib/python2.7/site-packages/cv2/../../../../lib:/usr/local/nvidia/lib64:/opt/amazon/lib', 'LANG': 'en_US.utf8', 'DMLC_INTERFACE': 'eth0', 'SHLVL': '1', 'AWS_REGION': 'us-east-2', 'NVIDIA_VISIBLE_DEVICES': 'void', 'TRAINING_JOB_NAME': 'pca-2020-05-16-18-15-52-853', 'PROTOCOL_BUFFERS_PYTHON_IMPLEMENTATION': 'cpp', 'ENVROOT': '/opt/amazon', 'SAGEMAKER_DATA_PATH': '/opt/ml', 'NVIDIA_DRIVER_CAPABILITIES': 'compute,utility', 'NVIDIA_REQUIRE_CUDA': 'cuda>=9.0', 'OMP_NUM_THREADS': '2', 'HOSTNAME': 'ip-10-0-211-96.us-east-2.compute.internal', 'AWS_CONTAINER_CREDENTIALS_RELATIVE_URI': '/v2/credentials/253a1327-fd38-4f51-bc09-23629058456b', 'PWD': '/', 'TRAINING_JOB_ARN': 'arn:aws:sagemaker:us-east-2:794135268543:training-job/pca-2020-05-16-18-15-52-853', 'AWS_EXECUTION_ENV': 'AWS_ECS_EC2'}\u001b[0m\n",
      "\u001b[34m[05/16/2020 18:18:37 INFO 139774167705408] envs={'ECS_CONTAINER_METADATA_URI': 'http://169.254.170.2/v3/bd7fc4f1-c047-472f-9884-c1b6db503bcf', 'PROTOCOL_BUFFERS_PYTHON_IMPLEMENTATION_VERSION': '2', 'DMLC_NUM_WORKER': '1', 'DMLC_PS_ROOT_PORT': '9000', 'PATH': '/opt/amazon/bin:/usr/local/nvidia/bin:/usr/local/sbin:/usr/local/bin:/usr/sbin:/usr/bin:/sbin:/bin:/opt/amazon/bin:/opt/amazon/bin', 'SAGEMAKER_HTTP_PORT': '8080', 'HOME': '/root', 'PYTHONUNBUFFERED': 'TRUE', 'CANONICAL_ENVROOT': '/opt/amazon', 'LD_LIBRARY_PATH': '/opt/amazon/lib/python2.7/site-packages/cv2/../../../../lib:/usr/local/nvidia/lib64:/opt/amazon/lib', 'LANG': 'en_US.utf8', 'DMLC_INTERFACE': 'eth0', 'SHLVL': '1', 'DMLC_PS_ROOT_URI': '10.0.211.96', 'AWS_REGION': 'us-east-2', 'NVIDIA_VISIBLE_DEVICES': 'void', 'TRAINING_JOB_NAME': 'pca-2020-05-16-18-15-52-853', 'PROTOCOL_BUFFERS_PYTHON_IMPLEMENTATION': 'cpp', 'ENVROOT': '/opt/amazon', 'SAGEMAKER_DATA_PATH': '/opt/ml', 'NVIDIA_DRIVER_CAPABILITIES': 'compute,utility', 'NVIDIA_REQUIRE_CUDA': 'cuda>=9.0', 'OMP_NUM_THREADS': '2', 'HOSTNAME': 'ip-10-0-211-96.us-east-2.compute.internal', 'AWS_CONTAINER_CREDENTIALS_RELATIVE_URI': '/v2/credentials/253a1327-fd38-4f51-bc09-23629058456b', 'DMLC_ROLE': 'server', 'PWD': '/', 'DMLC_NUM_SERVER': '1', 'TRAINING_JOB_ARN': 'arn:aws:sagemaker:us-east-2:794135268543:training-job/pca-2020-05-16-18-15-52-853', 'AWS_EXECUTION_ENV': 'AWS_ECS_EC2'}\u001b[0m\n",
      "\u001b[34m[05/16/2020 18:18:37 INFO 139774167705408] Environment: {'ECS_CONTAINER_METADATA_URI': 'http://169.254.170.2/v3/bd7fc4f1-c047-472f-9884-c1b6db503bcf', 'PROTOCOL_BUFFERS_PYTHON_IMPLEMENTATION_VERSION': '2', 'DMLC_PS_ROOT_PORT': '9000', 'DMLC_NUM_WORKER': '1', 'SAGEMAKER_HTTP_PORT': '8080', 'PATH': '/opt/amazon/bin:/usr/local/nvidia/bin:/usr/local/sbin:/usr/local/bin:/usr/sbin:/usr/bin:/sbin:/bin:/opt/amazon/bin:/opt/amazon/bin', 'PYTHONUNBUFFERED': 'TRUE', 'CANONICAL_ENVROOT': '/opt/amazon', 'LD_LIBRARY_PATH': '/opt/amazon/lib/python2.7/site-packages/cv2/../../../../lib:/usr/local/nvidia/lib64:/opt/amazon/lib', 'LANG': 'en_US.utf8', 'DMLC_INTERFACE': 'eth0', 'SHLVL': '1', 'DMLC_PS_ROOT_URI': '10.0.211.96', 'AWS_REGION': 'us-east-2', 'NVIDIA_VISIBLE_DEVICES': 'void', 'TRAINING_JOB_NAME': 'pca-2020-05-16-18-15-52-853', 'HOME': '/root', 'PROTOCOL_BUFFERS_PYTHON_IMPLEMENTATION': 'cpp', 'ENVROOT': '/opt/amazon', 'SAGEMAKER_DATA_PATH': '/opt/ml', 'NVIDIA_DRIVER_CAPABILITIES': 'compute,utility', 'NVIDIA_REQUIRE_CUDA': 'cuda>=9.0', 'OMP_NUM_THREADS': '2', 'HOSTNAME': 'ip-10-0-211-96.us-east-2.compute.internal', 'AWS_CONTAINER_CREDENTIALS_RELATIVE_URI': '/v2/credentials/253a1327-fd38-4f51-bc09-23629058456b', 'DMLC_ROLE': 'worker', 'PWD': '/', 'DMLC_NUM_SERVER': '1', 'TRAINING_JOB_ARN': 'arn:aws:sagemaker:us-east-2:794135268543:training-job/pca-2020-05-16-18-15-52-853', 'AWS_EXECUTION_ENV': 'AWS_ECS_EC2'}\u001b[0m\n",
      "\u001b[34mProcess 61 is a shell:scheduler.\u001b[0m\n",
      "\u001b[34mProcess 70 is a shell:server.\u001b[0m\n",
      "\u001b[34mProcess 1 is a worker.\u001b[0m\n",
      "\u001b[34m[05/16/2020 18:18:37 INFO 139774167705408] Using default worker.\u001b[0m\n",
      "\u001b[34m[05/16/2020 18:18:37 INFO 139774167705408] Loaded iterator creator application/x-recordio-protobuf for content type ('application/x-recordio-protobuf', '1.0')\u001b[0m\n",
      "\u001b[34m[05/16/2020 18:18:37 INFO 139774167705408] Loaded iterator creator application/x-labeled-vector-protobuf for content type ('application/x-labeled-vector-protobuf', '1.0')\u001b[0m\n",
      "\u001b[34m[05/16/2020 18:18:37 INFO 139774167705408] Loaded iterator creator protobuf for content type ('protobuf', '1.0')\u001b[0m\n",
      "\u001b[34m[05/16/2020 18:18:37 INFO 139774167705408] Create Store: dist_sync\u001b[0m\n",
      "\u001b[34m[05/16/2020 18:18:38 INFO 139774167705408] nvidia-smi took: 0.0255761146545 secs to identify 0 gpus\u001b[0m\n",
      "\u001b[34m[05/16/2020 18:18:38 INFO 139774167705408] Number of GPUs being used: 0\u001b[0m\n",
      "\u001b[34m[05/16/2020 18:18:38 INFO 139774167705408] The default executor is <PCAExecutor on cpu(0)>.\u001b[0m\n",
      "\u001b[34m[05/16/2020 18:18:38 INFO 139774167705408] 5 feature(s) found in 'data'.\u001b[0m\n",
      "\u001b[34m[05/16/2020 18:18:38 INFO 139774167705408] <PCAExecutor on cpu(0)> is assigned to batch slice from 0 to 499.\u001b[0m\n",
      "\u001b[34m#metrics {\"Metrics\": {\"initialize.time\": {\"count\": 1, \"max\": 745.527982711792, \"sum\": 745.527982711792, \"min\": 745.527982711792}}, \"EndTime\": 1589653118.456369, \"Dimensions\": {\"Host\": \"algo-1\", \"Operation\": \"training\", \"Algorithm\": \"PCA\"}, \"StartTime\": 1589653117.69788}\n",
      "\u001b[0m\n",
      "\u001b[34m#metrics {\"Metrics\": {\"Max Batches Seen Between Resets\": {\"count\": 1, \"max\": 0, \"sum\": 0.0, \"min\": 0}, \"Number of Batches Since Last Reset\": {\"count\": 1, \"max\": 0, \"sum\": 0.0, \"min\": 0}, \"Number of Records Since Last Reset\": {\"count\": 1, \"max\": 0, \"sum\": 0.0, \"min\": 0}, \"Total Batches Seen\": {\"count\": 1, \"max\": 0, \"sum\": 0.0, \"min\": 0}, \"Total Records Seen\": {\"count\": 1, \"max\": 0, \"sum\": 0.0, \"min\": 0}, \"Max Records Seen Between Resets\": {\"count\": 1, \"max\": 0, \"sum\": 0.0, \"min\": 0}, \"Reset Count\": {\"count\": 1, \"max\": 0, \"sum\": 0.0, \"min\": 0}}, \"EndTime\": 1589653118.456604, \"Dimensions\": {\"Host\": \"algo-1\", \"Meta\": \"init_train_data_iter\", \"Operation\": \"training\", \"Algorithm\": \"PCA\"}, \"StartTime\": 1589653118.45655}\n",
      "\u001b[0m\n",
      "\u001b[34m[2020-05-16 18:18:38.456] [tensorio] [info] epoch_stats={\"data_pipeline\": \"/opt/ml/input/data/train\", \"epoch\": 0, \"duration\": 756, \"num_examples\": 1, \"num_bytes\": 22000}\u001b[0m\n",
      "\u001b[34m[2020-05-16 18:18:38.497] [tensorio] [info] epoch_stats={\"data_pipeline\": \"/opt/ml/input/data/train\", \"epoch\": 1, \"duration\": 33, \"num_examples\": 12, \"num_bytes\": 263692}\u001b[0m\n",
      "\u001b[34m#metrics {\"Metrics\": {\"epochs\": {\"count\": 1, \"max\": 1, \"sum\": 1.0, \"min\": 1}, \"update.time\": {\"count\": 1, \"max\": 40.548086166381836, \"sum\": 40.548086166381836, \"min\": 40.548086166381836}}, \"EndTime\": 1589653118.497506, \"Dimensions\": {\"Host\": \"algo-1\", \"Operation\": \"training\", \"Algorithm\": \"PCA\"}, \"StartTime\": 1589653118.456471}\n",
      "\u001b[0m\n",
      "\u001b[34m[05/16/2020 18:18:38 INFO 139774167705408] #progress_metric: host=algo-1, completed 100 % of epochs\u001b[0m\n",
      "\u001b[34m#metrics {\"Metrics\": {\"Max Batches Seen Between Resets\": {\"count\": 1, \"max\": 12, \"sum\": 12.0, \"min\": 12}, \"Number of Batches Since Last Reset\": {\"count\": 1, \"max\": 12, \"sum\": 12.0, \"min\": 12}, \"Number of Records Since Last Reset\": {\"count\": 1, \"max\": 5993, \"sum\": 5993.0, \"min\": 5993}, \"Total Batches Seen\": {\"count\": 1, \"max\": 12, \"sum\": 12.0, \"min\": 12}, \"Total Records Seen\": {\"count\": 1, \"max\": 5993, \"sum\": 5993.0, \"min\": 5993}, \"Max Records Seen Between Resets\": {\"count\": 1, \"max\": 5993, \"sum\": 5993.0, \"min\": 5993}, \"Reset Count\": {\"count\": 1, \"max\": 1, \"sum\": 1.0, \"min\": 1}}, \"EndTime\": 1589653118.497875, \"Dimensions\": {\"Host\": \"algo-1\", \"Meta\": \"training_data_iter\", \"Operation\": \"training\", \"Algorithm\": \"PCA\", \"epoch\": 0}, \"StartTime\": 1589653118.456919}\n",
      "\u001b[0m\n",
      "\u001b[34m[05/16/2020 18:18:38 INFO 139774167705408] #throughput_metric: host=algo-1, train throughput=145881.849675 records/second\u001b[0m\n",
      "\u001b[34m#metrics {\"Metrics\": {\"finalize.time\": {\"count\": 1, \"max\": 14.567852020263672, \"sum\": 14.567852020263672, \"min\": 14.567852020263672}}, \"EndTime\": 1589653118.51284, \"Dimensions\": {\"Host\": \"algo-1\", \"Operation\": \"training\", \"Algorithm\": \"PCA\"}, \"StartTime\": 1589653118.497621}\n",
      "\u001b[0m\n",
      "\u001b[34m[05/16/2020 18:18:38 INFO 139774167705408] Test data is not provided.\u001b[0m\n",
      "\u001b[34m#metrics {\"Metrics\": {\"totaltime\": {\"count\": 1, \"max\": 940.587043762207, \"sum\": 940.587043762207, \"min\": 940.587043762207}, \"setuptime\": {\"count\": 1, \"max\": 39.63112831115723, \"sum\": 39.63112831115723, \"min\": 39.63112831115723}}, \"EndTime\": 1589653118.517505, \"Dimensions\": {\"Host\": \"algo-1\", \"Operation\": \"training\", \"Algorithm\": \"PCA\"}, \"StartTime\": 1589653118.512909}\n",
      "\u001b[0m\n",
      "Training seconds: 42\n",
      "Billable seconds: 42\n",
      "CPU times: user 397 ms, sys: 18 ms, total: 415 ms\n",
      "Wall time: 3min 11s\n"
     ]
    }
   ],
   "source": [
    "%%time\n",
    "\n",
    "# train the PCA mode on the formatted data\n",
    "pca_SM_female.fit(formatted_female_train_data)"
   ]
  },
  {
   "cell_type": "markdown",
   "metadata": {},
   "source": [
    "Next we'll **unzip** the model and load in the results."
   ]
  },
  {
   "cell_type": "code",
   "execution_count": 13,
   "metadata": {},
   "outputs": [],
   "source": [
    "import os \n",
    "import mxnet as mx\n",
    "\n",
    "#copy and paste from a specific job in the AWS console\n",
    "male_training_job_name='pca-2020-05-13-12-47-14-078'\n",
    "female_training_job_name='pca-2020-05-13-12-50-25-709'\n",
    "\n",
    "# where the model is saved, by default\n",
    "male_model_key = os.path.join(prefix_male, male_training_job_name, 'output/model.tar.gz')\n",
    "\n",
    "# download and unzip model\n",
    "boto3.resource('s3').Bucket(bucket_name).download_file(male_model_key, 'model.tar.gz')\n",
    "\n",
    "# unzipping as model_algo-1\n",
    "os.system('tar -zxvf model.tar.gz')\n",
    "os.system('unzip model_algo-1')\n",
    "\n",
    "# loading the unzipped artifacts\n",
    "male_pca_model_params = mx.ndarray.load('model_algo-1')"
   ]
  },
  {
   "cell_type": "code",
   "execution_count": 14,
   "metadata": {},
   "outputs": [],
   "source": [
    "female_model_key = os.path.join(prefix_female, female_training_job_name, 'output/model.tar.gz')\n",
    "boto3.resource('s3').Bucket(bucket_name).download_file(female_model_key, 'model.tar.gz')\n",
    "\n",
    "# unzipping as model_algo-1\n",
    "os.system('tar -zxvf model.tar.gz')\n",
    "os.system('unzip model_algo-1')\n",
    "female_pca_model_params = mx.ndarray.load('model_algo-1')"
   ]
  },
  {
   "cell_type": "markdown",
   "metadata": {},
   "source": [
    "### PCA Model Attributes\n",
    "Three types of model attributes are contained within the PCA model.\n",
    "\n",
    "* **mean**: The mean that was subtracted in order to center it.\n",
    "* **v**: The makeup of the principal components; (same as ‘components_’ in an sklearn PCA model).\n",
    "* **s**: The singular values of the components for the PCA transformation.\n",
    "    \n",
    "We will only use v and s. \n",
    "\n",
    "From s, we can get an approximation of the data variance that is covered in the first `n` principal components. The approximate explained variance is given by the formula:\n",
    "\n",
    "\\begin{equation*}\n",
    "\\frac{\\sum_{n}^{ } s_n^2}{\\sum s^2}\n",
    "\\end{equation*}\n",
    " \n",
    "From v, we can learn more about the combinations of original features that make up each principal component."
   ]
  },
  {
   "cell_type": "code",
   "execution_count": 15,
   "metadata": {},
   "outputs": [],
   "source": [
    "def explained_variance(s, n_top_components):\n",
    "    '''Calculates the approx. data variance that n_top_components captures.\n",
    "       :param s: A dataframe of singular values for top components; \n",
    "           the top value is in the last row.\n",
    "       :param n_top_components: An integer, the number of top components to use.\n",
    "       :return: The expected data variance covered by the n_top_components.'''\n",
    "    \n",
    "    start_idx = N_COMPONENTS - n_top_components  ## 33-3 = 30, for example\n",
    "    # calculate approx variance\n",
    "    exp_variance = np.square(s.iloc[start_idx:,:]).sum()/np.square(s).sum()\n",
    "    \n",
    "    return exp_variance[0]"
   ]
  },
  {
   "cell_type": "code",
   "execution_count": 16,
   "metadata": {},
   "outputs": [],
   "source": [
    "s_male=pd.DataFrame(male_pca_model_params['s'].asnumpy())\n",
    "v_male=pd.DataFrame(male_pca_model_params['v'].asnumpy())\n",
    "s_female=pd.DataFrame(female_pca_model_params['s'].asnumpy())\n",
    "v_female=pd.DataFrame(female_pca_model_params['v'].asnumpy())"
   ]
  },
  {
   "cell_type": "code",
   "execution_count": 17,
   "metadata": {},
   "outputs": [
    {
     "name": "stdout",
     "output_type": "stream",
     "text": [
      "Explained variance for male for 3 components: 0.9171463847160339\n",
      "Explained variance for female for 3 components: 0.9087642431259155\n"
     ]
    }
   ],
   "source": [
    "n_top_components = 3 # select a value for the number of top components\n",
    "\n",
    "# calculate the explained variance\n",
    "male_exp_variance = explained_variance(s_male, n_top_components)\n",
    "female_exp_variance = explained_variance(s_female, n_top_components)\n",
    "print('Explained variance for male for {} components: {}'.format(n_top_components, male_exp_variance))\n",
    "print('Explained variance for female for {} components: {}'.format(n_top_components, female_exp_variance))"
   ]
  },
  {
   "cell_type": "markdown",
   "metadata": {},
   "source": [
    "For 2 components we see around 70% variance explained, with 3 components it is 90%, and with all 4 components it is 100%. For our purposes, we will proceed with 3 components as that provides the best tradeoff in dimensionality and variance."
   ]
  },
  {
   "cell_type": "markdown",
   "metadata": {},
   "source": [
    "# Component Makeup\n",
    "It will be helpful to visualize the components to see what the weighting is of the original features in each component."
   ]
  },
  {
   "cell_type": "code",
   "execution_count": 18,
   "metadata": {},
   "outputs": [
    {
     "name": "stdout",
     "output_type": "stream",
     "text": [
      "Features: \n",
      " ['age' 'income' 'age of account' 'num purchases' 'amount per purchase']\n"
     ]
    }
   ],
   "source": [
    "male_features_list = male_scaled.columns.values\n",
    "female_features_list = female_scaled.columns.values\n",
    "print('Features: \\n', male_features_list)"
   ]
  },
  {
   "cell_type": "code",
   "execution_count": 19,
   "metadata": {},
   "outputs": [],
   "source": [
    "import seaborn as sns\n",
    "import matplotlib.pyplot as plt\n",
    "import matplotlib\n",
    "\n",
    "def display_component(v, features_list, component_num, n_weights=3, gender = ['male','female']):\n",
    "    \n",
    "    # get index of component (last row - component_num)\n",
    "    row_idx = N_COMPONENTS-component_num\n",
    "\n",
    "    # get the list of weights from a row in each df of v\n",
    "    v_1_row = v[0].iloc[:, row_idx]\n",
    "    v_1 = np.squeeze(v_1_row.values)\n",
    "    v_2_row = v[1].iloc[:, row_idx]\n",
    "    v_2 = np.squeeze(v_2_row.values)   \n",
    "\n",
    "    # match weights to features in counties_scaled dataframe, using list comporehension\n",
    "    comps_1 = pd.DataFrame(list(zip(v_1, features_list[0])), \n",
    "                         columns=['weights', 'male_features'])\n",
    "    comps_2 = pd.DataFrame(list(zip(v_2, features_list[1])), \n",
    "                         columns=['weights', 'female_features'])\n",
    "\n",
    "    # we'll want to sort by the largest n_weights\n",
    "    # weights can be neg/pos and we'll sort by magnitude\n",
    "    comps_1['abs_weights']=comps_1['weights'].apply(lambda x: np.abs(x))\n",
    "    comps_2['abs_weights']=comps_2['weights'].apply(lambda x: np.abs(x))\n",
    "    \n",
    "    sorted_weight_data_1 = comps_1.sort_values('abs_weights', ascending=False).head(n_weights)\n",
    "    sorted_weight_data_2 = comps_2.sort_values('abs_weights', ascending=False).head(n_weights)\n",
    "    #print(sorted_weight_data_1)\n",
    "    %matplotlib inline \n",
    "    # display using seaborn\n",
    "    ax=plt.subplots(figsize=(16,6))\n",
    "    \n",
    "    ax=plt.subplot(2, 2, 1)\n",
    "    ax=sns.barplot(data=sorted_weight_data_1, \n",
    "                   x=\"weights\", \n",
    "                   y=\"male_features\", \n",
    "                   palette=\"Blues_d\")\n",
    "    ax.set_title(\"PCA Component Makeup - \" + gender[0] + \", Component #\" + str(component_num))    \n",
    "    \n",
    "    ax=plt.subplot(2, 2, 2)\n",
    "    ax=sns.barplot(data=sorted_weight_data_2, \n",
    "               x=\"weights\", \n",
    "               y=\"female_features\", \n",
    "               palette=\"Blues_d\")\n",
    "    ax.set_title(\"PCA Component Makeup - \" + gender[1] + \", Component #\" + str(component_num))\n",
    "    #plt.subplots_adjust(hspace = 1.5)\n",
    "    plt.subplots_adjust(wspace = .5)\n",
    "    plt.show()"
   ]
  },
  {
   "cell_type": "markdown",
   "metadata": {},
   "source": [
    "### Component Makeup by Gender\n",
    "Let's graph the components side-by-side to compare the results for each gender. "
   ]
  },
  {
   "cell_type": "code",
   "execution_count": 20,
   "metadata": {},
   "outputs": [
    {
     "data": {
      "image/png": "[encoded data removed]",
      "text/plain": [
       "<Figure size 1152x432 with 2 Axes>"
      ]
     },
     "metadata": {
      "needs_background": "light"
     },
     "output_type": "display_data"
    },
    {
     "data": {
      "image/png": "[encoded data removed]",
      "text/plain": [
       "<Figure size 1152x432 with 2 Axes>"
      ]
     },
     "metadata": {
      "needs_background": "light"
     },
     "output_type": "display_data"
    },
    {
     "data": {
      "image/png": "[encoded data removed]",
      "text/plain": [
       "<Figure size 1152x432 with 2 Axes>"
      ]
     },
     "metadata": {
      "needs_background": "light"
     },
     "output_type": "display_data"
    }
   ],
   "source": [
    "gender_list = ['male', 'female']\n",
    "v_list = [v_male, v_female]\n",
    "scaled_list = [male_scaled.columns.values, female_scaled.columns.values]\n",
    "for i in range(len(male_features_list)-2):\n",
    "    display_component(v_list, scaled_list, component_num=i+1, n_weights=3, gender = gender_list)"
   ]
  },
  {
   "cell_type": "markdown",
   "metadata": {},
   "source": [
    "Interestingly, there are some similarities yet also some differences. The 1st male component and 2nd female component are somewhat similar but not the same. Likewise, the 1st female component and the 2nd male component are similar but not the same. The similarities are not enough for us to remove gender as a variable from our data, especially since we have not yet compared their reactions to promotions (which will be done later in the linear regression step). "
   ]
  },
  {
   "cell_type": "code",
   "execution_count": 21,
   "metadata": {},
   "outputs": [
    {
     "name": "stdout",
     "output_type": "stream",
     "text": [
      "Explained variance for male for 1 components: 0.3829598128795624\n",
      "Explained variance for female for 1 components: 0.43561238050460815\n",
      "Explained variance for male for 2 components: 0.7262885570526123\n",
      "Explained variance for female for 2 components: 0.7137019634246826\n"
     ]
    }
   ],
   "source": [
    "#Difference in explained variance between 1st and 2nd components\n",
    "#n_top_components = 1 # select a value for the number of top components\n",
    "# calculate the explained variance\n",
    "for n_top_components in [1,2]:\n",
    "    male_exp_variance = explained_variance(s_male, n_top_components)\n",
    "    female_exp_variance = explained_variance(s_female, n_top_components)\n",
    "    print('Explained variance for male for {} components: {}'.format(n_top_components, male_exp_variance))\n",
    "    print('Explained variance for female for {} components: {}'.format(n_top_components, female_exp_variance))\n"
   ]
  },
  {
   "cell_type": "markdown",
   "metadata": {},
   "source": [
    "In addition to the 1st and 2nd components have minor differences in the weights, they also have differences in the explained variance."
   ]
  },
  {
   "cell_type": "markdown",
   "metadata": {},
   "source": [
    "### Deploy Model\n",
    "Next we'll deploy our model and pass in our training data to get a transformed dataframe to use in our customer segmentation."
   ]
  },
  {
   "cell_type": "code",
   "execution_count": 22,
   "metadata": {},
   "outputs": [
    {
     "name": "stdout",
     "output_type": "stream",
     "text": [
      "-----------------!CPU times: user 299 ms, sys: 19.2 ms, total: 318 ms\n",
      "Wall time: 8min 32s\n"
     ]
    }
   ],
   "source": [
    "%%time\n",
    "# this takes a little while, around 7mins\n",
    "pca_predictor_male = pca_SM_male.deploy(initial_instance_count=1, \n",
    "                              instance_type='ml.t2.medium')"
   ]
  },
  {
   "cell_type": "code",
   "execution_count": 23,
   "metadata": {},
   "outputs": [
    {
     "name": "stdout",
     "output_type": "stream",
     "text": [
      "label {\n",
      "  key: \"projection\"\n",
      "  value {\n",
      "    float32_tensor {\n",
      "      values: -0.03399546444416046\n",
      "      values: 0.08655960857868195\n",
      "      values: -0.2094820737838745\n",
      "      values: 0.2983003556728363\n",
      "    }\n",
      "  }\n",
      "}\n",
      "\n"
     ]
    }
   ],
   "source": [
    "male_train_pca = pca_predictor_male.predict(male_train_data_np)\n",
    "# check out the first item in the produced training features\n",
    "data_idx = 0\n",
    "print(male_train_pca[data_idx])"
   ]
  },
  {
   "cell_type": "code",
   "execution_count": 24,
   "metadata": {},
   "outputs": [],
   "source": [
    "# create dimensionality-reduced data\n",
    "def create_transformed_df(train_pca, df_scaled, n_top_components):\n",
    "    ''' Return a dataframe of data points with component features. \n",
    "        The dataframe should be indexed by State-County and contain component values.\n",
    "        :param train_pca: A list of pca training data, returned by a PCA model.\n",
    "        :param counties_scaled: A dataframe of normalized, original features.\n",
    "        :param n_top_components: An integer, the number of top components to use.\n",
    "        :return: A dataframe, indexed by State-County, with n_top_component values as columns.        \n",
    "     '''\n",
    "    # create new dataframe to add data to\n",
    "    df_transformed=pd.DataFrame()\n",
    "\n",
    "    # for each of our new, transformed data points\n",
    "    # append the component values to the dataframe\n",
    "    for data in train_pca:\n",
    "        # get component values for each data point\n",
    "        components=data.label['projection'].float32_tensor.values\n",
    "        df_transformed=df_transformed.append([list(components)])\n",
    "\n",
    "    # index by county, just like counties_scaled\n",
    "    df_transformed.index=df_scaled.index\n",
    "\n",
    "    # keep only the top n components\n",
    "    start_idx = N_COMPONENTS - n_top_components\n",
    "    df_transformed = df_transformed.iloc[:,start_idx:]\n",
    "    \n",
    "    # reverse columns, component order     \n",
    "    return df_transformed.iloc[:, ::-1]\n",
    "    "
   ]
  },
  {
   "cell_type": "code",
   "execution_count": 25,
   "metadata": {},
   "outputs": [
    {
     "data": {
      "text/html": [
       "<div>\n",
       "<style scoped>\n",
       "    .dataframe tbody tr th:only-of-type {\n",
       "        vertical-align: middle;\n",
       "    }\n",
       "\n",
       "    .dataframe tbody tr th {\n",
       "        vertical-align: top;\n",
       "    }\n",
       "\n",
       "    .dataframe thead th {\n",
       "        text-align: right;\n",
       "    }\n",
       "</style>\n",
       "<table border=\"1\" class=\"dataframe\">\n",
       "  <thead>\n",
       "    <tr style=\"text-align: right;\">\n",
       "      <th></th>\n",
       "      <th>c_1</th>\n",
       "      <th>c_2</th>\n",
       "      <th>c_3</th>\n",
       "    </tr>\n",
       "    <tr>\n",
       "      <th>id</th>\n",
       "      <th></th>\n",
       "      <th></th>\n",
       "      <th></th>\n",
       "    </tr>\n",
       "  </thead>\n",
       "  <tbody>\n",
       "    <tr>\n",
       "      <th>e2127556f4f64592b11af22de27a7932</th>\n",
       "      <td>0.298300</td>\n",
       "      <td>-0.209482</td>\n",
       "      <td>0.086560</td>\n",
       "    </tr>\n",
       "    <tr>\n",
       "      <th>389bc3fa690240e798340f5a15918d5c</th>\n",
       "      <td>0.249573</td>\n",
       "      <td>-0.044962</td>\n",
       "      <td>0.174136</td>\n",
       "    </tr>\n",
       "    <tr>\n",
       "      <th>2eeac8d8feae4a8cad5a6af0499a211d</th>\n",
       "      <td>0.192009</td>\n",
       "      <td>0.028753</td>\n",
       "      <td>0.122874</td>\n",
       "    </tr>\n",
       "    <tr>\n",
       "      <th>e12aeaf2d47d42479ea1c4ac3d8286c6</th>\n",
       "      <td>-0.592181</td>\n",
       "      <td>0.295599</td>\n",
       "      <td>-0.158024</td>\n",
       "    </tr>\n",
       "    <tr>\n",
       "      <th>62cf5e10845442329191fc246e7bcea3</th>\n",
       "      <td>-0.429457</td>\n",
       "      <td>0.068360</td>\n",
       "      <td>0.019166</td>\n",
       "    </tr>\n",
       "  </tbody>\n",
       "</table>\n",
       "</div>"
      ],
      "text/plain": [
       "                                       c_1       c_2       c_3\n",
       "id                                                            \n",
       "e2127556f4f64592b11af22de27a7932  0.298300 -0.209482  0.086560\n",
       "389bc3fa690240e798340f5a15918d5c  0.249573 -0.044962  0.174136\n",
       "2eeac8d8feae4a8cad5a6af0499a211d  0.192009  0.028753  0.122874\n",
       "e12aeaf2d47d42479ea1c4ac3d8286c6 -0.592181  0.295599 -0.158024\n",
       "62cf5e10845442329191fc246e7bcea3 -0.429457  0.068360  0.019166"
      ]
     },
     "execution_count": 25,
     "metadata": {},
     "output_type": "execute_result"
    }
   ],
   "source": [
    "# specify top n\n",
    "top_n = 3\n",
    "\n",
    "# call function and create a new dataframe\n",
    "male_transformed = create_transformed_df(male_train_pca, male_scaled, n_top_components=top_n)\n",
    "\n",
    "# add descriptive columns\n",
    "PCA_list=['c_1', 'c_2', 'c_3']\n",
    "male_transformed.columns=PCA_list \n",
    "\n",
    "# print result\n",
    "male_transformed.head()"
   ]
  },
  {
   "cell_type": "code",
   "execution_count": 26,
   "metadata": {},
   "outputs": [],
   "source": [
    "# delete predictor endpoint\n",
    "session.delete_endpoint(pca_predictor_male.endpoint)"
   ]
  },
  {
   "cell_type": "markdown",
   "metadata": {},
   "source": [
    "Let's run the same process with the female data"
   ]
  },
  {
   "cell_type": "code",
   "execution_count": 27,
   "metadata": {},
   "outputs": [
    {
     "name": "stdout",
     "output_type": "stream",
     "text": [
      "-----------------------------------------------------!CPU times: user 809 ms, sys: 34 ms, total: 843 ms\n",
      "Wall time: 26min 34s\n"
     ]
    }
   ],
   "source": [
    "%%time\n",
    "# this takes a little while, around 7mins\n",
    "pca_predictor_female = pca_SM_female.deploy(initial_instance_count=1, \n",
    "                              instance_type='ml.t2.medium')"
   ]
  },
  {
   "cell_type": "code",
   "execution_count": 28,
   "metadata": {},
   "outputs": [
    {
     "name": "stdout",
     "output_type": "stream",
     "text": [
      "label {\n",
      "  key: \"projection\"\n",
      "  value {\n",
      "    float32_tensor {\n",
      "      values: 0.017244622111320496\n",
      "      values: 0.24087567627429962\n",
      "      values: 0.06192860007286072\n",
      "      values: -0.42594367265701294\n",
      "    }\n",
      "  }\n",
      "}\n",
      "\n"
     ]
    },
    {
     "data": {
      "text/html": [
       "<div>\n",
       "<style scoped>\n",
       "    .dataframe tbody tr th:only-of-type {\n",
       "        vertical-align: middle;\n",
       "    }\n",
       "\n",
       "    .dataframe tbody tr th {\n",
       "        vertical-align: top;\n",
       "    }\n",
       "\n",
       "    .dataframe thead th {\n",
       "        text-align: right;\n",
       "    }\n",
       "</style>\n",
       "<table border=\"1\" class=\"dataframe\">\n",
       "  <thead>\n",
       "    <tr style=\"text-align: right;\">\n",
       "      <th></th>\n",
       "      <th>c_1</th>\n",
       "      <th>c_2</th>\n",
       "      <th>c_3</th>\n",
       "    </tr>\n",
       "    <tr>\n",
       "      <th>id</th>\n",
       "      <th></th>\n",
       "      <th></th>\n",
       "      <th></th>\n",
       "    </tr>\n",
       "  </thead>\n",
       "  <tbody>\n",
       "    <tr>\n",
       "      <th>0610b486422d4921ae7d2bf64640c50b</th>\n",
       "      <td>-0.425944</td>\n",
       "      <td>0.061929</td>\n",
       "      <td>0.240876</td>\n",
       "    </tr>\n",
       "    <tr>\n",
       "      <th>78afa995795e4d85b5d9ceeca43f5fef</th>\n",
       "      <td>-0.379519</td>\n",
       "      <td>-0.010614</td>\n",
       "      <td>-0.041087</td>\n",
       "    </tr>\n",
       "    <tr>\n",
       "      <th>aa4862eba776480b8bb9c68455b8c2e1</th>\n",
       "      <td>0.084332</td>\n",
       "      <td>0.151140</td>\n",
       "      <td>-0.105657</td>\n",
       "    </tr>\n",
       "    <tr>\n",
       "      <th>31dda685af34476cad5bc968bdb01c53</th>\n",
       "      <td>-0.011242</td>\n",
       "      <td>-0.194475</td>\n",
       "      <td>-0.047215</td>\n",
       "    </tr>\n",
       "    <tr>\n",
       "      <th>a448667f336b42c9a66fc5ffd5d73772</th>\n",
       "      <td>0.245243</td>\n",
       "      <td>0.294826</td>\n",
       "      <td>-0.194390</td>\n",
       "    </tr>\n",
       "  </tbody>\n",
       "</table>\n",
       "</div>"
      ],
      "text/plain": [
       "                                       c_1       c_2       c_3\n",
       "id                                                            \n",
       "0610b486422d4921ae7d2bf64640c50b -0.425944  0.061929  0.240876\n",
       "78afa995795e4d85b5d9ceeca43f5fef -0.379519 -0.010614 -0.041087\n",
       "aa4862eba776480b8bb9c68455b8c2e1  0.084332  0.151140 -0.105657\n",
       "31dda685af34476cad5bc968bdb01c53 -0.011242 -0.194475 -0.047215\n",
       "a448667f336b42c9a66fc5ffd5d73772  0.245243  0.294826 -0.194390"
      ]
     },
     "execution_count": 28,
     "metadata": {},
     "output_type": "execute_result"
    }
   ],
   "source": [
    "female_train_pca = pca_predictor_female.predict(female_train_data_np)\n",
    "# check out the first item in the produced training features\n",
    "data_idx = 0\n",
    "print(female_train_pca[data_idx])\n",
    "\n",
    "# call function and create a new dataframe\n",
    "female_transformed = create_transformed_df(female_train_pca, female_scaled, n_top_components=top_n)\n",
    "\n",
    "# add descriptive columns\n",
    "female_transformed.columns=PCA_list \n",
    "\n",
    "# print result\n",
    "female_transformed.head()"
   ]
  },
  {
   "cell_type": "code",
   "execution_count": 29,
   "metadata": {},
   "outputs": [],
   "source": [
    "# delete predictor endpoint\n",
    "session.delete_endpoint(pca_predictor_female.endpoint)"
   ]
  },
  {
   "cell_type": "markdown",
   "metadata": {},
   "source": [
    "# Customer Segmentation\n",
    "Now that we have completed the PCA step, we can cluster our customers. To do this, we will define a **k-means model**. This is an unsupervised algorithm that will identify similarities across our 3 components and cluster our customers into specific segments. In addition to running the model, we must identify what the best value is for 'k' as that will determine our segments."
   ]
  },
  {
   "cell_type": "code",
   "execution_count": 33,
   "metadata": {},
   "outputs": [
    {
     "name": "stdout",
     "output_type": "stream",
     "text": [
      "starting train job:2\n",
      "2020-05-16 19:06:51 Starting - Starting the training job...\n",
      "2020-05-16 19:06:53 Starting - Launching requested ML instances......\n",
      "2020-05-16 19:07:56 Starting - Preparing the instances for training...\n",
      "2020-05-16 19:08:47 Downloading - Downloading input data......\n",
      "2020-05-16 19:09:49 Training - Training image download completed. Training in progress.\n",
      "2020-05-16 19:09:49 Uploading - Uploading generated training model\n",
      "2020-05-16 19:09:49 Completed - Training job completed\n",
      "\u001b[34mDocker entrypoint called with argument(s): train\u001b[0m\n",
      "\u001b[34mRunning default environment configuration script\u001b[0m\n",
      "\u001b[34m[05/16/2020 19:09:40 INFO 139737394964288] Reading default configuration from /opt/amazon/lib/python2.7/site-packages/algorithm/resources/default-input.json: {u'_enable_profiler': u'false', u'_tuning_objective_metric': u'', u'_num_gpus': u'auto', u'local_lloyd_num_trials': u'auto', u'_log_level': u'info', u'_kvstore': u'auto', u'local_lloyd_init_method': u'kmeans++', u'force_dense': u'true', u'epochs': u'1', u'init_method': u'random', u'local_lloyd_tol': u'0.0001', u'local_lloyd_max_iter': u'300', u'_disable_wait_to_read': u'false', u'extra_center_factor': u'auto', u'eval_metrics': u'[\"msd\"]', u'_num_kv_servers': u'1', u'mini_batch_size': u'5000', u'half_life_time_size': u'0', u'_num_slices': u'1'}\u001b[0m\n",
      "\u001b[34m[05/16/2020 19:09:40 INFO 139737394964288] Reading provided configuration from /opt/ml/input/config/hyperparameters.json: {u'feature_dim': u'3', u'k': u'2', u'force_dense': u'True'}\u001b[0m\n",
      "\u001b[34m[05/16/2020 19:09:40 INFO 139737394964288] Final configuration: {u'_tuning_objective_metric': u'', u'extra_center_factor': u'auto', u'local_lloyd_init_method': u'kmeans++', u'force_dense': u'True', u'epochs': u'1', u'feature_dim': u'3', u'local_lloyd_tol': u'0.0001', u'_disable_wait_to_read': u'false', u'eval_metrics': u'[\"msd\"]', u'_num_kv_servers': u'1', u'mini_batch_size': u'5000', u'_enable_profiler': u'false', u'_num_gpus': u'auto', u'local_lloyd_num_trials': u'auto', u'_log_level': u'info', u'init_method': u'random', u'half_life_time_size': u'0', u'local_lloyd_max_iter': u'300', u'_kvstore': u'auto', u'k': u'2', u'_num_slices': u'1'}\u001b[0m\n",
      "\u001b[34m[05/16/2020 19:09:40 WARNING 139737394964288] Loggers have already been setup.\u001b[0m\n",
      "\u001b[34mProcess 1 is a worker.\u001b[0m\n",
      "\u001b[34m[05/16/2020 19:09:40 INFO 139737394964288] Using default worker.\u001b[0m\n",
      "\u001b[34m[05/16/2020 19:09:40 INFO 139737394964288] Loaded iterator creator application/x-recordio-protobuf for content type ('application/x-recordio-protobuf', '1.0')\u001b[0m\n",
      "\u001b[34m[05/16/2020 19:09:40 INFO 139737394964288] Create Store: local\u001b[0m\n",
      "\u001b[34m[05/16/2020 19:09:40 INFO 139737394964288] nvidia-smi took: 0.0252640247345 secs to identify 0 gpus\u001b[0m\n",
      "\u001b[34m[05/16/2020 19:09:40 INFO 139737394964288] Number of GPUs being used: 0\u001b[0m\n",
      "\u001b[34m[05/16/2020 19:09:40 INFO 139737394964288] Setting up with params: {u'_tuning_objective_metric': u'', u'extra_center_factor': u'auto', u'local_lloyd_init_method': u'kmeans++', u'force_dense': u'True', u'epochs': u'1', u'feature_dim': u'3', u'local_lloyd_tol': u'0.0001', u'_disable_wait_to_read': u'false', u'eval_metrics': u'[\"msd\"]', u'_num_kv_servers': u'1', u'mini_batch_size': u'5000', u'_enable_profiler': u'false', u'_num_gpus': u'auto', u'local_lloyd_num_trials': u'auto', u'_log_level': u'info', u'init_method': u'random', u'half_life_time_size': u'0', u'local_lloyd_max_iter': u'300', u'_kvstore': u'auto', u'k': u'2', u'_num_slices': u'1'}\u001b[0m\n",
      "\u001b[34m[05/16/2020 19:09:40 INFO 139737394964288] 'extra_center_factor' was set to 'auto', evaluated to 10.\u001b[0m\n",
      "\u001b[34m[05/16/2020 19:09:40 INFO 139737394964288] Number of GPUs being used: 0\u001b[0m\n",
      "\u001b[34m[05/16/2020 19:09:40 INFO 139737394964288] number of center slices 1\u001b[0m\n",
      "\u001b[34m#metrics {\"Metrics\": {\"Max Batches Seen Between Resets\": {\"count\": 1, \"max\": 1, \"sum\": 1.0, \"min\": 1}, \"Number of Batches Since Last Reset\": {\"count\": 1, \"max\": 1, \"sum\": 1.0, \"min\": 1}, \"Number of Records Since Last Reset\": {\"count\": 1, \"max\": 5000, \"sum\": 5000.0, \"min\": 5000}, \"Total Batches Seen\": {\"count\": 1, \"max\": 1, \"sum\": 1.0, \"min\": 1}, \"Total Records Seen\": {\"count\": 1, \"max\": 5000, \"sum\": 5000.0, \"min\": 5000}, \"Max Records Seen Between Resets\": {\"count\": 1, \"max\": 5000, \"sum\": 5000.0, \"min\": 5000}, \"Reset Count\": {\"count\": 1, \"max\": 0, \"sum\": 0.0, \"min\": 0}}, \"EndTime\": 1589656180.456474, \"Dimensions\": {\"Host\": \"algo-1\", \"Meta\": \"init_train_data_iter\", \"Operation\": \"training\", \"Algorithm\": \"AWS/KMeansWebscale\"}, \"StartTime\": 1589656180.456443}\n",
      "\u001b[0m\n",
      "\u001b[34m[2020-05-16 19:09:40.456] [tensorio] [info] epoch_stats={\"data_pipeline\": \"/opt/ml/input/data/train\", \"epoch\": 0, \"duration\": 23, \"num_examples\": 1, \"num_bytes\": 180000}\u001b[0m\n",
      "\u001b[34m[2020-05-16 19:09:40.507] [tensorio] [info] epoch_stats={\"data_pipeline\": \"/opt/ml/input/data/train\", \"epoch\": 1, \"duration\": 50, \"num_examples\": 2, \"num_bytes\": 215748}\u001b[0m\n",
      "\u001b[34m[05/16/2020 19:09:40 INFO 139737394964288] processed a total of 5993 examples\u001b[0m\n",
      "\u001b[34m[05/16/2020 19:09:40 INFO 139737394964288] #progress_metric: host=algo-1, completed 100 % of epochs\u001b[0m\n",
      "\u001b[34m#metrics {\"Metrics\": {\"Max Batches Seen Between Resets\": {\"count\": 1, \"max\": 2, \"sum\": 2.0, \"min\": 2}, \"Number of Batches Since Last Reset\": {\"count\": 1, \"max\": 2, \"sum\": 2.0, \"min\": 2}, \"Number of Records Since Last Reset\": {\"count\": 1, \"max\": 5993, \"sum\": 5993.0, \"min\": 5993}, \"Total Batches Seen\": {\"count\": 1, \"max\": 3, \"sum\": 3.0, \"min\": 3}, \"Total Records Seen\": {\"count\": 1, \"max\": 10993, \"sum\": 10993.0, \"min\": 10993}, \"Max Records Seen Between Resets\": {\"count\": 1, \"max\": 5993, \"sum\": 5993.0, \"min\": 5993}, \"Reset Count\": {\"count\": 1, \"max\": 1, \"sum\": 1.0, \"min\": 1}}, \"EndTime\": 1589656180.507575, \"Dimensions\": {\"Host\": \"algo-1\", \"Meta\": \"training_data_iter\", \"Operation\": \"training\", \"Algorithm\": \"AWS/KMeansWebscale\", \"epoch\": 0}, \"StartTime\": 1589656180.456712}\n",
      "\u001b[0m\n",
      "\u001b[34m[05/16/2020 19:09:40 INFO 139737394964288] #throughput_metric: host=algo-1, train throughput=117498.545655 records/second\u001b[0m\n",
      "\u001b[34m[05/16/2020 19:09:40 WARNING 139737394964288] wait_for_all_workers will not sync workers since the kv store is not running distributed\u001b[0m\n",
      "\u001b[34m[05/16/2020 19:09:40 INFO 139737394964288] shrinking 20 centers into 2\u001b[0m\n",
      "\u001b[34m[05/16/2020 19:09:40 INFO 139737394964288] local kmeans attempt #0. Current mean square distance 0.075790\u001b[0m\n",
      "\u001b[34m[05/16/2020 19:09:40 INFO 139737394964288] local kmeans attempt #1. Current mean square distance 0.075790\u001b[0m\n",
      "\u001b[34m[05/16/2020 19:09:40 INFO 139737394964288] local kmeans attempt #2. Current mean square distance 0.079011\u001b[0m\n",
      "\u001b[34m[05/16/2020 19:09:40 INFO 139737394964288] local kmeans attempt #3. Current mean square distance 0.095252\u001b[0m\n",
      "\u001b[34m[05/16/2020 19:09:40 INFO 139737394964288] local kmeans attempt #4. Current mean square distance 0.076829\u001b[0m\n",
      "\u001b[34m[05/16/2020 19:09:40 INFO 139737394964288] local kmeans attempt #5. Current mean square distance 0.079011\u001b[0m\n",
      "\u001b[34m[05/16/2020 19:09:40 INFO 139737394964288] local kmeans attempt #6. Current mean square distance 0.079011\u001b[0m\n",
      "\u001b[34m[05/16/2020 19:09:40 INFO 139737394964288] local kmeans attempt #7. Current mean square distance 0.075940\u001b[0m\n",
      "\u001b[34m[05/16/2020 19:09:40 INFO 139737394964288] local kmeans attempt #8. Current mean square distance 0.079011\u001b[0m\n",
      "\u001b[34m[05/16/2020 19:09:40 INFO 139737394964288] local kmeans attempt #9. Current mean square distance 0.076829\u001b[0m\n",
      "\u001b[34m[05/16/2020 19:09:40 INFO 139737394964288] finished shrinking process. Mean Square Distance = 0\u001b[0m\n",
      "\u001b[34m[05/16/2020 19:09:40 INFO 139737394964288] #quality_metric: host=algo-1, train msd <loss>=0.0757903084159\u001b[0m\n",
      "\u001b[34m[05/16/2020 19:09:40 INFO 139737394964288] compute all data-center distances: inner product took: 25.9117%, (0.014778 secs)\u001b[0m\n",
      "\u001b[34m[05/16/2020 19:09:40 INFO 139737394964288] gradient: cluster center took: 13.7627%, (0.007849 secs)\u001b[0m\n",
      "\u001b[34m[05/16/2020 19:09:40 INFO 139737394964288] collect from kv store took: 12.8643%, (0.007337 secs)\u001b[0m\n",
      "\u001b[34m[05/16/2020 19:09:40 INFO 139737394964288] batch data loading with context took: 12.6712%, (0.007227 secs)\u001b[0m\n",
      "\u001b[34m[05/16/2020 19:09:40 INFO 139737394964288] splitting centers key-value pair took: 12.5002%, (0.007129 secs)\u001b[0m\n",
      "\u001b[34m[05/16/2020 19:09:40 INFO 139737394964288] compute all data-center distances: point norm took: 7.5013%, (0.004278 secs)\u001b[0m\n",
      "\u001b[34m[05/16/2020 19:09:40 INFO 139737394964288] gradient: one_hot took: 5.5620%, (0.003172 secs)\u001b[0m\n",
      "\u001b[34m[05/16/2020 19:09:40 INFO 139737394964288] predict compute msd took: 5.3300%, (0.003040 secs)\u001b[0m\n",
      "\u001b[34m[05/16/2020 19:09:40 INFO 139737394964288] update state and report convergance took: 1.5589%, (0.000889 secs)\u001b[0m\n",
      "\u001b[34m[05/16/2020 19:09:40 INFO 139737394964288] gradient: cluster size  took: 1.3833%, (0.000789 secs)\u001b[0m\n",
      "\u001b[34m[05/16/2020 19:09:40 INFO 139737394964288] compute all data-center distances: center norm took: 0.5280%, (0.000301 secs)\u001b[0m\n",
      "\u001b[34m[05/16/2020 19:09:40 INFO 139737394964288] update set-up time took: 0.3595%, (0.000205 secs)\u001b[0m\n",
      "\u001b[34m[05/16/2020 19:09:40 INFO 139737394964288] predict minus dist took: 0.0669%, (0.000038 secs)\u001b[0m\n",
      "\u001b[34m[05/16/2020 19:09:40 INFO 139737394964288] TOTAL took: 0.057032585144\u001b[0m\n",
      "\u001b[34m[05/16/2020 19:09:40 INFO 139737394964288] Number of GPUs being used: 0\u001b[0m\n",
      "\u001b[34m#metrics {\"Metrics\": {\"finalize.time\": {\"count\": 1, \"max\": 123.63409996032715, \"sum\": 123.63409996032715, \"min\": 123.63409996032715}, \"initialize.time\": {\"count\": 1, \"max\": 16.711950302124023, \"sum\": 16.711950302124023, \"min\": 16.711950302124023}, \"model.serialize.time\": {\"count\": 1, \"max\": 0.11396408081054688, \"sum\": 0.11396408081054688, \"min\": 0.11396408081054688}, \"update.time\": {\"count\": 1, \"max\": 50.66394805908203, \"sum\": 50.66394805908203, \"min\": 50.66394805908203}, \"epochs\": {\"count\": 1, \"max\": 1, \"sum\": 1.0, \"min\": 1}, \"state.serialize.time\": {\"count\": 1, \"max\": 1.3179779052734375, \"sum\": 1.3179779052734375, \"min\": 1.3179779052734375}, \"_shrink.time\": {\"count\": 1, \"max\": 121.77181243896484, \"sum\": 121.77181243896484, \"min\": 121.77181243896484}}, \"EndTime\": 1589656180.633128, \"Dimensions\": {\"Host\": \"algo-1\", \"Operation\": \"training\", \"Algorithm\": \"AWS/KMeansWebscale\"}, \"StartTime\": 1589656180.432012}\n",
      "\u001b[0m\n",
      "\u001b[34m[05/16/2020 19:09:40 INFO 139737394964288] Test data is not provided.\u001b[0m\n",
      "\u001b[34m#metrics {\"Metrics\": {\"totaltime\": {\"count\": 1, \"max\": 265.3481960296631, \"sum\": 265.3481960296631, \"min\": 265.3481960296631}, \"setuptime\": {\"count\": 1, \"max\": 14.026165008544922, \"sum\": 14.026165008544922, \"min\": 14.026165008544922}}, \"EndTime\": 1589656180.633476, \"Dimensions\": {\"Host\": \"algo-1\", \"Operation\": \"training\", \"Algorithm\": \"AWS/KMeansWebscale\"}, \"StartTime\": 1589656180.633222}\n",
      "\u001b[0m\n",
      "Training seconds: 62\n",
      "Billable seconds: 62\n",
      "starting train job:3\n",
      "2020-05-16 19:10:03 Starting - Starting the training job...\n",
      "2020-05-16 19:10:04 Starting - Launching requested ML instances......\n",
      "2020-05-16 19:11:05 Starting - Preparing the instances for training...\n",
      "2020-05-16 19:11:44 Downloading - Downloading input data...\n",
      "2020-05-16 19:12:26 Training - Downloading the training image..\u001b[34mDocker entrypoint called with argument(s): train\u001b[0m\n",
      "\u001b[34mRunning default environment configuration script\u001b[0m\n",
      "\u001b[34m[05/16/2020 19:12:42 INFO 139783630100288] Reading default configuration from /opt/amazon/lib/python2.7/site-packages/algorithm/resources/default-input.json: {u'_enable_profiler': u'false', u'_tuning_objective_metric': u'', u'_num_gpus': u'auto', u'local_lloyd_num_trials': u'auto', u'_log_level': u'info', u'_kvstore': u'auto', u'local_lloyd_init_method': u'kmeans++', u'force_dense': u'true', u'epochs': u'1', u'init_method': u'random', u'local_lloyd_tol': u'0.0001', u'local_lloyd_max_iter': u'300', u'_disable_wait_to_read': u'false', u'extra_center_factor': u'auto', u'eval_metrics': u'[\"msd\"]', u'_num_kv_servers': u'1', u'mini_batch_size': u'5000', u'half_life_time_size': u'0', u'_num_slices': u'1'}\u001b[0m\n",
      "\u001b[34m[05/16/2020 19:12:42 INFO 139783630100288] Reading provided configuration from /opt/ml/input/config/hyperparameters.json: {u'feature_dim': u'3', u'k': u'3', u'force_dense': u'True'}\u001b[0m\n",
      "\u001b[34m[05/16/2020 19:12:42 INFO 139783630100288] Final configuration: {u'_tuning_objective_metric': u'', u'extra_center_factor': u'auto', u'local_lloyd_init_method': u'kmeans++', u'force_dense': u'True', u'epochs': u'1', u'feature_dim': u'3', u'local_lloyd_tol': u'0.0001', u'_disable_wait_to_read': u'false', u'eval_metrics': u'[\"msd\"]', u'_num_kv_servers': u'1', u'mini_batch_size': u'5000', u'_enable_profiler': u'false', u'_num_gpus': u'auto', u'local_lloyd_num_trials': u'auto', u'_log_level': u'info', u'init_method': u'random', u'half_life_time_size': u'0', u'local_lloyd_max_iter': u'300', u'_kvstore': u'auto', u'k': u'3', u'_num_slices': u'1'}\u001b[0m\n",
      "\u001b[34m[05/16/2020 19:12:42 WARNING 139783630100288] Loggers have already been setup.\u001b[0m\n",
      "\u001b[34mProcess 1 is a worker.\u001b[0m\n",
      "\u001b[34m[05/16/2020 19:12:42 INFO 139783630100288] Using default worker.\u001b[0m\n",
      "\u001b[34m[05/16/2020 19:12:42 INFO 139783630100288] Loaded iterator creator application/x-recordio-protobuf for content type ('application/x-recordio-protobuf', '1.0')\u001b[0m\n",
      "\u001b[34m[05/16/2020 19:12:42 INFO 139783630100288] Create Store: local\u001b[0m\n",
      "\u001b[34m[05/16/2020 19:12:42 INFO 139783630100288] nvidia-smi took: 0.0252001285553 secs to identify 0 gpus\u001b[0m\n",
      "\u001b[34m[05/16/2020 19:12:42 INFO 139783630100288] Number of GPUs being used: 0\u001b[0m\n",
      "\u001b[34m[05/16/2020 19:12:42 INFO 139783630100288] Setting up with params: {u'_tuning_objective_metric': u'', u'extra_center_factor': u'auto', u'local_lloyd_init_method': u'kmeans++', u'force_dense': u'True', u'epochs': u'1', u'feature_dim': u'3', u'local_lloyd_tol': u'0.0001', u'_disable_wait_to_read': u'false', u'eval_metrics': u'[\"msd\"]', u'_num_kv_servers': u'1', u'mini_batch_size': u'5000', u'_enable_profiler': u'false', u'_num_gpus': u'auto', u'local_lloyd_num_trials': u'auto', u'_log_level': u'info', u'init_method': u'random', u'half_life_time_size': u'0', u'local_lloyd_max_iter': u'300', u'_kvstore': u'auto', u'k': u'3', u'_num_slices': u'1'}\u001b[0m\n",
      "\u001b[34m[05/16/2020 19:12:42 INFO 139783630100288] 'extra_center_factor' was set to 'auto', evaluated to 10.\u001b[0m\n",
      "\u001b[34m[05/16/2020 19:12:42 INFO 139783630100288] Number of GPUs being used: 0\u001b[0m\n",
      "\u001b[34m[05/16/2020 19:12:42 INFO 139783630100288] number of center slices 1\u001b[0m\n",
      "\u001b[34m#metrics {\"Metrics\": {\"Max Batches Seen Between Resets\": {\"count\": 1, \"max\": 1, \"sum\": 1.0, \"min\": 1}, \"Number of Batches Since Last Reset\": {\"count\": 1, \"max\": 1, \"sum\": 1.0, \"min\": 1}, \"Number of Records Since Last Reset\": {\"count\": 1, \"max\": 5000, \"sum\": 5000.0, \"min\": 5000}, \"Total Batches Seen\": {\"count\": 1, \"max\": 1, \"sum\": 1.0, \"min\": 1}, \"Total Records Seen\": {\"count\": 1, \"max\": 5000, \"sum\": 5000.0, \"min\": 5000}, \"Max Records Seen Between Resets\": {\"count\": 1, \"max\": 5000, \"sum\": 5000.0, \"min\": 5000}, \"Reset Count\": {\"count\": 1, \"max\": 0, \"sum\": 0.0, \"min\": 0}}, \"EndTime\": 1589656362.303307, \"Dimensions\": {\"Host\": \"algo-1\", \"Meta\": \"init_train_data_iter\", \"Operation\": \"training\", \"Algorithm\": \"AWS/KMeansWebscale\"}, \"StartTime\": 1589656362.303277}\n",
      "\u001b[0m\n",
      "\u001b[34m[2020-05-16 19:12:42.303] [tensorio] [info] epoch_stats={\"data_pipeline\": \"/opt/ml/input/data/train\", \"epoch\": 0, \"duration\": 25, \"num_examples\": 1, \"num_bytes\": 180000}\u001b[0m\n",
      "\u001b[34m[2020-05-16 19:12:42.353] [tensorio] [info] epoch_stats={\"data_pipeline\": \"/opt/ml/input/data/train\", \"epoch\": 1, \"duration\": 49, \"num_examples\": 2, \"num_bytes\": 215748}\u001b[0m\n",
      "\u001b[34m[05/16/2020 19:12:42 INFO 139783630100288] processed a total of 5993 examples\u001b[0m\n",
      "\u001b[34m[05/16/2020 19:12:42 INFO 139783630100288] #progress_metric: host=algo-1, completed 100 % of epochs\u001b[0m\n",
      "\u001b[34m#metrics {\"Metrics\": {\"Max Batches Seen Between Resets\": {\"count\": 1, \"max\": 2, \"sum\": 2.0, \"min\": 2}, \"Number of Batches Since Last Reset\": {\"count\": 1, \"max\": 2, \"sum\": 2.0, \"min\": 2}, \"Number of Records Since Last Reset\": {\"count\": 1, \"max\": 5993, \"sum\": 5993.0, \"min\": 5993}, \"Total Batches Seen\": {\"count\": 1, \"max\": 3, \"sum\": 3.0, \"min\": 3}, \"Total Records Seen\": {\"count\": 1, \"max\": 10993, \"sum\": 10993.0, \"min\": 10993}, \"Max Records Seen Between Resets\": {\"count\": 1, \"max\": 5993, \"sum\": 5993.0, \"min\": 5993}, \"Reset Count\": {\"count\": 1, \"max\": 1, \"sum\": 1.0, \"min\": 1}}, \"EndTime\": 1589656362.353554, \"Dimensions\": {\"Host\": \"algo-1\", \"Meta\": \"training_data_iter\", \"Operation\": \"training\", \"Algorithm\": \"AWS/KMeansWebscale\", \"epoch\": 0}, \"StartTime\": 1589656362.303558}\n",
      "\u001b[0m\n",
      "\u001b[34m[05/16/2020 19:12:42 INFO 139783630100288] #throughput_metric: host=algo-1, train throughput=119592.092071 records/second\u001b[0m\n",
      "\u001b[34m[05/16/2020 19:12:42 WARNING 139783630100288] wait_for_all_workers will not sync workers since the kv store is not running distributed\u001b[0m\n",
      "\u001b[34m[05/16/2020 19:12:42 INFO 139783630100288] shrinking 30 centers into 3\u001b[0m\n",
      "\u001b[34m[05/16/2020 19:12:42 INFO 139783630100288] local kmeans attempt #0. Current mean square distance 0.062679\u001b[0m\n",
      "\u001b[34m[05/16/2020 19:12:42 INFO 139783630100288] local kmeans attempt #1. Current mean square distance 0.067223\u001b[0m\n",
      "\u001b[34m[05/16/2020 19:12:42 INFO 139783630100288] local kmeans attempt #2. Current mean square distance 0.065384\u001b[0m\n",
      "\u001b[34m[05/16/2020 19:12:42 INFO 139783630100288] local kmeans attempt #3. Current mean square distance 0.067329\u001b[0m\n",
      "\u001b[34m[05/16/2020 19:12:42 INFO 139783630100288] local kmeans attempt #4. Current mean square distance 0.068701\u001b[0m\n",
      "\u001b[34m[05/16/2020 19:12:42 INFO 139783630100288] local kmeans attempt #5. Current mean square distance 0.066410\u001b[0m\n",
      "\u001b[34m[05/16/2020 19:12:42 INFO 139783630100288] local kmeans attempt #6. Current mean square distance 0.067701\u001b[0m\n",
      "\u001b[34m[05/16/2020 19:12:42 INFO 139783630100288] local kmeans attempt #7. Current mean square distance 0.066809\u001b[0m\n",
      "\u001b[34m[05/16/2020 19:12:42 INFO 139783630100288] local kmeans attempt #8. Current mean square distance 0.062679\u001b[0m\n",
      "\u001b[34m[05/16/2020 19:12:42 INFO 139783630100288] local kmeans attempt #9. Current mean square distance 0.068903\u001b[0m\n",
      "\u001b[34m[05/16/2020 19:12:42 INFO 139783630100288] finished shrinking process. Mean Square Distance = 0\u001b[0m\n",
      "\u001b[34m[05/16/2020 19:12:42 INFO 139783630100288] #quality_metric: host=algo-1, train msd <loss>=0.0626793205738\u001b[0m\n",
      "\u001b[34m[05/16/2020 19:12:42 INFO 139783630100288] compute all data-center distances: inner product took: 26.3833%, (0.014796 secs)\u001b[0m\n",
      "\u001b[34m[05/16/2020 19:12:42 INFO 139783630100288] gradient: cluster center took: 13.2539%, (0.007433 secs)\u001b[0m\n",
      "\u001b[34m[05/16/2020 19:12:42 INFO 139783630100288] collect from kv store took: 12.8904%, (0.007229 secs)\u001b[0m\n",
      "\u001b[34m[05/16/2020 19:12:42 INFO 139783630100288] splitting centers key-value pair took: 12.5265%, (0.007025 secs)\u001b[0m\n",
      "\u001b[34m[05/16/2020 19:12:42 INFO 139783630100288] batch data loading with context took: 11.2209%, (0.006293 secs)\u001b[0m\n",
      "\u001b[34m[05/16/2020 19:12:42 INFO 139783630100288] compute all data-center distances: point norm took: 7.5125%, (0.004213 secs)\u001b[0m\n",
      "\u001b[34m[05/16/2020 19:12:42 INFO 139783630100288] predict compute msd took: 6.1640%, (0.003457 secs)\u001b[0m\n",
      "\u001b[34m[05/16/2020 19:12:42 INFO 139783630100288] gradient: one_hot took: 5.7291%, (0.003213 secs)\u001b[0m\n",
      "\u001b[34m[05/16/2020 19:12:42 INFO 139783630100288] gradient: cluster size  took: 1.9148%, (0.001074 secs)\u001b[0m\n",
      "\u001b[34m[05/16/2020 19:12:42 INFO 139783630100288] update state and report convergance took: 1.4263%, (0.000800 secs)\u001b[0m\n",
      "\u001b[34m[05/16/2020 19:12:42 INFO 139783630100288] compute all data-center distances: center norm took: 0.5595%, (0.000314 secs)\u001b[0m\n",
      "\u001b[34m[05/16/2020 19:12:42 INFO 139783630100288] update set-up time took: 0.3563%, (0.000200 secs)\u001b[0m\n",
      "\u001b[34m[05/16/2020 19:12:42 INFO 139783630100288] predict minus dist took: 0.0625%, (0.000035 secs)\u001b[0m\n",
      "\u001b[34m[05/16/2020 19:12:42 INFO 139783630100288] TOTAL took: 0.0560810565948\u001b[0m\n",
      "\u001b[34m[05/16/2020 19:12:42 INFO 139783630100288] Number of GPUs being used: 0\u001b[0m\n",
      "\u001b[34m#metrics {\"Metrics\": {\"finalize.time\": {\"count\": 1, \"max\": 151.6270637512207, \"sum\": 151.6270637512207, \"min\": 151.6270637512207}, \"initialize.time\": {\"count\": 1, \"max\": 18.19300651550293, \"sum\": 18.19300651550293, \"min\": 18.19300651550293}, \"model.serialize.time\": {\"count\": 1, \"max\": 0.13113021850585938, \"sum\": 0.13113021850585938, \"min\": 0.13113021850585938}, \"update.time\": {\"count\": 1, \"max\": 49.80611801147461, \"sum\": 49.80611801147461, \"min\": 49.80611801147461}, \"epochs\": {\"count\": 1, \"max\": 1, \"sum\": 1.0, \"min\": 1}, \"state.serialize.time\": {\"count\": 1, \"max\": 4.724025726318359, \"sum\": 4.724025726318359, \"min\": 4.724025726318359}, \"_shrink.time\": {\"count\": 1, \"max\": 149.55902099609375, \"sum\": 149.55902099609375, \"min\": 149.55902099609375}}, \"EndTime\": 1589656362.510486, \"Dimensions\": {\"Host\": \"algo-1\", \"Operation\": \"training\", \"Algorithm\": \"AWS/KMeansWebscale\"}, \"StartTime\": 1589656362.277481}\n",
      "\u001b[0m\n",
      "\u001b[34m[05/16/2020 19:12:42 INFO 139783630100288] Test data is not provided.\u001b[0m\n",
      "\u001b[34m#metrics {\"Metrics\": {\"totaltime\": {\"count\": 1, \"max\": 295.9249019622803, \"sum\": 295.9249019622803, \"min\": 295.9249019622803}, \"setuptime\": {\"count\": 1, \"max\": 13.154983520507812, \"sum\": 13.154983520507812, \"min\": 13.154983520507812}}, \"EndTime\": 1589656362.510831, \"Dimensions\": {\"Host\": \"algo-1\", \"Operation\": \"training\", \"Algorithm\": \"AWS/KMeansWebscale\"}, \"StartTime\": 1589656362.510579}\n",
      "\u001b[0m\n",
      "\n",
      "2020-05-16 19:12:51 Uploading - Uploading generated training model\n",
      "2020-05-16 19:12:51 Completed - Training job completed\n",
      "Training seconds: 67\n",
      "Billable seconds: 67\n",
      "starting train job:4\n",
      "2020-05-16 19:13:15 Starting - Starting the training job...\n",
      "2020-05-16 19:13:17 Starting - Launching requested ML instances......\n",
      "2020-05-16 19:14:18 Starting - Preparing the instances for training......\n",
      "2020-05-16 19:15:38 Downloading - Downloading input data...\n",
      "2020-05-16 19:16:13 Training - Training image download completed. Training in progress.\n",
      "2020-05-16 19:16:13 Uploading - Uploading generated training model.\u001b[34mDocker entrypoint called with argument(s): train\u001b[0m\n",
      "\u001b[34mRunning default environment configuration script\u001b[0m\n",
      "\u001b[34m[05/16/2020 19:16:11 INFO 140637440661312] Reading default configuration from /opt/amazon/lib/python2.7/site-packages/algorithm/resources/default-input.json: {u'_enable_profiler': u'false', u'_tuning_objective_metric': u'', u'_num_gpus': u'auto', u'local_lloyd_num_trials': u'auto', u'_log_level': u'info', u'_kvstore': u'auto', u'local_lloyd_init_method': u'kmeans++', u'force_dense': u'true', u'epochs': u'1', u'init_method': u'random', u'local_lloyd_tol': u'0.0001', u'local_lloyd_max_iter': u'300', u'_disable_wait_to_read': u'false', u'extra_center_factor': u'auto', u'eval_metrics': u'[\"msd\"]', u'_num_kv_servers': u'1', u'mini_batch_size': u'5000', u'half_life_time_size': u'0', u'_num_slices': u'1'}\u001b[0m\n",
      "\u001b[34m[05/16/2020 19:16:11 INFO 140637440661312] Reading provided configuration from /opt/ml/input/config/hyperparameters.json: {u'feature_dim': u'3', u'k': u'4', u'force_dense': u'True'}\u001b[0m\n",
      "\u001b[34m[05/16/2020 19:16:11 INFO 140637440661312] Final configuration: {u'_tuning_objective_metric': u'', u'extra_center_factor': u'auto', u'local_lloyd_init_method': u'kmeans++', u'force_dense': u'True', u'epochs': u'1', u'feature_dim': u'3', u'local_lloyd_tol': u'0.0001', u'_disable_wait_to_read': u'false', u'eval_metrics': u'[\"msd\"]', u'_num_kv_servers': u'1', u'mini_batch_size': u'5000', u'_enable_profiler': u'false', u'_num_gpus': u'auto', u'local_lloyd_num_trials': u'auto', u'_log_level': u'info', u'init_method': u'random', u'half_life_time_size': u'0', u'local_lloyd_max_iter': u'300', u'_kvstore': u'auto', u'k': u'4', u'_num_slices': u'1'}\u001b[0m\n",
      "\u001b[34m[05/16/2020 19:16:11 WARNING 140637440661312] Loggers have already been setup.\u001b[0m\n",
      "\u001b[34mProcess 1 is a worker.\u001b[0m\n",
      "\u001b[34m[05/16/2020 19:16:11 INFO 140637440661312] Using default worker.\u001b[0m\n",
      "\u001b[34m[05/16/2020 19:16:11 INFO 140637440661312] Loaded iterator creator application/x-recordio-protobuf for content type ('application/x-recordio-protobuf', '1.0')\u001b[0m\n",
      "\u001b[34m[05/16/2020 19:16:11 INFO 140637440661312] Create Store: local\u001b[0m\n",
      "\u001b[34m[05/16/2020 19:16:11 INFO 140637440661312] nvidia-smi took: 0.0251860618591 secs to identify 0 gpus\u001b[0m\n",
      "\u001b[34m[05/16/2020 19:16:11 INFO 140637440661312] Number of GPUs being used: 0\u001b[0m\n",
      "\u001b[34m[05/16/2020 19:16:11 INFO 140637440661312] Setting up with params: {u'_tuning_objective_metric': u'', u'extra_center_factor': u'auto', u'local_lloyd_init_method': u'kmeans++', u'force_dense': u'True', u'epochs': u'1', u'feature_dim': u'3', u'local_lloyd_tol': u'0.0001', u'_disable_wait_to_read': u'false', u'eval_metrics': u'[\"msd\"]', u'_num_kv_servers': u'1', u'mini_batch_size': u'5000', u'_enable_profiler': u'false', u'_num_gpus': u'auto', u'local_lloyd_num_trials': u'auto', u'_log_level': u'info', u'init_method': u'random', u'half_life_time_size': u'0', u'local_lloyd_max_iter': u'300', u'_kvstore': u'auto', u'k': u'4', u'_num_slices': u'1'}\u001b[0m\n",
      "\u001b[34m[05/16/2020 19:16:11 INFO 140637440661312] 'extra_center_factor' was set to 'auto', evaluated to 10.\u001b[0m\n",
      "\u001b[34m[05/16/2020 19:16:11 INFO 140637440661312] Number of GPUs being used: 0\u001b[0m\n",
      "\u001b[34m[05/16/2020 19:16:11 INFO 140637440661312] number of center slices 1\u001b[0m\n",
      "\u001b[34m#metrics {\"Metrics\": {\"Max Batches Seen Between Resets\": {\"count\": 1, \"max\": 1, \"sum\": 1.0, \"min\": 1}, \"Number of Batches Since Last Reset\": {\"count\": 1, \"max\": 1, \"sum\": 1.0, \"min\": 1}, \"Number of Records Since Last Reset\": {\"count\": 1, \"max\": 5000, \"sum\": 5000.0, \"min\": 5000}, \"Total Batches Seen\": {\"count\": 1, \"max\": 1, \"sum\": 1.0, \"min\": 1}, \"Total Records Seen\": {\"count\": 1, \"max\": 5000, \"sum\": 5000.0, \"min\": 5000}, \"Max Records Seen Between Resets\": {\"count\": 1, \"max\": 5000, \"sum\": 5000.0, \"min\": 5000}, \"Reset Count\": {\"count\": 1, \"max\": 0, \"sum\": 0.0, \"min\": 0}}, \"EndTime\": 1589656571.192913, \"Dimensions\": {\"Host\": \"algo-1\", \"Meta\": \"init_train_data_iter\", \"Operation\": \"training\", \"Algorithm\": \"AWS/KMeansWebscale\"}, \"StartTime\": 1589656571.192877}\n",
      "\u001b[0m\n",
      "\u001b[34m[2020-05-16 19:16:11.193] [tensorio] [info] epoch_stats={\"data_pipeline\": \"/opt/ml/input/data/train\", \"epoch\": 0, \"duration\": 29, \"num_examples\": 1, \"num_bytes\": 180000}\u001b[0m\n",
      "\u001b[34m[2020-05-16 19:16:11.252] [tensorio] [info] epoch_stats={\"data_pipeline\": \"/opt/ml/input/data/train\", \"epoch\": 1, \"duration\": 58, \"num_examples\": 2, \"num_bytes\": 215748}\u001b[0m\n",
      "\u001b[34m[05/16/2020 19:16:11 INFO 140637440661312] processed a total of 5993 examples\u001b[0m\n",
      "\u001b[34m[05/16/2020 19:16:11 INFO 140637440661312] #progress_metric: host=algo-1, completed 100 % of epochs\u001b[0m\n",
      "\u001b[34m#metrics {\"Metrics\": {\"Max Batches Seen Between Resets\": {\"count\": 1, \"max\": 2, \"sum\": 2.0, \"min\": 2}, \"Number of Batches Since Last Reset\": {\"count\": 1, \"max\": 2, \"sum\": 2.0, \"min\": 2}, \"Number of Records Since Last Reset\": {\"count\": 1, \"max\": 5993, \"sum\": 5993.0, \"min\": 5993}, \"Total Batches Seen\": {\"count\": 1, \"max\": 3, \"sum\": 3.0, \"min\": 3}, \"Total Records Seen\": {\"count\": 1, \"max\": 10993, \"sum\": 10993.0, \"min\": 10993}, \"Max Records Seen Between Resets\": {\"count\": 1, \"max\": 5993, \"sum\": 5993.0, \"min\": 5993}, \"Reset Count\": {\"count\": 1, \"max\": 1, \"sum\": 1.0, \"min\": 1}}, \"EndTime\": 1589656571.25339, \"Dimensions\": {\"Host\": \"algo-1\", \"Meta\": \"training_data_iter\", \"Operation\": \"training\", \"Algorithm\": \"AWS/KMeansWebscale\", \"epoch\": 0}, \"StartTime\": 1589656571.193255}\n",
      "\u001b[0m\n",
      "\u001b[34m[05/16/2020 19:16:11 INFO 140637440661312] #throughput_metric: host=algo-1, train throughput=99429.068194 records/second\u001b[0m\n",
      "\u001b[34m[05/16/2020 19:16:11 WARNING 140637440661312] wait_for_all_workers will not sync workers since the kv store is not running distributed\u001b[0m\n",
      "\u001b[34m[05/16/2020 19:16:11 INFO 140637440661312] shrinking 40 centers into 4\u001b[0m\n",
      "\u001b[34m[05/16/2020 19:16:11 INFO 140637440661312] local kmeans attempt #0. Current mean square distance 0.053011\u001b[0m\n",
      "\u001b[34m[05/16/2020 19:16:11 INFO 140637440661312] local kmeans attempt #1. Current mean square distance 0.055207\u001b[0m\n",
      "\u001b[34m[05/16/2020 19:16:11 INFO 140637440661312] local kmeans attempt #2. Current mean square distance 0.056469\u001b[0m\n",
      "\u001b[34m[05/16/2020 19:16:11 INFO 140637440661312] local kmeans attempt #3. Current mean square distance 0.055424\u001b[0m\n",
      "\u001b[34m[05/16/2020 19:16:11 INFO 140637440661312] local kmeans attempt #4. Current mean square distance 0.057141\u001b[0m\n",
      "\u001b[34m[05/16/2020 19:16:11 INFO 140637440661312] local kmeans attempt #5. Current mean square distance 0.054425\u001b[0m\n",
      "\u001b[34m[05/16/2020 19:16:11 INFO 140637440661312] local kmeans attempt #6. Current mean square distance 0.054647\u001b[0m\n",
      "\u001b[34m[05/16/2020 19:16:11 INFO 140637440661312] local kmeans attempt #7. Current mean square distance 0.056448\u001b[0m\n",
      "\u001b[34m[05/16/2020 19:16:11 INFO 140637440661312] local kmeans attempt #8. Current mean square distance 0.058877\u001b[0m\n",
      "\u001b[34m[05/16/2020 19:16:11 INFO 140637440661312] local kmeans attempt #9. Current mean square distance 0.059888\u001b[0m\n",
      "\u001b[34m[05/16/2020 19:16:11 INFO 140637440661312] finished shrinking process. Mean Square Distance = 0\u001b[0m\n",
      "\u001b[34m[05/16/2020 19:16:11 INFO 140637440661312] #quality_metric: host=algo-1, train msd <loss>=0.0530108548701\u001b[0m\n",
      "\u001b[34m[05/16/2020 19:16:11 INFO 140637440661312] compute all data-center distances: inner product took: 32.4893%, (0.021493 secs)\u001b[0m\n",
      "\u001b[34m[05/16/2020 19:16:11 INFO 140637440661312] collect from kv store took: 11.2297%, (0.007429 secs)\u001b[0m\n",
      "\u001b[34m[05/16/2020 19:16:11 INFO 140637440661312] gradient: cluster center took: 10.9565%, (0.007248 secs)\u001b[0m\n",
      "\u001b[34m[05/16/2020 19:16:11 INFO 140637440661312] splitting centers key-value pair took: 10.9050%, (0.007214 secs)\u001b[0m\n",
      "\u001b[34m[05/16/2020 19:16:11 INFO 140637440661312] batch data loading with context took: 10.6736%, (0.007061 secs)\u001b[0m\n",
      "\u001b[34m[05/16/2020 19:16:11 INFO 140637440661312] compute all data-center distances: point norm took: 8.2989%, (0.005490 secs)\u001b[0m\n",
      "\u001b[34m[05/16/2020 19:16:11 INFO 140637440661312] predict compute msd took: 6.1163%, (0.004046 secs)\u001b[0m\n",
      "\u001b[34m[05/16/2020 19:16:11 INFO 140637440661312] gradient: one_hot took: 4.9187%, (0.003254 secs)\u001b[0m\n",
      "\u001b[34m[05/16/2020 19:16:11 INFO 140637440661312] gradient: cluster size  took: 2.2507%, (0.001489 secs)\u001b[0m\n",
      "\u001b[34m[05/16/2020 19:16:11 INFO 140637440661312] update state and report convergance took: 1.3601%, (0.000900 secs)\u001b[0m\n",
      "\u001b[34m[05/16/2020 19:16:11 INFO 140637440661312] compute all data-center distances: center norm took: 0.3990%, (0.000264 secs)\u001b[0m\n",
      "\u001b[34m[05/16/2020 19:16:11 INFO 140637440661312] update set-up time took: 0.3265%, (0.000216 secs)\u001b[0m\n",
      "\u001b[34m[05/16/2020 19:16:11 INFO 140637440661312] predict minus dist took: 0.0757%, (0.000050 secs)\u001b[0m\n",
      "\u001b[34m[05/16/2020 19:16:11 INFO 140637440661312] TOTAL took: 0.0661540031433\u001b[0m\n",
      "\u001b[34m[05/16/2020 19:16:11 INFO 140637440661312] Number of GPUs being used: 0\u001b[0m\n",
      "\u001b[34m#metrics {\"Metrics\": {\"finalize.time\": {\"count\": 1, \"max\": 196.5639591217041, \"sum\": 196.5639591217041, \"min\": 196.5639591217041}, \"initialize.time\": {\"count\": 1, \"max\": 22.229909896850586, \"sum\": 22.229909896850586, \"min\": 22.229909896850586}, \"model.serialize.time\": {\"count\": 1, \"max\": 0.1971721649169922, \"sum\": 0.1971721649169922, \"min\": 0.1971721649169922}, \"update.time\": {\"count\": 1, \"max\": 59.89384651184082, \"sum\": 59.89384651184082, \"min\": 59.89384651184082}, \"epochs\": {\"count\": 1, \"max\": 1, \"sum\": 1.0, \"min\": 1}, \"state.serialize.time\": {\"count\": 1, \"max\": 1.4569759368896484, \"sum\": 1.4569759368896484, \"min\": 1.4569759368896484}, \"_shrink.time\": {\"count\": 1, \"max\": 193.6659812927246, \"sum\": 193.6659812927246, \"min\": 193.6659812927246}}, \"EndTime\": 1589656571.452091, \"Dimensions\": {\"Host\": \"algo-1\", \"Operation\": \"training\", \"Algorithm\": \"AWS/KMeansWebscale\"}, \"StartTime\": 1589656571.163314}\n",
      "\u001b[0m\n",
      "\u001b[34m[05/16/2020 19:16:11 INFO 140637440661312] Test data is not provided.\u001b[0m\n",
      "\u001b[34m#metrics {\"Metrics\": {\"totaltime\": {\"count\": 1, \"max\": 352.830171585083, \"sum\": 352.830171585083, \"min\": 352.830171585083}, \"setuptime\": {\"count\": 1, \"max\": 13.637065887451172, \"sum\": 13.637065887451172, \"min\": 13.637065887451172}}, \"EndTime\": 1589656571.452538, \"Dimensions\": {\"Host\": \"algo-1\", \"Operation\": \"training\", \"Algorithm\": \"AWS/KMeansWebscale\"}, \"StartTime\": 1589656571.452204}\n",
      "\u001b[0m\n",
      "\n",
      "2020-05-16 19:16:20 Completed - Training job completed\n",
      "Training seconds: 42\n",
      "Billable seconds: 42\n",
      "starting train job:5\n",
      "2020-05-16 19:16:57 Starting - Starting the training job...\n",
      "2020-05-16 19:16:59 Starting - Launching requested ML instances......\n",
      "2020-05-16 19:18:00 Starting - Preparing the instances for training......\n",
      "2020-05-16 19:19:07 Downloading - Downloading input data...\n",
      "2020-05-16 19:19:58 Training - Training image download completed. Training in progress.\n",
      "2020-05-16 19:19:58 Uploading - Uploading generated training model.\u001b[34mDocker entrypoint called with argument(s): train\u001b[0m\n",
      "\u001b[34mRunning default environment configuration script\u001b[0m\n",
      "\u001b[34m[05/16/2020 19:19:55 INFO 139984918230848] Reading default configuration from /opt/amazon/lib/python2.7/site-packages/algorithm/resources/default-input.json: {u'_enable_profiler': u'false', u'_tuning_objective_metric': u'', u'_num_gpus': u'auto', u'local_lloyd_num_trials': u'auto', u'_log_level': u'info', u'_kvstore': u'auto', u'local_lloyd_init_method': u'kmeans++', u'force_dense': u'true', u'epochs': u'1', u'init_method': u'random', u'local_lloyd_tol': u'0.0001', u'local_lloyd_max_iter': u'300', u'_disable_wait_to_read': u'false', u'extra_center_factor': u'auto', u'eval_metrics': u'[\"msd\"]', u'_num_kv_servers': u'1', u'mini_batch_size': u'5000', u'half_life_time_size': u'0', u'_num_slices': u'1'}\u001b[0m\n",
      "\u001b[34m[05/16/2020 19:19:55 INFO 139984918230848] Reading provided configuration from /opt/ml/input/config/hyperparameters.json: {u'feature_dim': u'3', u'k': u'5', u'force_dense': u'True'}\u001b[0m\n",
      "\u001b[34m[05/16/2020 19:19:55 INFO 139984918230848] Final configuration: {u'_tuning_objective_metric': u'', u'extra_center_factor': u'auto', u'local_lloyd_init_method': u'kmeans++', u'force_dense': u'True', u'epochs': u'1', u'feature_dim': u'3', u'local_lloyd_tol': u'0.0001', u'_disable_wait_to_read': u'false', u'eval_metrics': u'[\"msd\"]', u'_num_kv_servers': u'1', u'mini_batch_size': u'5000', u'_enable_profiler': u'false', u'_num_gpus': u'auto', u'local_lloyd_num_trials': u'auto', u'_log_level': u'info', u'init_method': u'random', u'half_life_time_size': u'0', u'local_lloyd_max_iter': u'300', u'_kvstore': u'auto', u'k': u'5', u'_num_slices': u'1'}\u001b[0m\n",
      "\u001b[34m[05/16/2020 19:19:55 WARNING 139984918230848] Loggers have already been setup.\u001b[0m\n",
      "\u001b[34mProcess 1 is a worker.\u001b[0m\n",
      "\u001b[34m[05/16/2020 19:19:55 INFO 139984918230848] Using default worker.\u001b[0m\n",
      "\u001b[34m[05/16/2020 19:19:55 INFO 139984918230848] Loaded iterator creator application/x-recordio-protobuf for content type ('application/x-recordio-protobuf', '1.0')\u001b[0m\n",
      "\u001b[34m[05/16/2020 19:19:55 INFO 139984918230848] Create Store: local\u001b[0m\n",
      "\u001b[34m[05/16/2020 19:19:55 INFO 139984918230848] nvidia-smi took: 0.0251989364624 secs to identify 0 gpus\u001b[0m\n",
      "\u001b[34m[05/16/2020 19:19:55 INFO 139984918230848] Number of GPUs being used: 0\u001b[0m\n",
      "\u001b[34m[05/16/2020 19:19:55 INFO 139984918230848] Setting up with params: {u'_tuning_objective_metric': u'', u'extra_center_factor': u'auto', u'local_lloyd_init_method': u'kmeans++', u'force_dense': u'True', u'epochs': u'1', u'feature_dim': u'3', u'local_lloyd_tol': u'0.0001', u'_disable_wait_to_read': u'false', u'eval_metrics': u'[\"msd\"]', u'_num_kv_servers': u'1', u'mini_batch_size': u'5000', u'_enable_profiler': u'false', u'_num_gpus': u'auto', u'local_lloyd_num_trials': u'auto', u'_log_level': u'info', u'init_method': u'random', u'half_life_time_size': u'0', u'local_lloyd_max_iter': u'300', u'_kvstore': u'auto', u'k': u'5', u'_num_slices': u'1'}\u001b[0m\n",
      "\u001b[34m[05/16/2020 19:19:55 INFO 139984918230848] 'extra_center_factor' was set to 'auto', evaluated to 10.\u001b[0m\n",
      "\u001b[34m[05/16/2020 19:19:55 INFO 139984918230848] Number of GPUs being used: 0\u001b[0m\n",
      "\u001b[34m[05/16/2020 19:19:55 INFO 139984918230848] number of center slices 1\u001b[0m\n",
      "\u001b[34m#metrics {\"Metrics\": {\"Max Batches Seen Between Resets\": {\"count\": 1, \"max\": 1, \"sum\": 1.0, \"min\": 1}, \"Number of Batches Since Last Reset\": {\"count\": 1, \"max\": 1, \"sum\": 1.0, \"min\": 1}, \"Number of Records Since Last Reset\": {\"count\": 1, \"max\": 5000, \"sum\": 5000.0, \"min\": 5000}, \"Total Batches Seen\": {\"count\": 1, \"max\": 1, \"sum\": 1.0, \"min\": 1}, \"Total Records Seen\": {\"count\": 1, \"max\": 5000, \"sum\": 5000.0, \"min\": 5000}, \"Max Records Seen Between Resets\": {\"count\": 1, \"max\": 5000, \"sum\": 5000.0, \"min\": 5000}, \"Reset Count\": {\"count\": 1, \"max\": 0, \"sum\": 0.0, \"min\": 0}}, \"EndTime\": 1589656795.891721, \"Dimensions\": {\"Host\": \"algo-1\", \"Meta\": \"init_train_data_iter\", \"Operation\": \"training\", \"Algorithm\": \"AWS/KMeansWebscale\"}, \"StartTime\": 1589656795.891636}\n",
      "\u001b[0m\n",
      "\u001b[34m[2020-05-16 19:19:55.891] [tensorio] [info] epoch_stats={\"data_pipeline\": \"/opt/ml/input/data/train\", \"epoch\": 0, \"duration\": 32, \"num_examples\": 1, \"num_bytes\": 180000}\u001b[0m\n",
      "\u001b[34m[2020-05-16 19:19:55.950] [tensorio] [info] epoch_stats={\"data_pipeline\": \"/opt/ml/input/data/train\", \"epoch\": 1, \"duration\": 57, \"num_examples\": 2, \"num_bytes\": 215748}\u001b[0m\n",
      "\u001b[34m[05/16/2020 19:19:55 INFO 139984918230848] processed a total of 5993 examples\u001b[0m\n",
      "\u001b[34m[05/16/2020 19:19:55 INFO 139984918230848] #progress_metric: host=algo-1, completed 100 % of epochs\u001b[0m\n",
      "\u001b[34m#metrics {\"Metrics\": {\"Max Batches Seen Between Resets\": {\"count\": 1, \"max\": 2, \"sum\": 2.0, \"min\": 2}, \"Number of Batches Since Last Reset\": {\"count\": 1, \"max\": 2, \"sum\": 2.0, \"min\": 2}, \"Number of Records Since Last Reset\": {\"count\": 1, \"max\": 5993, \"sum\": 5993.0, \"min\": 5993}, \"Total Batches Seen\": {\"count\": 1, \"max\": 3, \"sum\": 3.0, \"min\": 3}, \"Total Records Seen\": {\"count\": 1, \"max\": 10993, \"sum\": 10993.0, \"min\": 10993}, \"Max Records Seen Between Resets\": {\"count\": 1, \"max\": 5993, \"sum\": 5993.0, \"min\": 5993}, \"Reset Count\": {\"count\": 1, \"max\": 1, \"sum\": 1.0, \"min\": 1}}, \"EndTime\": 1589656795.951177, \"Dimensions\": {\"Host\": \"algo-1\", \"Meta\": \"training_data_iter\", \"Operation\": \"training\", \"Algorithm\": \"AWS/KMeansWebscale\", \"epoch\": 0}, \"StartTime\": 1589656795.891978}\n",
      "\u001b[0m\n",
      "\u001b[34m[05/16/2020 19:19:55 INFO 139984918230848] #throughput_metric: host=algo-1, train throughput=101029.991206 records/second\u001b[0m\n",
      "\u001b[34m[05/16/2020 19:19:55 WARNING 139984918230848] wait_for_all_workers will not sync workers since the kv store is not running distributed\u001b[0m\n",
      "\u001b[34m[05/16/2020 19:19:55 INFO 139984918230848] shrinking 50 centers into 5\u001b[0m\n",
      "\u001b[34m[05/16/2020 19:19:55 INFO 139984918230848] local kmeans attempt #0. Current mean square distance 0.051590\u001b[0m\n",
      "\u001b[34m[05/16/2020 19:19:56 INFO 139984918230848] local kmeans attempt #1. Current mean square distance 0.047397\u001b[0m\n",
      "\u001b[34m[05/16/2020 19:19:56 INFO 139984918230848] local kmeans attempt #2. Current mean square distance 0.051288\u001b[0m\n",
      "\u001b[34m[05/16/2020 19:19:56 INFO 139984918230848] local kmeans attempt #3. Current mean square distance 0.049593\u001b[0m\n",
      "\u001b[34m[05/16/2020 19:19:56 INFO 139984918230848] local kmeans attempt #4. Current mean square distance 0.053911\u001b[0m\n",
      "\u001b[34m[05/16/2020 19:19:56 INFO 139984918230848] local kmeans attempt #5. Current mean square distance 0.047716\u001b[0m\n",
      "\u001b[34m[05/16/2020 19:19:56 INFO 139984918230848] local kmeans attempt #6. Current mean square distance 0.050644\u001b[0m\n",
      "\u001b[34m[05/16/2020 19:19:56 INFO 139984918230848] local kmeans attempt #7. Current mean square distance 0.047220\u001b[0m\n",
      "\u001b[34m[05/16/2020 19:19:56 INFO 139984918230848] local kmeans attempt #8. Current mean square distance 0.047500\u001b[0m\n",
      "\u001b[34m[05/16/2020 19:19:56 INFO 139984918230848] local kmeans attempt #9. Current mean square distance 0.046926\u001b[0m\n",
      "\u001b[34m[05/16/2020 19:19:56 INFO 139984918230848] finished shrinking process. Mean Square Distance = 0\u001b[0m\n",
      "\u001b[34m[05/16/2020 19:19:56 INFO 139984918230848] #quality_metric: host=algo-1, train msd <loss>=0.0469256602228\u001b[0m\n",
      "\u001b[34m[05/16/2020 19:19:56 INFO 139984918230848] compute all data-center distances: inner product took: 27.4462%, (0.017871 secs)\u001b[0m\n",
      "\u001b[34m[05/16/2020 19:19:56 INFO 139984918230848] gradient: cluster center took: 13.8007%, (0.008986 secs)\u001b[0m\n",
      "\u001b[34m[05/16/2020 19:19:56 INFO 139984918230848] collect from kv store took: 11.1010%, (0.007228 secs)\u001b[0m\n",
      "\u001b[34m[05/16/2020 19:19:56 INFO 139984918230848] batch data loading with context took: 10.7410%, (0.006994 secs)\u001b[0m\n",
      "\u001b[34m[05/16/2020 19:19:56 INFO 139984918230848] splitting centers key-value pair took: 10.7033%, (0.006969 secs)\u001b[0m\n",
      "\u001b[34m[05/16/2020 19:19:56 INFO 139984918230848] predict compute msd took: 8.4833%, (0.005524 secs)\u001b[0m\n",
      "\u001b[34m[05/16/2020 19:19:56 INFO 139984918230848] compute all data-center distances: point norm took: 6.4075%, (0.004172 secs)\u001b[0m\n",
      "\u001b[34m[05/16/2020 19:19:56 INFO 139984918230848] gradient: one_hot took: 5.6671%, (0.003690 secs)\u001b[0m\n",
      "\u001b[34m[05/16/2020 19:19:56 INFO 139984918230848] gradient: cluster size  took: 3.3277%, (0.002167 secs)\u001b[0m\n",
      "\u001b[34m[05/16/2020 19:19:56 INFO 139984918230848] update state and report convergance took: 1.5112%, (0.000984 secs)\u001b[0m\n",
      "\u001b[34m[05/16/2020 19:19:56 INFO 139984918230848] compute all data-center distances: center norm took: 0.4760%, (0.000310 secs)\u001b[0m\n",
      "\u001b[34m[05/16/2020 19:19:56 INFO 139984918230848] update set-up time took: 0.2658%, (0.000173 secs)\u001b[0m\n",
      "\u001b[34m[05/16/2020 19:19:56 INFO 139984918230848] predict minus dist took: 0.0692%, (0.000045 secs)\u001b[0m\n",
      "\u001b[34m[05/16/2020 19:19:56 INFO 139984918230848] TOTAL took: 0.0651125907898\u001b[0m\n",
      "\u001b[34m[05/16/2020 19:19:56 INFO 139984918230848] Number of GPUs being used: 0\u001b[0m\n",
      "\u001b[34m#metrics {\"Metrics\": {\"finalize.time\": {\"count\": 1, \"max\": 219.24495697021484, \"sum\": 219.24495697021484, \"min\": 219.24495697021484}, \"initialize.time\": {\"count\": 1, \"max\": 25.0852108001709, \"sum\": 25.0852108001709, \"min\": 25.0852108001709}, \"model.serialize.time\": {\"count\": 1, \"max\": 0.14281272888183594, \"sum\": 0.14281272888183594, \"min\": 0.14281272888183594}, \"update.time\": {\"count\": 1, \"max\": 59.0059757232666, \"sum\": 59.0059757232666, \"min\": 59.0059757232666}, \"epochs\": {\"count\": 1, \"max\": 1, \"sum\": 1.0, \"min\": 1}, \"state.serialize.time\": {\"count\": 1, \"max\": 1.3580322265625, \"sum\": 1.3580322265625, \"min\": 1.3580322265625}, \"_shrink.time\": {\"count\": 1, \"max\": 217.4699306488037, \"sum\": 217.4699306488037, \"min\": 217.4699306488037}}, \"EndTime\": 1589656796.172366, \"Dimensions\": {\"Host\": \"algo-1\", \"Operation\": \"training\", \"Algorithm\": \"AWS/KMeansWebscale\"}, \"StartTime\": 1589656795.858422}\n",
      "\u001b[0m\n",
      "\u001b[34m[05/16/2020 19:19:56 INFO 139984918230848] Test data is not provided.\u001b[0m\n",
      "\u001b[34m#metrics {\"Metrics\": {\"totaltime\": {\"count\": 1, \"max\": 384.77492332458496, \"sum\": 384.77492332458496, \"min\": 384.77492332458496}, \"setuptime\": {\"count\": 1, \"max\": 16.193866729736328, \"sum\": 16.193866729736328, \"min\": 16.193866729736328}}, \"EndTime\": 1589656796.172726, \"Dimensions\": {\"Host\": \"algo-1\", \"Operation\": \"training\", \"Algorithm\": \"AWS/KMeansWebscale\"}, \"StartTime\": 1589656796.172475}\n",
      "\u001b[0m\n",
      "\n",
      "2020-05-16 19:20:04 Completed - Training job completed\n",
      "Training seconds: 57\n",
      "Billable seconds: 57\n"
     ]
    }
   ],
   "source": [
    "from sagemaker import KMeans\n",
    "from time import gmtime, strftime\n",
    "\n",
    "output_time = strftime(\"%Y-%m-%d-%H-%M-%S\", gmtime())\n",
    "output_folder = 'kmeans-lowlevel-' + output_time\n",
    "K = range(2, 6) # 6 as a maximum to limit results to boost interpretability\n",
    "instance_count = 1\n",
    "\n",
    "# jobs for all k\n",
    "for k in K:\n",
    "    print('starting train job:' + str(k))        \n",
    "    female_kmeans = KMeans(role=role,\n",
    "                train_instance_count=1,\n",
    "                train_instance_type='ml.c4.xlarge',\n",
    "                output_path=output_path_female + '{}/'.format(str(k)),             \n",
    "                k=k)\n",
    "\n",
    "    # convert the transformed dataframe into record_set data\n",
    "    female_kmeans_train_data_np = female_transformed.values.astype('float32')\n",
    "    female_kmeans_formatted_data = female_kmeans.record_set(train = female_kmeans_train_data_np)    \n",
    "    \n",
    "    female_kmeans.fit(female_kmeans_formatted_data)"
   ]
  },
  {
   "cell_type": "code",
   "execution_count": 34,
   "metadata": {},
   "outputs": [
    {
     "name": "stdout",
     "output_type": "stream",
     "text": [
      "Model for k=2 (female_customers/2/kmeans-2020-05-13-14-47-12-977/output/model.tar.gz)\n",
      "model_algo-1\n",
      "state_5db3a134-4e3d-4143-97b6-25451a6889be\n",
      "Model for k=3 (female_customers/3/kmeans-2020-05-13-14-50-55-374/output/model.tar.gz)\n",
      "state_5af38330-84a6-48dc-9d91-810a7ac86315\n",
      "model_algo-1\n",
      "Model for k=4 (female_customers/4/kmeans-2020-05-13-14-54-37-636/output/model.tar.gz)\n",
      "state_e87e9b77-08a3-48eb-95aa-164fcd380482\n",
      "model_algo-1\n",
      "Model for k=5 (female_customers/5/kmeans-2020-05-13-14-58-20-944/output/model.tar.gz)\n",
      "state_cfb81b4a-4886-4a58-9171-26c06c56a13f\n",
      "model_algo-1\n"
     ]
    },
    {
     "data": {
      "image/png": "[encoded data removed]",
      "text/plain": [
       "<Figure size 432x288 with 1 Axes>"
      ]
     },
     "metadata": {
      "needs_background": "light"
     },
     "output_type": "display_data"
    }
   ],
   "source": [
    "from scipy.spatial.distance import cdist\n",
    "\n",
    "plt.plot()\n",
    "colors = ['b', 'g', 'r']\n",
    "markers = ['o', 'v', 's']\n",
    "models = {}\n",
    "distortions = []\n",
    "\n",
    "outputs = ['s3://sagemaker-us-east-2-794135268543/female_customers/2/kmeans-2020-05-13-14-47-12-977/output/model.tar.gz',\n",
    "           's3://sagemaker-us-east-2-794135268543/female_customers/3/kmeans-2020-05-13-14-50-55-374/output/model.tar.gz',\n",
    "           's3://sagemaker-us-east-2-794135268543/female_customers/4/kmeans-2020-05-13-14-54-37-636/output/model.tar.gz',\n",
    "           's3://sagemaker-us-east-2-794135268543/female_customers/5/kmeans-2020-05-13-14-58-20-944/output/model.tar.gz']\n",
    "\n",
    "keys = ['female_customers/2/kmeans-2020-05-13-14-47-12-977/output/model.tar.gz',\n",
    "           'female_customers/3/kmeans-2020-05-13-14-50-55-374/output/model.tar.gz',\n",
    "           'female_customers/4/kmeans-2020-05-13-14-54-37-636/output/model.tar.gz',\n",
    "           'female_customers/5/kmeans-2020-05-13-14-58-20-944/output/model.tar.gz']\n",
    "\n",
    "for k,key in zip(K,keys):\n",
    "    s3_client = boto3.client('s3')\n",
    "    #key = '/female_customers/' + '{}/'.format(str(k)) + j + '/output/model.tar.gz' #female_customers/2/kmeans-2020-05-13-14-47-12-977/output\n",
    "    #key = 'kmeans_example/output/' + output_folder +'/' + output_folder + str(k) + '/output/model.tar.gz'\n",
    "    s3_client.download_file(bucket_name, key, 'model.tar.gz')\n",
    "    print(\"Model for k={} ({})\".format(k, key))\n",
    "    !tar -xvf model.tar.gz                       \n",
    "    kmeans_model=mx.ndarray.load('model_algo-1')\n",
    "    kmeans_numpy = kmeans_model[0].asnumpy()\n",
    "    distortions.append(sum(np.min(cdist(female_transformed, kmeans_numpy, 'euclidean'), axis=1)) / female_transformed.shape[0])\n",
    "    models[k] = kmeans_numpy\n",
    " \n",
    "# Plot the elbow\n",
    "plt.plot(K, distortions, 'bx-')\n",
    "plt.xlabel('k')\n",
    "plt.ylabel('distortion')\n",
    "plt.title('Elbow graph')\n",
    "plt.show()"
   ]
  },
  {
   "cell_type": "markdown",
   "metadata": {},
   "source": [
    "It looks like our values for K were not large enough, so let's run some more models with larger values for k."
   ]
  },
  {
   "cell_type": "code",
   "execution_count": 35,
   "metadata": {},
   "outputs": [
    {
     "name": "stdout",
     "output_type": "stream",
     "text": [
      "starting train job:6\n",
      "2020-05-16 19:20:40 Starting - Starting the training job...\n",
      "2020-05-16 19:20:42 Starting - Launching requested ML instances.........\n",
      "2020-05-16 19:22:13 Starting - Preparing the instances for training......\n",
      "2020-05-16 19:23:28 Downloading - Downloading input data...\n",
      "2020-05-16 19:24:11 Training - Training image download completed. Training in progress.\n",
      "2020-05-16 19:24:11 Uploading - Uploading generated training model.\u001b[34mDocker entrypoint called with argument(s): train\u001b[0m\n",
      "\u001b[34mRunning default environment configuration script\u001b[0m\n",
      "\u001b[34m[05/16/2020 19:24:08 INFO 140601251657536] Reading default configuration from /opt/amazon/lib/python2.7/site-packages/algorithm/resources/default-input.json: {u'_enable_profiler': u'false', u'_tuning_objective_metric': u'', u'_num_gpus': u'auto', u'local_lloyd_num_trials': u'auto', u'_log_level': u'info', u'_kvstore': u'auto', u'local_lloyd_init_method': u'kmeans++', u'force_dense': u'true', u'epochs': u'1', u'init_method': u'random', u'local_lloyd_tol': u'0.0001', u'local_lloyd_max_iter': u'300', u'_disable_wait_to_read': u'false', u'extra_center_factor': u'auto', u'eval_metrics': u'[\"msd\"]', u'_num_kv_servers': u'1', u'mini_batch_size': u'5000', u'half_life_time_size': u'0', u'_num_slices': u'1'}\u001b[0m\n",
      "\u001b[34m[05/16/2020 19:24:08 INFO 140601251657536] Reading provided configuration from /opt/ml/input/config/hyperparameters.json: {u'feature_dim': u'3', u'k': u'6', u'force_dense': u'True'}\u001b[0m\n",
      "\u001b[34m[05/16/2020 19:24:08 INFO 140601251657536] Final configuration: {u'_tuning_objective_metric': u'', u'extra_center_factor': u'auto', u'local_lloyd_init_method': u'kmeans++', u'force_dense': u'True', u'epochs': u'1', u'feature_dim': u'3', u'local_lloyd_tol': u'0.0001', u'_disable_wait_to_read': u'false', u'eval_metrics': u'[\"msd\"]', u'_num_kv_servers': u'1', u'mini_batch_size': u'5000', u'_enable_profiler': u'false', u'_num_gpus': u'auto', u'local_lloyd_num_trials': u'auto', u'_log_level': u'info', u'init_method': u'random', u'half_life_time_size': u'0', u'local_lloyd_max_iter': u'300', u'_kvstore': u'auto', u'k': u'6', u'_num_slices': u'1'}\u001b[0m\n",
      "\u001b[34m[05/16/2020 19:24:08 WARNING 140601251657536] Loggers have already been setup.\u001b[0m\n",
      "\u001b[34mProcess 1 is a worker.\u001b[0m\n",
      "\u001b[34m[05/16/2020 19:24:08 INFO 140601251657536] Using default worker.\u001b[0m\n",
      "\u001b[34m[05/16/2020 19:24:08 INFO 140601251657536] Loaded iterator creator application/x-recordio-protobuf for content type ('application/x-recordio-protobuf', '1.0')\u001b[0m\n",
      "\u001b[34m[05/16/2020 19:24:08 INFO 140601251657536] Create Store: local\u001b[0m\n",
      "\u001b[34m[05/16/2020 19:24:08 INFO 140601251657536] nvidia-smi took: 0.025171995163 secs to identify 0 gpus\u001b[0m\n",
      "\u001b[34m[05/16/2020 19:24:08 INFO 140601251657536] Number of GPUs being used: 0\u001b[0m\n",
      "\u001b[34m[05/16/2020 19:24:08 INFO 140601251657536] Setting up with params: {u'_tuning_objective_metric': u'', u'extra_center_factor': u'auto', u'local_lloyd_init_method': u'kmeans++', u'force_dense': u'True', u'epochs': u'1', u'feature_dim': u'3', u'local_lloyd_tol': u'0.0001', u'_disable_wait_to_read': u'false', u'eval_metrics': u'[\"msd\"]', u'_num_kv_servers': u'1', u'mini_batch_size': u'5000', u'_enable_profiler': u'false', u'_num_gpus': u'auto', u'local_lloyd_num_trials': u'auto', u'_log_level': u'info', u'init_method': u'random', u'half_life_time_size': u'0', u'local_lloyd_max_iter': u'300', u'_kvstore': u'auto', u'k': u'6', u'_num_slices': u'1'}\u001b[0m\n",
      "\u001b[34m[05/16/2020 19:24:08 INFO 140601251657536] 'extra_center_factor' was set to 'auto', evaluated to 10.\u001b[0m\n",
      "\u001b[34m[05/16/2020 19:24:08 INFO 140601251657536] Number of GPUs being used: 0\u001b[0m\n",
      "\u001b[34m[05/16/2020 19:24:08 INFO 140601251657536] number of center slices 1\u001b[0m\n",
      "\u001b[34m#metrics {\"Metrics\": {\"Max Batches Seen Between Resets\": {\"count\": 1, \"max\": 1, \"sum\": 1.0, \"min\": 1}, \"Number of Batches Since Last Reset\": {\"count\": 1, \"max\": 1, \"sum\": 1.0, \"min\": 1}, \"Number of Records Since Last Reset\": {\"count\": 1, \"max\": 5000, \"sum\": 5000.0, \"min\": 5000}, \"Total Batches Seen\": {\"count\": 1, \"max\": 1, \"sum\": 1.0, \"min\": 1}, \"Total Records Seen\": {\"count\": 1, \"max\": 5000, \"sum\": 5000.0, \"min\": 5000}, \"Max Records Seen Between Resets\": {\"count\": 1, \"max\": 5000, \"sum\": 5000.0, \"min\": 5000}, \"Reset Count\": {\"count\": 1, \"max\": 0, \"sum\": 0.0, \"min\": 0}}, \"EndTime\": 1589657048.433116, \"Dimensions\": {\"Host\": \"algo-1\", \"Meta\": \"init_train_data_iter\", \"Operation\": \"training\", \"Algorithm\": \"AWS/KMeansWebscale\"}, \"StartTime\": 1589657048.433084}\n",
      "\u001b[0m\n",
      "\u001b[34m[2020-05-16 19:24:08.433] [tensorio] [info] epoch_stats={\"data_pipeline\": \"/opt/ml/input/data/train\", \"epoch\": 0, \"duration\": 32, \"num_examples\": 1, \"num_bytes\": 180000}\u001b[0m\n",
      "\u001b[34m[2020-05-16 19:24:08.483] [tensorio] [info] epoch_stats={\"data_pipeline\": \"/opt/ml/input/data/train\", \"epoch\": 1, \"duration\": 49, \"num_examples\": 2, \"num_bytes\": 215748}\u001b[0m\n",
      "\u001b[34m[05/16/2020 19:24:08 INFO 140601251657536] processed a total of 5993 examples\u001b[0m\n",
      "\u001b[34m[05/16/2020 19:24:08 INFO 140601251657536] #progress_metric: host=algo-1, completed 100 % of epochs\u001b[0m\n",
      "\u001b[34m#metrics {\"Metrics\": {\"Max Batches Seen Between Resets\": {\"count\": 1, \"max\": 2, \"sum\": 2.0, \"min\": 2}, \"Number of Batches Since Last Reset\": {\"count\": 1, \"max\": 2, \"sum\": 2.0, \"min\": 2}, \"Number of Records Since Last Reset\": {\"count\": 1, \"max\": 5993, \"sum\": 5993.0, \"min\": 5993}, \"Total Batches Seen\": {\"count\": 1, \"max\": 3, \"sum\": 3.0, \"min\": 3}, \"Total Records Seen\": {\"count\": 1, \"max\": 10993, \"sum\": 10993.0, \"min\": 10993}, \"Max Records Seen Between Resets\": {\"count\": 1, \"max\": 5993, \"sum\": 5993.0, \"min\": 5993}, \"Reset Count\": {\"count\": 1, \"max\": 1, \"sum\": 1.0, \"min\": 1}}, \"EndTime\": 1589657048.483842, \"Dimensions\": {\"Host\": \"algo-1\", \"Meta\": \"training_data_iter\", \"Operation\": \"training\", \"Algorithm\": \"AWS/KMeansWebscale\", \"epoch\": 0}, \"StartTime\": 1589657048.433356}\n",
      "\u001b[0m\n",
      "\u001b[34m[05/16/2020 19:24:08 INFO 140601251657536] #throughput_metric: host=algo-1, train throughput=118356.635411 records/second\u001b[0m\n",
      "\u001b[34m[05/16/2020 19:24:08 WARNING 140601251657536] wait_for_all_workers will not sync workers since the kv store is not running distributed\u001b[0m\n",
      "\u001b[34m[05/16/2020 19:24:08 INFO 140601251657536] shrinking 60 centers into 6\u001b[0m\n",
      "\u001b[34m[05/16/2020 19:24:08 INFO 140601251657536] local kmeans attempt #0. Current mean square distance 0.042960\u001b[0m\n",
      "\u001b[34m[05/16/2020 19:24:08 INFO 140601251657536] local kmeans attempt #1. Current mean square distance 0.043959\u001b[0m\n",
      "\u001b[34m[05/16/2020 19:24:08 INFO 140601251657536] local kmeans attempt #2. Current mean square distance 0.040558\u001b[0m\n",
      "\u001b[34m[05/16/2020 19:24:08 INFO 140601251657536] local kmeans attempt #3. Current mean square distance 0.046627\u001b[0m\n",
      "\u001b[34m[05/16/2020 19:24:08 INFO 140601251657536] local kmeans attempt #4. Current mean square distance 0.040540\u001b[0m\n",
      "\u001b[34m[05/16/2020 19:24:08 INFO 140601251657536] local kmeans attempt #5. Current mean square distance 0.040528\u001b[0m\n",
      "\u001b[34m[05/16/2020 19:24:08 INFO 140601251657536] local kmeans attempt #6. Current mean square distance 0.045022\u001b[0m\n",
      "\u001b[34m[05/16/2020 19:24:08 INFO 140601251657536] local kmeans attempt #7. Current mean square distance 0.042196\u001b[0m\n",
      "\u001b[34m[05/16/2020 19:24:08 INFO 140601251657536] local kmeans attempt #8. Current mean square distance 0.048881\u001b[0m\n",
      "\u001b[34m[05/16/2020 19:24:08 INFO 140601251657536] local kmeans attempt #9. Current mean square distance 0.043553\u001b[0m\n",
      "\u001b[34m[05/16/2020 19:24:08 INFO 140601251657536] finished shrinking process. Mean Square Distance = 0\u001b[0m\n",
      "\u001b[34m[05/16/2020 19:24:08 INFO 140601251657536] #quality_metric: host=algo-1, train msd <loss>=0.0405277013779\u001b[0m\n",
      "\u001b[34m[05/16/2020 19:24:08 INFO 140601251657536] compute all data-center distances: inner product took: 26.7389%, (0.015105 secs)\u001b[0m\n",
      "\u001b[34m[05/16/2020 19:24:08 INFO 140601251657536] collect from kv store took: 12.9721%, (0.007328 secs)\u001b[0m\n",
      "\u001b[34m[05/16/2020 19:24:08 INFO 140601251657536] splitting centers key-value pair took: 12.5454%, (0.007087 secs)\u001b[0m\n",
      "\u001b[34m[05/16/2020 19:24:08 INFO 140601251657536] batch data loading with context took: 11.2177%, (0.006337 secs)\u001b[0m\n",
      "\u001b[34m[05/16/2020 19:24:08 INFO 140601251657536] gradient: cluster center took: 8.9622%, (0.005063 secs)\u001b[0m\n",
      "\u001b[34m[05/16/2020 19:24:08 INFO 140601251657536] predict compute msd took: 8.5959%, (0.004856 secs)\u001b[0m\n",
      "\u001b[34m[05/16/2020 19:24:08 INFO 140601251657536] compute all data-center distances: point norm took: 7.2736%, (0.004109 secs)\u001b[0m\n",
      "\u001b[34m[05/16/2020 19:24:08 INFO 140601251657536] gradient: one_hot took: 5.7124%, (0.003227 secs)\u001b[0m\n",
      "\u001b[34m[05/16/2020 19:24:08 INFO 140601251657536] gradient: cluster size  took: 3.4127%, (0.001928 secs)\u001b[0m\n",
      "\u001b[34m[05/16/2020 19:24:08 INFO 140601251657536] update state and report convergance took: 1.5139%, (0.000855 secs)\u001b[0m\n",
      "\u001b[34m[05/16/2020 19:24:08 INFO 140601251657536] compute all data-center distances: center norm took: 0.5630%, (0.000318 secs)\u001b[0m\n",
      "\u001b[34m[05/16/2020 19:24:08 INFO 140601251657536] update set-up time took: 0.4195%, (0.000237 secs)\u001b[0m\n",
      "\u001b[34m[05/16/2020 19:24:08 INFO 140601251657536] predict minus dist took: 0.0726%, (0.000041 secs)\u001b[0m\n",
      "\u001b[34m[05/16/2020 19:24:08 INFO 140601251657536] TOTAL took: 0.0564906597137\u001b[0m\n",
      "\u001b[34m[05/16/2020 19:24:08 INFO 140601251657536] Number of GPUs being used: 0\u001b[0m\n",
      "\u001b[34m#metrics {\"Metrics\": {\"finalize.time\": {\"count\": 1, \"max\": 223.56796264648438, \"sum\": 223.56796264648438, \"min\": 223.56796264648438}, \"initialize.time\": {\"count\": 1, \"max\": 25.374174118041992, \"sum\": 25.374174118041992, \"min\": 25.374174118041992}, \"model.serialize.time\": {\"count\": 1, \"max\": 0.15091896057128906, \"sum\": 0.15091896057128906, \"min\": 0.15091896057128906}, \"update.time\": {\"count\": 1, \"max\": 50.29797554016113, \"sum\": 50.29797554016113, \"min\": 50.29797554016113}, \"epochs\": {\"count\": 1, \"max\": 1, \"sum\": 1.0, \"min\": 1}, \"state.serialize.time\": {\"count\": 1, \"max\": 1.2078285217285156, \"sum\": 1.2078285217285156, \"min\": 1.2078285217285156}, \"_shrink.time\": {\"count\": 1, \"max\": 222.36895561218262, \"sum\": 222.36895561218262, \"min\": 222.36895561218262}}, \"EndTime\": 1589657048.709248, \"Dimensions\": {\"Host\": \"algo-1\", \"Operation\": \"training\", \"Algorithm\": \"AWS/KMeansWebscale\"}, \"StartTime\": 1589657048.400449}\n",
      "\u001b[0m\n",
      "\u001b[34m[05/16/2020 19:24:08 INFO 140601251657536] Test data is not provided.\u001b[0m\n",
      "\u001b[34m#metrics {\"Metrics\": {\"totaltime\": {\"count\": 1, \"max\": 373.1660842895508, \"sum\": 373.1660842895508, \"min\": 373.1660842895508}, \"setuptime\": {\"count\": 1, \"max\": 14.25790786743164, \"sum\": 14.25790786743164, \"min\": 14.25790786743164}}, \"EndTime\": 1589657048.709512, \"Dimensions\": {\"Host\": \"algo-1\", \"Operation\": \"training\", \"Algorithm\": \"AWS/KMeansWebscale\"}, \"StartTime\": 1589657048.709331}\n",
      "\u001b[0m\n",
      "\n",
      "2020-05-16 19:24:17 Completed - Training job completed\n",
      "Training seconds: 49\n",
      "Billable seconds: 49\n",
      "starting train job:7\n",
      "2020-05-16 19:24:53 Starting - Starting the training job...\n",
      "2020-05-16 19:24:55 Starting - Launching requested ML instances......\n",
      "2020-05-16 19:25:58 Starting - Preparing the instances for training......\n",
      "2020-05-16 19:27:09 Downloading - Downloading input data...\n",
      "2020-05-16 19:27:53 Training - Training image download completed. Training in progress.\n",
      "2020-05-16 19:27:53 Uploading - Uploading generated training model\n",
      "2020-05-16 19:27:53 Completed - Training job completed\n",
      "\u001b[34mDocker entrypoint called with argument(s): train\u001b[0m\n",
      "\u001b[34mRunning default environment configuration script\u001b[0m\n",
      "\u001b[34m[05/16/2020 19:27:44 INFO 140258716059456] Reading default configuration from /opt/amazon/lib/python2.7/site-packages/algorithm/resources/default-input.json: {u'_enable_profiler': u'false', u'_tuning_objective_metric': u'', u'_num_gpus': u'auto', u'local_lloyd_num_trials': u'auto', u'_log_level': u'info', u'_kvstore': u'auto', u'local_lloyd_init_method': u'kmeans++', u'force_dense': u'true', u'epochs': u'1', u'init_method': u'random', u'local_lloyd_tol': u'0.0001', u'local_lloyd_max_iter': u'300', u'_disable_wait_to_read': u'false', u'extra_center_factor': u'auto', u'eval_metrics': u'[\"msd\"]', u'_num_kv_servers': u'1', u'mini_batch_size': u'5000', u'half_life_time_size': u'0', u'_num_slices': u'1'}\u001b[0m\n",
      "\u001b[34m[05/16/2020 19:27:44 INFO 140258716059456] Reading provided configuration from /opt/ml/input/config/hyperparameters.json: {u'feature_dim': u'3', u'k': u'7', u'force_dense': u'True'}\u001b[0m\n",
      "\u001b[34m[05/16/2020 19:27:44 INFO 140258716059456] Final configuration: {u'_tuning_objective_metric': u'', u'extra_center_factor': u'auto', u'local_lloyd_init_method': u'kmeans++', u'force_dense': u'True', u'epochs': u'1', u'feature_dim': u'3', u'local_lloyd_tol': u'0.0001', u'_disable_wait_to_read': u'false', u'eval_metrics': u'[\"msd\"]', u'_num_kv_servers': u'1', u'mini_batch_size': u'5000', u'_enable_profiler': u'false', u'_num_gpus': u'auto', u'local_lloyd_num_trials': u'auto', u'_log_level': u'info', u'init_method': u'random', u'half_life_time_size': u'0', u'local_lloyd_max_iter': u'300', u'_kvstore': u'auto', u'k': u'7', u'_num_slices': u'1'}\u001b[0m\n",
      "\u001b[34m[05/16/2020 19:27:44 WARNING 140258716059456] Loggers have already been setup.\u001b[0m\n",
      "\u001b[34mProcess 1 is a worker.\u001b[0m\n",
      "\u001b[34m[05/16/2020 19:27:44 INFO 140258716059456] Using default worker.\u001b[0m\n",
      "\u001b[34m[05/16/2020 19:27:44 INFO 140258716059456] Loaded iterator creator application/x-recordio-protobuf for content type ('application/x-recordio-protobuf', '1.0')\u001b[0m\n",
      "\u001b[34m[05/16/2020 19:27:44 INFO 140258716059456] Create Store: local\u001b[0m\n",
      "\u001b[34m[05/16/2020 19:27:45 INFO 140258716059456] nvidia-smi took: 0.0252361297607 secs to identify 0 gpus\u001b[0m\n",
      "\u001b[34m[05/16/2020 19:27:45 INFO 140258716059456] Number of GPUs being used: 0\u001b[0m\n",
      "\u001b[34m[05/16/2020 19:27:45 INFO 140258716059456] Setting up with params: {u'_tuning_objective_metric': u'', u'extra_center_factor': u'auto', u'local_lloyd_init_method': u'kmeans++', u'force_dense': u'True', u'epochs': u'1', u'feature_dim': u'3', u'local_lloyd_tol': u'0.0001', u'_disable_wait_to_read': u'false', u'eval_metrics': u'[\"msd\"]', u'_num_kv_servers': u'1', u'mini_batch_size': u'5000', u'_enable_profiler': u'false', u'_num_gpus': u'auto', u'local_lloyd_num_trials': u'auto', u'_log_level': u'info', u'init_method': u'random', u'half_life_time_size': u'0', u'local_lloyd_max_iter': u'300', u'_kvstore': u'auto', u'k': u'7', u'_num_slices': u'1'}\u001b[0m\n",
      "\u001b[34m[05/16/2020 19:27:45 INFO 140258716059456] 'extra_center_factor' was set to 'auto', evaluated to 10.\u001b[0m\n",
      "\u001b[34m[05/16/2020 19:27:45 INFO 140258716059456] Number of GPUs being used: 0\u001b[0m\n",
      "\u001b[34m[05/16/2020 19:27:45 INFO 140258716059456] number of center slices 1\u001b[0m\n",
      "\u001b[34m#metrics {\"Metrics\": {\"Max Batches Seen Between Resets\": {\"count\": 1, \"max\": 1, \"sum\": 1.0, \"min\": 1}, \"Number of Batches Since Last Reset\": {\"count\": 1, \"max\": 1, \"sum\": 1.0, \"min\": 1}, \"Number of Records Since Last Reset\": {\"count\": 1, \"max\": 5000, \"sum\": 5000.0, \"min\": 5000}, \"Total Batches Seen\": {\"count\": 1, \"max\": 1, \"sum\": 1.0, \"min\": 1}, \"Total Records Seen\": {\"count\": 1, \"max\": 5000, \"sum\": 5000.0, \"min\": 5000}, \"Max Records Seen Between Resets\": {\"count\": 1, \"max\": 5000, \"sum\": 5000.0, \"min\": 5000}, \"Reset Count\": {\"count\": 1, \"max\": 0, \"sum\": 0.0, \"min\": 0}}, \"EndTime\": 1589657265.056745, \"Dimensions\": {\"Host\": \"algo-1\", \"Meta\": \"init_train_data_iter\", \"Operation\": \"training\", \"Algorithm\": \"AWS/KMeansWebscale\"}, \"StartTime\": 1589657265.056713}\n",
      "\u001b[0m\n",
      "\u001b[34m[2020-05-16 19:27:45.056] [tensorio] [info] epoch_stats={\"data_pipeline\": \"/opt/ml/input/data/train\", \"epoch\": 0, \"duration\": 36, \"num_examples\": 1, \"num_bytes\": 180000}\u001b[0m\n",
      "\u001b[34m[2020-05-16 19:27:45.119] [tensorio] [info] epoch_stats={\"data_pipeline\": \"/opt/ml/input/data/train\", \"epoch\": 1, \"duration\": 62, \"num_examples\": 2, \"num_bytes\": 215748}\u001b[0m\n",
      "\u001b[34m[05/16/2020 19:27:45 INFO 140258716059456] processed a total of 5993 examples\u001b[0m\n",
      "\u001b[34m[05/16/2020 19:27:45 INFO 140258716059456] #progress_metric: host=algo-1, completed 100 % of epochs\u001b[0m\n",
      "\u001b[34m#metrics {\"Metrics\": {\"Max Batches Seen Between Resets\": {\"count\": 1, \"max\": 2, \"sum\": 2.0, \"min\": 2}, \"Number of Batches Since Last Reset\": {\"count\": 1, \"max\": 2, \"sum\": 2.0, \"min\": 2}, \"Number of Records Since Last Reset\": {\"count\": 1, \"max\": 5993, \"sum\": 5993.0, \"min\": 5993}, \"Total Batches Seen\": {\"count\": 1, \"max\": 3, \"sum\": 3.0, \"min\": 3}, \"Total Records Seen\": {\"count\": 1, \"max\": 10993, \"sum\": 10993.0, \"min\": 10993}, \"Max Records Seen Between Resets\": {\"count\": 1, \"max\": 5993, \"sum\": 5993.0, \"min\": 5993}, \"Reset Count\": {\"count\": 1, \"max\": 1, \"sum\": 1.0, \"min\": 1}}, \"EndTime\": 1589657265.12043, \"Dimensions\": {\"Host\": \"algo-1\", \"Meta\": \"training_data_iter\", \"Operation\": \"training\", \"Algorithm\": \"AWS/KMeansWebscale\", \"epoch\": 0}, \"StartTime\": 1589657265.056994}\n",
      "\u001b[0m\n",
      "\u001b[34m[05/16/2020 19:27:45 INFO 140258716059456] #throughput_metric: host=algo-1, train throughput=94291.6771275 records/second\u001b[0m\n",
      "\u001b[34m[05/16/2020 19:27:45 WARNING 140258716059456] wait_for_all_workers will not sync workers since the kv store is not running distributed\u001b[0m\n",
      "\u001b[34m[05/16/2020 19:27:45 INFO 140258716059456] shrinking 70 centers into 7\u001b[0m\n",
      "\u001b[34m[05/16/2020 19:27:45 INFO 140258716059456] local kmeans attempt #0. Current mean square distance 0.038714\u001b[0m\n",
      "\u001b[34m[05/16/2020 19:27:45 INFO 140258716059456] local kmeans attempt #1. Current mean square distance 0.038655\u001b[0m\n",
      "\u001b[34m[05/16/2020 19:27:45 INFO 140258716059456] local kmeans attempt #2. Current mean square distance 0.040380\u001b[0m\n",
      "\u001b[34m[05/16/2020 19:27:45 INFO 140258716059456] local kmeans attempt #3. Current mean square distance 0.036669\u001b[0m\n",
      "\u001b[34m[05/16/2020 19:27:45 INFO 140258716059456] local kmeans attempt #4. Current mean square distance 0.036499\u001b[0m\n",
      "\u001b[34m[05/16/2020 19:27:45 INFO 140258716059456] local kmeans attempt #5. Current mean square distance 0.037382\u001b[0m\n",
      "\u001b[34m[05/16/2020 19:27:45 INFO 140258716059456] local kmeans attempt #6. Current mean square distance 0.037349\u001b[0m\n",
      "\u001b[34m[05/16/2020 19:27:45 INFO 140258716059456] local kmeans attempt #7. Current mean square distance 0.036726\u001b[0m\n",
      "\u001b[34m[05/16/2020 19:27:45 INFO 140258716059456] local kmeans attempt #8. Current mean square distance 0.035479\u001b[0m\n",
      "\u001b[34m[05/16/2020 19:27:45 INFO 140258716059456] local kmeans attempt #9. Current mean square distance 0.035276\u001b[0m\n",
      "\u001b[34m[05/16/2020 19:27:45 INFO 140258716059456] finished shrinking process. Mean Square Distance = 0\u001b[0m\n",
      "\u001b[34m[05/16/2020 19:27:45 INFO 140258716059456] #quality_metric: host=algo-1, train msd <loss>=0.0352764390409\u001b[0m\n",
      "\u001b[34m[05/16/2020 19:27:45 INFO 140258716059456] compute all data-center distances: inner product took: 29.9500%, (0.020860 secs)\u001b[0m\n",
      "\u001b[34m[05/16/2020 19:27:45 INFO 140258716059456] gradient: cluster center took: 14.5384%, (0.010126 secs)\u001b[0m\n",
      "\u001b[34m[05/16/2020 19:27:45 INFO 140258716059456] collect from kv store took: 10.7640%, (0.007497 secs)\u001b[0m\n",
      "\u001b[34m[05/16/2020 19:27:45 INFO 140258716059456] splitting centers key-value pair took: 10.4450%, (0.007275 secs)\u001b[0m\n",
      "\u001b[34m[05/16/2020 19:27:45 INFO 140258716059456] batch data loading with context took: 9.2921%, (0.006472 secs)\u001b[0m\n",
      "\u001b[34m[05/16/2020 19:27:45 INFO 140258716059456] predict compute msd took: 8.0170%, (0.005584 secs)\u001b[0m\n",
      "\u001b[34m[05/16/2020 19:27:45 INFO 140258716059456] compute all data-center distances: point norm took: 6.9866%, (0.004866 secs)\u001b[0m\n",
      "\u001b[34m[05/16/2020 19:27:45 INFO 140258716059456] gradient: one_hot took: 4.9190%, (0.003426 secs)\u001b[0m\n",
      "\u001b[34m[05/16/2020 19:27:45 INFO 140258716059456] gradient: cluster size  took: 3.0534%, (0.002127 secs)\u001b[0m\n",
      "\u001b[34m[05/16/2020 19:27:45 INFO 140258716059456] update state and report convergance took: 1.2351%, (0.000860 secs)\u001b[0m\n",
      "\u001b[34m[05/16/2020 19:27:45 INFO 140258716059456] compute all data-center distances: center norm took: 0.4101%, (0.000286 secs)\u001b[0m\n",
      "\u001b[34m[05/16/2020 19:27:45 INFO 140258716059456] update set-up time took: 0.3375%, (0.000235 secs)\u001b[0m\n",
      "\u001b[34m[05/16/2020 19:27:45 INFO 140258716059456] predict minus dist took: 0.0517%, (0.000036 secs)\u001b[0m\n",
      "\u001b[34m[05/16/2020 19:27:45 INFO 140258716059456] TOTAL took: 0.0696492195129\u001b[0m\n",
      "\u001b[34m[05/16/2020 19:27:45 INFO 140258716059456] Number of GPUs being used: 0\u001b[0m\n",
      "\u001b[34m#metrics {\"Metrics\": {\"finalize.time\": {\"count\": 1, \"max\": 235.5191707611084, \"sum\": 235.5191707611084, \"min\": 235.5191707611084}, \"initialize.time\": {\"count\": 1, \"max\": 29.757022857666016, \"sum\": 29.757022857666016, \"min\": 29.757022857666016}, \"model.serialize.time\": {\"count\": 1, \"max\": 0.1468658447265625, \"sum\": 0.1468658447265625, \"min\": 0.1468658447265625}, \"update.time\": {\"count\": 1, \"max\": 63.268184661865234, \"sum\": 63.268184661865234, \"min\": 63.268184661865234}, \"epochs\": {\"count\": 1, \"max\": 1, \"sum\": 1.0, \"min\": 1}, \"state.serialize.time\": {\"count\": 1, \"max\": 1.2919902801513672, \"sum\": 1.2919902801513672, \"min\": 1.2919902801513672}, \"_shrink.time\": {\"count\": 1, \"max\": 233.6111068725586, \"sum\": 233.6111068725586, \"min\": 233.6111068725586}}, \"EndTime\": 1589657265.357899, \"Dimensions\": {\"Host\": \"algo-1\", \"Operation\": \"training\", \"Algorithm\": \"AWS/KMeansWebscale\"}, \"StartTime\": 1589657265.019698}\n",
      "\u001b[0m\n",
      "\u001b[34m[05/16/2020 19:27:45 INFO 140258716059456] Test data is not provided.\u001b[0m\n",
      "\u001b[34m#metrics {\"Metrics\": {\"totaltime\": {\"count\": 1, \"max\": 410.66884994506836, \"sum\": 410.66884994506836, \"min\": 410.66884994506836}, \"setuptime\": {\"count\": 1, \"max\": 13.947010040283203, \"sum\": 13.947010040283203, \"min\": 13.947010040283203}}, \"EndTime\": 1589657265.358262, \"Dimensions\": {\"Host\": \"algo-1\", \"Operation\": \"training\", \"Algorithm\": \"AWS/KMeansWebscale\"}, \"StartTime\": 1589657265.358001}\n",
      "\u001b[0m\n",
      "Training seconds: 44\n",
      "Billable seconds: 44\n",
      "starting train job:8\n",
      "2020-05-16 19:28:05 Starting - Starting the training job...\n",
      "2020-05-16 19:28:07 Starting - Launching requested ML instances......\n",
      "2020-05-16 19:29:09 Starting - Preparing the instances for training...\n",
      "2020-05-16 19:29:53 Downloading - Downloading input data......\n",
      "2020-05-16 19:31:02 Training - Training image download completed. Training in progress.\n",
      "2020-05-16 19:31:02 Uploading - Uploading generated training model\u001b[34mDocker entrypoint called with argument(s): train\u001b[0m\n",
      "\u001b[34mRunning default environment configuration script\u001b[0m\n",
      "\u001b[34m[05/16/2020 19:30:59 INFO 140172075165504] Reading default configuration from /opt/amazon/lib/python2.7/site-packages/algorithm/resources/default-input.json: {u'_enable_profiler': u'false', u'_tuning_objective_metric': u'', u'_num_gpus': u'auto', u'local_lloyd_num_trials': u'auto', u'_log_level': u'info', u'_kvstore': u'auto', u'local_lloyd_init_method': u'kmeans++', u'force_dense': u'true', u'epochs': u'1', u'init_method': u'random', u'local_lloyd_tol': u'0.0001', u'local_lloyd_max_iter': u'300', u'_disable_wait_to_read': u'false', u'extra_center_factor': u'auto', u'eval_metrics': u'[\"msd\"]', u'_num_kv_servers': u'1', u'mini_batch_size': u'5000', u'half_life_time_size': u'0', u'_num_slices': u'1'}\u001b[0m\n",
      "\u001b[34m[05/16/2020 19:30:59 INFO 140172075165504] Reading provided configuration from /opt/ml/input/config/hyperparameters.json: {u'feature_dim': u'3', u'k': u'8', u'force_dense': u'True'}\u001b[0m\n",
      "\u001b[34m[05/16/2020 19:30:59 INFO 140172075165504] Final configuration: {u'_tuning_objective_metric': u'', u'extra_center_factor': u'auto', u'local_lloyd_init_method': u'kmeans++', u'force_dense': u'True', u'epochs': u'1', u'feature_dim': u'3', u'local_lloyd_tol': u'0.0001', u'_disable_wait_to_read': u'false', u'eval_metrics': u'[\"msd\"]', u'_num_kv_servers': u'1', u'mini_batch_size': u'5000', u'_enable_profiler': u'false', u'_num_gpus': u'auto', u'local_lloyd_num_trials': u'auto', u'_log_level': u'info', u'init_method': u'random', u'half_life_time_size': u'0', u'local_lloyd_max_iter': u'300', u'_kvstore': u'auto', u'k': u'8', u'_num_slices': u'1'}\u001b[0m\n",
      "\u001b[34m[05/16/2020 19:30:59 WARNING 140172075165504] Loggers have already been setup.\u001b[0m\n",
      "\u001b[34mProcess 1 is a worker.\u001b[0m\n",
      "\u001b[34m[05/16/2020 19:30:59 INFO 140172075165504] Using default worker.\u001b[0m\n",
      "\u001b[34m[05/16/2020 19:30:59 INFO 140172075165504] Loaded iterator creator application/x-recordio-protobuf for content type ('application/x-recordio-protobuf', '1.0')\u001b[0m\n",
      "\u001b[34m[05/16/2020 19:30:59 INFO 140172075165504] Create Store: local\u001b[0m\n",
      "\u001b[34m[05/16/2020 19:30:59 INFO 140172075165504] nvidia-smi took: 0.025267124176 secs to identify 0 gpus\u001b[0m\n",
      "\u001b[34m[05/16/2020 19:30:59 INFO 140172075165504] Number of GPUs being used: 0\u001b[0m\n",
      "\u001b[34m[05/16/2020 19:30:59 INFO 140172075165504] Setting up with params: {u'_tuning_objective_metric': u'', u'extra_center_factor': u'auto', u'local_lloyd_init_method': u'kmeans++', u'force_dense': u'True', u'epochs': u'1', u'feature_dim': u'3', u'local_lloyd_tol': u'0.0001', u'_disable_wait_to_read': u'false', u'eval_metrics': u'[\"msd\"]', u'_num_kv_servers': u'1', u'mini_batch_size': u'5000', u'_enable_profiler': u'false', u'_num_gpus': u'auto', u'local_lloyd_num_trials': u'auto', u'_log_level': u'info', u'init_method': u'random', u'half_life_time_size': u'0', u'local_lloyd_max_iter': u'300', u'_kvstore': u'auto', u'k': u'8', u'_num_slices': u'1'}\u001b[0m\n",
      "\u001b[34m[05/16/2020 19:30:59 INFO 140172075165504] 'extra_center_factor' was set to 'auto', evaluated to 10.\u001b[0m\n",
      "\u001b[34m[05/16/2020 19:30:59 INFO 140172075165504] Number of GPUs being used: 0\u001b[0m\n",
      "\u001b[34m[05/16/2020 19:30:59 INFO 140172075165504] number of center slices 1\u001b[0m\n",
      "\u001b[34m#metrics {\"Metrics\": {\"Max Batches Seen Between Resets\": {\"count\": 1, \"max\": 1, \"sum\": 1.0, \"min\": 1}, \"Number of Batches Since Last Reset\": {\"count\": 1, \"max\": 1, \"sum\": 1.0, \"min\": 1}, \"Number of Records Since Last Reset\": {\"count\": 1, \"max\": 5000, \"sum\": 5000.0, \"min\": 5000}, \"Total Batches Seen\": {\"count\": 1, \"max\": 1, \"sum\": 1.0, \"min\": 1}, \"Total Records Seen\": {\"count\": 1, \"max\": 5000, \"sum\": 5000.0, \"min\": 5000}, \"Max Records Seen Between Resets\": {\"count\": 1, \"max\": 5000, \"sum\": 5000.0, \"min\": 5000}, \"Reset Count\": {\"count\": 1, \"max\": 0, \"sum\": 0.0, \"min\": 0}}, \"EndTime\": 1589657459.990615, \"Dimensions\": {\"Host\": \"algo-1\", \"Meta\": \"init_train_data_iter\", \"Operation\": \"training\", \"Algorithm\": \"AWS/KMeansWebscale\"}, \"StartTime\": 1589657459.990586}\n",
      "\u001b[0m\n",
      "\u001b[34m[2020-05-16 19:30:59.990] [tensorio] [info] epoch_stats={\"data_pipeline\": \"/opt/ml/input/data/train\", \"epoch\": 0, \"duration\": 40, \"num_examples\": 1, \"num_bytes\": 180000}\u001b[0m\n",
      "\u001b[34m[2020-05-16 19:31:00.060] [tensorio] [info] epoch_stats={\"data_pipeline\": \"/opt/ml/input/data/train\", \"epoch\": 1, \"duration\": 69, \"num_examples\": 2, \"num_bytes\": 215748}\u001b[0m\n",
      "\u001b[34m[05/16/2020 19:31:00 INFO 140172075165504] processed a total of 5993 examples\u001b[0m\n",
      "\u001b[34m[05/16/2020 19:31:00 INFO 140172075165504] #progress_metric: host=algo-1, completed 100 % of epochs\u001b[0m\n",
      "\u001b[34m#metrics {\"Metrics\": {\"Max Batches Seen Between Resets\": {\"count\": 1, \"max\": 2, \"sum\": 2.0, \"min\": 2}, \"Number of Batches Since Last Reset\": {\"count\": 1, \"max\": 2, \"sum\": 2.0, \"min\": 2}, \"Number of Records Since Last Reset\": {\"count\": 1, \"max\": 5993, \"sum\": 5993.0, \"min\": 5993}, \"Total Batches Seen\": {\"count\": 1, \"max\": 3, \"sum\": 3.0, \"min\": 3}, \"Total Records Seen\": {\"count\": 1, \"max\": 10993, \"sum\": 10993.0, \"min\": 10993}, \"Max Records Seen Between Resets\": {\"count\": 1, \"max\": 5993, \"sum\": 5993.0, \"min\": 5993}, \"Reset Count\": {\"count\": 1, \"max\": 1, \"sum\": 1.0, \"min\": 1}}, \"EndTime\": 1589657460.061491, \"Dimensions\": {\"Host\": \"algo-1\", \"Meta\": \"training_data_iter\", \"Operation\": \"training\", \"Algorithm\": \"AWS/KMeansWebscale\", \"epoch\": 0}, \"StartTime\": 1589657459.990826}\n",
      "\u001b[0m\n",
      "\u001b[34m[05/16/2020 19:31:00 INFO 140172075165504] #throughput_metric: host=algo-1, train throughput=84643.3933239 records/second\u001b[0m\n",
      "\u001b[34m[05/16/2020 19:31:00 WARNING 140172075165504] wait_for_all_workers will not sync workers since the kv store is not running distributed\u001b[0m\n",
      "\u001b[34m[05/16/2020 19:31:00 INFO 140172075165504] shrinking 80 centers into 8\u001b[0m\n",
      "\u001b[34m[05/16/2020 19:31:00 INFO 140172075165504] local kmeans attempt #0. Current mean square distance 0.038263\u001b[0m\n",
      "\u001b[34m[05/16/2020 19:31:00 INFO 140172075165504] local kmeans attempt #1. Current mean square distance 0.035878\u001b[0m\n",
      "\u001b[34m[05/16/2020 19:31:00 INFO 140172075165504] local kmeans attempt #2. Current mean square distance 0.037631\u001b[0m\n",
      "\u001b[34m[05/16/2020 19:31:00 INFO 140172075165504] local kmeans attempt #3. Current mean square distance 0.037867\u001b[0m\n",
      "\u001b[34m[05/16/2020 19:31:00 INFO 140172075165504] local kmeans attempt #4. Current mean square distance 0.038244\u001b[0m\n",
      "\u001b[34m[05/16/2020 19:31:00 INFO 140172075165504] local kmeans attempt #5. Current mean square distance 0.037225\u001b[0m\n",
      "\u001b[34m[05/16/2020 19:31:00 INFO 140172075165504] local kmeans attempt #6. Current mean square distance 0.036160\u001b[0m\n",
      "\u001b[34m[05/16/2020 19:31:00 INFO 140172075165504] local kmeans attempt #7. Current mean square distance 0.038104\u001b[0m\n",
      "\u001b[34m[05/16/2020 19:31:00 INFO 140172075165504] local kmeans attempt #8. Current mean square distance 0.036505\u001b[0m\n",
      "\u001b[34m[05/16/2020 19:31:00 INFO 140172075165504] local kmeans attempt #9. Current mean square distance 0.038422\u001b[0m\n",
      "\u001b[34m[05/16/2020 19:31:00 INFO 140172075165504] finished shrinking process. Mean Square Distance = 0\u001b[0m\n",
      "\u001b[34m[05/16/2020 19:31:00 INFO 140172075165504] #quality_metric: host=algo-1, train msd <loss>=0.0358781330287\u001b[0m\n",
      "\u001b[34m[05/16/2020 19:31:00 INFO 140172075165504] compute all data-center distances: inner product took: 30.3044%, (0.023210 secs)\u001b[0m\n",
      "\u001b[34m[05/16/2020 19:31:00 INFO 140172075165504] predict compute msd took: 11.4964%, (0.008805 secs)\u001b[0m\n",
      "\u001b[34m[05/16/2020 19:31:00 INFO 140172075165504] gradient: cluster center took: 10.3736%, (0.007945 secs)\u001b[0m\n",
      "\u001b[34m[05/16/2020 19:31:00 INFO 140172075165504] collect from kv store took: 9.4201%, (0.007215 secs)\u001b[0m\n",
      "\u001b[34m[05/16/2020 19:31:00 INFO 140172075165504] splitting centers key-value pair took: 9.1474%, (0.007006 secs)\u001b[0m\n",
      "\u001b[34m[05/16/2020 19:31:00 INFO 140172075165504] compute all data-center distances: point norm took: 8.3613%, (0.006404 secs)\u001b[0m\n",
      "\u001b[34m[05/16/2020 19:31:00 INFO 140172075165504] batch data loading with context took: 8.2645%, (0.006330 secs)\u001b[0m\n",
      "\u001b[34m[05/16/2020 19:31:00 INFO 140172075165504] gradient: one_hot took: 7.4409%, (0.005699 secs)\u001b[0m\n",
      "\u001b[34m[05/16/2020 19:31:00 INFO 140172075165504] gradient: cluster size  took: 3.1873%, (0.002441 secs)\u001b[0m\n",
      "\u001b[34m[05/16/2020 19:31:00 INFO 140172075165504] update state and report convergance took: 1.2822%, (0.000982 secs)\u001b[0m\n",
      "\u001b[34m[05/16/2020 19:31:00 INFO 140172075165504] compute all data-center distances: center norm took: 0.4206%, (0.000322 secs)\u001b[0m\n",
      "\u001b[34m[05/16/2020 19:31:00 INFO 140172075165504] update set-up time took: 0.2559%, (0.000196 secs)\u001b[0m\n",
      "\u001b[34m[05/16/2020 19:31:00 INFO 140172075165504] predict minus dist took: 0.0454%, (0.000035 secs)\u001b[0m\n",
      "\u001b[34m[05/16/2020 19:31:00 INFO 140172075165504] TOTAL took: 0.0765895843506\u001b[0m\n",
      "\u001b[34m[05/16/2020 19:31:00 INFO 140172075165504] Number of GPUs being used: 0\u001b[0m\n",
      "\u001b[34m#metrics {\"Metrics\": {\"finalize.time\": {\"count\": 1, \"max\": 268.71800422668457, \"sum\": 268.71800422668457, \"min\": 268.71800422668457}, \"initialize.time\": {\"count\": 1, \"max\": 33.316850662231445, \"sum\": 33.316850662231445, \"min\": 33.316850662231445}, \"model.serialize.time\": {\"count\": 1, \"max\": 0.12993812561035156, \"sum\": 0.12993812561035156, \"min\": 0.12993812561035156}, \"update.time\": {\"count\": 1, \"max\": 70.45912742614746, \"sum\": 70.45912742614746, \"min\": 70.45912742614746}, \"epochs\": {\"count\": 1, \"max\": 1, \"sum\": 1.0, \"min\": 1}, \"state.serialize.time\": {\"count\": 1, \"max\": 2.0990371704101562, \"sum\": 2.0990371704101562, \"min\": 2.0990371704101562}, \"_shrink.time\": {\"count\": 1, \"max\": 266.95919036865234, \"sum\": 266.95919036865234, \"min\": 266.95919036865234}}, \"EndTime\": 1589657460.332922, \"Dimensions\": {\"Host\": \"algo-1\", \"Operation\": \"training\", \"Algorithm\": \"AWS/KMeansWebscale\"}, \"StartTime\": 1589657459.949232}\n",
      "\u001b[0m\n",
      "\u001b[34m[05/16/2020 19:31:00 INFO 140172075165504] Test data is not provided.\u001b[0m\n",
      "\u001b[34m#metrics {\"Metrics\": {\"totaltime\": {\"count\": 1, \"max\": 449.54895973205566, \"sum\": 449.54895973205566, \"min\": 449.54895973205566}, \"setuptime\": {\"count\": 1, \"max\": 13.672828674316406, \"sum\": 13.672828674316406, \"min\": 13.672828674316406}}, \"EndTime\": 1589657460.333247, \"Dimensions\": {\"Host\": \"algo-1\", \"Operation\": \"training\", \"Algorithm\": \"AWS/KMeansWebscale\"}, \"StartTime\": 1589657460.333015}\n",
      "\u001b[0m\n",
      "\n",
      "2020-05-16 19:31:09 Completed - Training job completed\n",
      "Training seconds: 76\n",
      "Billable seconds: 76\n",
      "starting train job:9\n",
      "2020-05-16 19:31:47 Starting - Starting the training job...\n",
      "2020-05-16 19:31:48 Starting - Launching requested ML instances.........\n",
      "2020-05-16 19:33:20 Starting - Preparing the instances for training...\n",
      "2020-05-16 19:34:16 Downloading - Downloading input data......\n",
      "2020-05-16 19:35:15 Training - Training image download completed. Training in progress.\n",
      "2020-05-16 19:35:15 Uploading - Uploading generated training model\u001b[34mDocker entrypoint called with argument(s): train\u001b[0m\n",
      "\u001b[34mRunning default environment configuration script\u001b[0m\n",
      "\u001b[34m[05/16/2020 19:35:12 INFO 140054211077952] Reading default configuration from /opt/amazon/lib/python2.7/site-packages/algorithm/resources/default-input.json: {u'_enable_profiler': u'false', u'_tuning_objective_metric': u'', u'_num_gpus': u'auto', u'local_lloyd_num_trials': u'auto', u'_log_level': u'info', u'_kvstore': u'auto', u'local_lloyd_init_method': u'kmeans++', u'force_dense': u'true', u'epochs': u'1', u'init_method': u'random', u'local_lloyd_tol': u'0.0001', u'local_lloyd_max_iter': u'300', u'_disable_wait_to_read': u'false', u'extra_center_factor': u'auto', u'eval_metrics': u'[\"msd\"]', u'_num_kv_servers': u'1', u'mini_batch_size': u'5000', u'half_life_time_size': u'0', u'_num_slices': u'1'}\u001b[0m\n",
      "\u001b[34m[05/16/2020 19:35:12 INFO 140054211077952] Reading provided configuration from /opt/ml/input/config/hyperparameters.json: {u'feature_dim': u'3', u'k': u'9', u'force_dense': u'True'}\u001b[0m\n",
      "\u001b[34m[05/16/2020 19:35:12 INFO 140054211077952] Final configuration: {u'_tuning_objective_metric': u'', u'extra_center_factor': u'auto', u'local_lloyd_init_method': u'kmeans++', u'force_dense': u'True', u'epochs': u'1', u'feature_dim': u'3', u'local_lloyd_tol': u'0.0001', u'_disable_wait_to_read': u'false', u'eval_metrics': u'[\"msd\"]', u'_num_kv_servers': u'1', u'mini_batch_size': u'5000', u'_enable_profiler': u'false', u'_num_gpus': u'auto', u'local_lloyd_num_trials': u'auto', u'_log_level': u'info', u'init_method': u'random', u'half_life_time_size': u'0', u'local_lloyd_max_iter': u'300', u'_kvstore': u'auto', u'k': u'9', u'_num_slices': u'1'}\u001b[0m\n",
      "\u001b[34m[05/16/2020 19:35:12 WARNING 140054211077952] Loggers have already been setup.\u001b[0m\n",
      "\u001b[34mProcess 1 is a worker.\u001b[0m\n",
      "\u001b[34m[05/16/2020 19:35:12 INFO 140054211077952] Using default worker.\u001b[0m\n",
      "\u001b[34m[05/16/2020 19:35:12 INFO 140054211077952] Loaded iterator creator application/x-recordio-protobuf for content type ('application/x-recordio-protobuf', '1.0')\u001b[0m\n",
      "\u001b[34m[05/16/2020 19:35:12 INFO 140054211077952] Create Store: local\u001b[0m\n",
      "\u001b[34m[05/16/2020 19:35:12 INFO 140054211077952] nvidia-smi took: 0.0252001285553 secs to identify 0 gpus\u001b[0m\n",
      "\u001b[34m[05/16/2020 19:35:12 INFO 140054211077952] Number of GPUs being used: 0\u001b[0m\n",
      "\u001b[34m[05/16/2020 19:35:12 INFO 140054211077952] Setting up with params: {u'_tuning_objective_metric': u'', u'extra_center_factor': u'auto', u'local_lloyd_init_method': u'kmeans++', u'force_dense': u'True', u'epochs': u'1', u'feature_dim': u'3', u'local_lloyd_tol': u'0.0001', u'_disable_wait_to_read': u'false', u'eval_metrics': u'[\"msd\"]', u'_num_kv_servers': u'1', u'mini_batch_size': u'5000', u'_enable_profiler': u'false', u'_num_gpus': u'auto', u'local_lloyd_num_trials': u'auto', u'_log_level': u'info', u'init_method': u'random', u'half_life_time_size': u'0', u'local_lloyd_max_iter': u'300', u'_kvstore': u'auto', u'k': u'9', u'_num_slices': u'1'}\u001b[0m\n",
      "\u001b[34m[05/16/2020 19:35:12 INFO 140054211077952] 'extra_center_factor' was set to 'auto', evaluated to 10.\u001b[0m\n",
      "\u001b[34m[05/16/2020 19:35:12 INFO 140054211077952] Number of GPUs being used: 0\u001b[0m\n",
      "\u001b[34m[05/16/2020 19:35:12 INFO 140054211077952] number of center slices 1\u001b[0m\n",
      "\u001b[34m#metrics {\"Metrics\": {\"Max Batches Seen Between Resets\": {\"count\": 1, \"max\": 1, \"sum\": 1.0, \"min\": 1}, \"Number of Batches Since Last Reset\": {\"count\": 1, \"max\": 1, \"sum\": 1.0, \"min\": 1}, \"Number of Records Since Last Reset\": {\"count\": 1, \"max\": 5000, \"sum\": 5000.0, \"min\": 5000}, \"Total Batches Seen\": {\"count\": 1, \"max\": 1, \"sum\": 1.0, \"min\": 1}, \"Total Records Seen\": {\"count\": 1, \"max\": 5000, \"sum\": 5000.0, \"min\": 5000}, \"Max Records Seen Between Resets\": {\"count\": 1, \"max\": 5000, \"sum\": 5000.0, \"min\": 5000}, \"Reset Count\": {\"count\": 1, \"max\": 0, \"sum\": 0.0, \"min\": 0}}, \"EndTime\": 1589657712.758371, \"Dimensions\": {\"Host\": \"algo-1\", \"Meta\": \"init_train_data_iter\", \"Operation\": \"training\", \"Algorithm\": \"AWS/KMeansWebscale\"}, \"StartTime\": 1589657712.758334}\n",
      "\u001b[0m\n",
      "\u001b[34m[2020-05-16 19:35:12.758] [tensorio] [info] epoch_stats={\"data_pipeline\": \"/opt/ml/input/data/train\", \"epoch\": 0, \"duration\": 40, \"num_examples\": 1, \"num_bytes\": 180000}\u001b[0m\n",
      "\u001b[34m[2020-05-16 19:35:12.811] [tensorio] [info] epoch_stats={\"data_pipeline\": \"/opt/ml/input/data/train\", \"epoch\": 1, \"duration\": 52, \"num_examples\": 2, \"num_bytes\": 215748}\u001b[0m\n",
      "\u001b[34m[05/16/2020 19:35:12 INFO 140054211077952] processed a total of 5993 examples\u001b[0m\n",
      "\u001b[34m[05/16/2020 19:35:12 INFO 140054211077952] #progress_metric: host=algo-1, completed 100 % of epochs\u001b[0m\n",
      "\u001b[34m#metrics {\"Metrics\": {\"Max Batches Seen Between Resets\": {\"count\": 1, \"max\": 2, \"sum\": 2.0, \"min\": 2}, \"Number of Batches Since Last Reset\": {\"count\": 1, \"max\": 2, \"sum\": 2.0, \"min\": 2}, \"Number of Records Since Last Reset\": {\"count\": 1, \"max\": 5993, \"sum\": 5993.0, \"min\": 5993}, \"Total Batches Seen\": {\"count\": 1, \"max\": 3, \"sum\": 3.0, \"min\": 3}, \"Total Records Seen\": {\"count\": 1, \"max\": 10993, \"sum\": 10993.0, \"min\": 10993}, \"Max Records Seen Between Resets\": {\"count\": 1, \"max\": 5993, \"sum\": 5993.0, \"min\": 5993}, \"Reset Count\": {\"count\": 1, \"max\": 1, \"sum\": 1.0, \"min\": 1}}, \"EndTime\": 1589657712.811973, \"Dimensions\": {\"Host\": \"algo-1\", \"Meta\": \"training_data_iter\", \"Operation\": \"training\", \"Algorithm\": \"AWS/KMeansWebscale\", \"epoch\": 0}, \"StartTime\": 1589657712.758608}\n",
      "\u001b[0m\n",
      "\u001b[34m[05/16/2020 19:35:12 INFO 140054211077952] #throughput_metric: host=algo-1, train throughput=112054.278062 records/second\u001b[0m\n",
      "\u001b[34m[05/16/2020 19:35:12 WARNING 140054211077952] wait_for_all_workers will not sync workers since the kv store is not running distributed\u001b[0m\n",
      "\u001b[34m[05/16/2020 19:35:12 INFO 140054211077952] shrinking 90 centers into 9\u001b[0m\n",
      "\u001b[34m[05/16/2020 19:35:12 INFO 140054211077952] local kmeans attempt #0. Current mean square distance 0.035487\u001b[0m\n",
      "\u001b[34m[05/16/2020 19:35:12 INFO 140054211077952] local kmeans attempt #1. Current mean square distance 0.036751\u001b[0m\n",
      "\u001b[34m[05/16/2020 19:35:12 INFO 140054211077952] local kmeans attempt #2. Current mean square distance 0.035798\u001b[0m\n",
      "\u001b[34m[05/16/2020 19:35:12 INFO 140054211077952] local kmeans attempt #3. Current mean square distance 0.037007\u001b[0m\n",
      "\u001b[34m[05/16/2020 19:35:12 INFO 140054211077952] local kmeans attempt #4. Current mean square distance 0.036660\u001b[0m\n",
      "\u001b[34m[05/16/2020 19:35:12 INFO 140054211077952] local kmeans attempt #5. Current mean square distance 0.037322\u001b[0m\n",
      "\u001b[34m[05/16/2020 19:35:13 INFO 140054211077952] local kmeans attempt #6. Current mean square distance 0.034430\u001b[0m\n",
      "\u001b[34m[05/16/2020 19:35:13 INFO 140054211077952] local kmeans attempt #7. Current mean square distance 0.034960\u001b[0m\n",
      "\u001b[34m[05/16/2020 19:35:13 INFO 140054211077952] local kmeans attempt #8. Current mean square distance 0.036467\u001b[0m\n",
      "\u001b[34m[05/16/2020 19:35:13 INFO 140054211077952] local kmeans attempt #9. Current mean square distance 0.034682\u001b[0m\n",
      "\u001b[34m[05/16/2020 19:35:13 INFO 140054211077952] finished shrinking process. Mean Square Distance = 0\u001b[0m\n",
      "\u001b[34m[05/16/2020 19:35:13 INFO 140054211077952] #quality_metric: host=algo-1, train msd <loss>=0.0344301275909\u001b[0m\n",
      "\u001b[34m[05/16/2020 19:35:13 INFO 140054211077952] compute all data-center distances: inner product took: 26.8829%, (0.015958 secs)\u001b[0m\n",
      "\u001b[34m[05/16/2020 19:35:13 INFO 140054211077952] collect from kv store took: 12.2775%, (0.007288 secs)\u001b[0m\n",
      "\u001b[34m[05/16/2020 19:35:13 INFO 140054211077952] splitting centers key-value pair took: 11.9168%, (0.007074 secs)\u001b[0m\n",
      "\u001b[34m[05/16/2020 19:35:13 INFO 140054211077952] batch data loading with context took: 10.6452%, (0.006319 secs)\u001b[0m\n",
      "\u001b[34m[05/16/2020 19:35:13 INFO 140054211077952] predict compute msd took: 10.2355%, (0.006076 secs)\u001b[0m\n",
      "\u001b[34m[05/16/2020 19:35:13 INFO 140054211077952] gradient: cluster center took: 8.2494%, (0.004897 secs)\u001b[0m\n",
      "\u001b[34m[05/16/2020 19:35:13 INFO 140054211077952] compute all data-center distances: point norm took: 7.0043%, (0.004158 secs)\u001b[0m\n",
      "\u001b[34m[05/16/2020 19:35:13 INFO 140054211077952] gradient: one_hot took: 5.3367%, (0.003168 secs)\u001b[0m\n",
      "\u001b[34m[05/16/2020 19:35:13 INFO 140054211077952] gradient: cluster size  took: 5.0001%, (0.002968 secs)\u001b[0m\n",
      "\u001b[34m[05/16/2020 19:35:13 INFO 140054211077952] update state and report convergance took: 1.4503%, (0.000861 secs)\u001b[0m\n",
      "\u001b[34m[05/16/2020 19:35:13 INFO 140054211077952] compute all data-center distances: center norm took: 0.5744%, (0.000341 secs)\u001b[0m\n",
      "\u001b[34m[05/16/2020 19:35:13 INFO 140054211077952] update set-up time took: 0.3575%, (0.000212 secs)\u001b[0m\n",
      "\u001b[34m[05/16/2020 19:35:13 INFO 140054211077952] predict minus dist took: 0.0695%, (0.000041 secs)\u001b[0m\n",
      "\u001b[34m[05/16/2020 19:35:13 INFO 140054211077952] TOTAL took: 0.0593605041504\u001b[0m\n",
      "\u001b[34m[05/16/2020 19:35:13 INFO 140054211077952] Number of GPUs being used: 0\u001b[0m\n",
      "\u001b[34m#metrics {\"Metrics\": {\"finalize.time\": {\"count\": 1, \"max\": 299.9539375305176, \"sum\": 299.9539375305176, \"min\": 299.9539375305176}, \"initialize.time\": {\"count\": 1, \"max\": 33.53118896484375, \"sum\": 33.53118896484375, \"min\": 33.53118896484375}, \"model.serialize.time\": {\"count\": 1, \"max\": 0.1499652862548828, \"sum\": 0.1499652862548828, \"min\": 0.1499652862548828}, \"update.time\": {\"count\": 1, \"max\": 53.19714546203613, \"sum\": 53.19714546203613, \"min\": 53.19714546203613}, \"epochs\": {\"count\": 1, \"max\": 1, \"sum\": 1.0, \"min\": 1}, \"state.serialize.time\": {\"count\": 1, \"max\": 1.2731552124023438, \"sum\": 1.2731552124023438, \"min\": 1.2731552124023438}, \"_shrink.time\": {\"count\": 1, \"max\": 298.10094833374023, \"sum\": 298.10094833374023, \"min\": 298.10094833374023}}, \"EndTime\": 1589657713.113769, \"Dimensions\": {\"Host\": \"algo-1\", \"Operation\": \"training\", \"Algorithm\": \"AWS/KMeansWebscale\"}, \"StartTime\": 1589657712.717658}\n",
      "\u001b[0m\n",
      "\u001b[34m[05/16/2020 19:35:13 INFO 140054211077952] Test data is not provided.\u001b[0m\n",
      "\u001b[34m#metrics {\"Metrics\": {\"totaltime\": {\"count\": 1, \"max\": 459.90991592407227, \"sum\": 459.90991592407227, \"min\": 459.90991592407227}, \"setuptime\": {\"count\": 1, \"max\": 12.995004653930664, \"sum\": 12.995004653930664, \"min\": 12.995004653930664}}, \"EndTime\": 1589657713.114124, \"Dimensions\": {\"Host\": \"algo-1\", \"Operation\": \"training\", \"Algorithm\": \"AWS/KMeansWebscale\"}, \"StartTime\": 1589657713.113861}\n",
      "\u001b[0m\n",
      "\n",
      "2020-05-16 19:35:22 Completed - Training job completed\n",
      "Training seconds: 66\n",
      "Billable seconds: 66\n"
     ]
    }
   ],
   "source": [
    "K = range(6, 10) # 10 as a maximum to limit results to boost interpretability\n",
    "instance_count = 1\n",
    "\n",
    "for k in K:\n",
    "    print('starting train job:' + str(k))        \n",
    "    female_kmeans = KMeans(role=role,\n",
    "                train_instance_count=1,\n",
    "                train_instance_type='ml.c4.xlarge',\n",
    "                output_path=output_path_female + '{}/'.format(str(k)),             \n",
    "                k=k)\n",
    "\n",
    "    # convert the transformed dataframe into record_set data\n",
    "    female_kmeans_train_data_np = female_transformed.values.astype('float32')\n",
    "    female_kmeans_formatted_data = female_kmeans.record_set(female_kmeans_train_data_np)    \n",
    "    \n",
    "    female_kmeans.fit(female_kmeans_formatted_data)"
   ]
  },
  {
   "cell_type": "code",
   "execution_count": 36,
   "metadata": {},
   "outputs": [
    {
     "name": "stdout",
     "output_type": "stream",
     "text": [
      "Model for k=2 (female_customers/2/kmeans-2020-05-13-14-47-12-977/output/model.tar.gz)\n",
      "model_algo-1\n",
      "state_5db3a134-4e3d-4143-97b6-25451a6889be\n",
      "Model for k=3 (female_customers/3/kmeans-2020-05-13-14-50-55-374/output/model.tar.gz)\n",
      "state_5af38330-84a6-48dc-9d91-810a7ac86315\n",
      "model_algo-1\n",
      "Model for k=4 (female_customers/4/kmeans-2020-05-13-14-54-37-636/output/model.tar.gz)\n",
      "state_e87e9b77-08a3-48eb-95aa-164fcd380482\n",
      "model_algo-1\n",
      "Model for k=5 (female_customers/5/kmeans-2020-05-13-14-58-20-944/output/model.tar.gz)\n",
      "state_cfb81b4a-4886-4a58-9171-26c06c56a13f\n",
      "model_algo-1\n",
      "Model for k=6 (female_customers/6/kmeans-2020-05-13-15-28-44-351/output/model.tar.gz)\n",
      "model_algo-1\n",
      "state_14feb4e5-bf0e-4dd6-9731-79292672791c\n",
      "Model for k=7 (female_customers/7/kmeans-2020-05-13-15-32-26-771/output/model.tar.gz)\n",
      "model_algo-1\n",
      "state_87f2af4c-f8a2-4e1b-aade-10929d6abe89\n",
      "Model for k=8 (female_customers/8/kmeans-2020-05-13-15-36-09-062/output/model.tar.gz)\n",
      "state_8aaf50aa-1618-49a5-903f-e9d09d7cb9b9\n",
      "model_algo-1\n",
      "Model for k=9 (female_customers/9/kmeans-2020-05-13-15-39-51-212/output/model.tar.gz)\n",
      "state_3e62406a-9a8c-4ff4-8aa9-71d41ba2d0a7\n",
      "model_algo-1\n"
     ]
    },
    {
     "data": {
      "image/png": "[encoded data removed]",
      "text/plain": [
       "<Figure size 432x288 with 1 Axes>"
      ]
     },
     "metadata": {
      "needs_background": "light"
     },
     "output_type": "display_data"
    }
   ],
   "source": [
    "plt.plot()\n",
    "colors = ['b', 'g', 'r']\n",
    "markers = ['o', 'v', 's']\n",
    "models = {}\n",
    "distortions = []\n",
    "\n",
    "keys = ['female_customers/2/kmeans-2020-05-13-14-47-12-977/output/model.tar.gz',\n",
    "           'female_customers/3/kmeans-2020-05-13-14-50-55-374/output/model.tar.gz',\n",
    "           'female_customers/4/kmeans-2020-05-13-14-54-37-636/output/model.tar.gz',\n",
    "           'female_customers/5/kmeans-2020-05-13-14-58-20-944/output/model.tar.gz',\n",
    "           'female_customers/6/kmeans-2020-05-13-15-28-44-351/output/model.tar.gz',\n",
    "           'female_customers/7/kmeans-2020-05-13-15-32-26-771/output/model.tar.gz',\n",
    "           'female_customers/8/kmeans-2020-05-13-15-36-09-062/output/model.tar.gz',\n",
    "           'female_customers/9/kmeans-2020-05-13-15-39-51-212/output/model.tar.gz']\n",
    "K = range(2,10)\n",
    "for k,key in zip(K,keys):\n",
    "    s3_client = boto3.client('s3')\n",
    "    #key = '/female_customers/' + '{}/'.format(str(k)) + j + '/output/model.tar.gz' #female_customers/2/kmeans-2020-05-13-14-47-12-977/output\n",
    "    #key = 'kmeans_example/output/' + output_folder +'/' + output_folder + str(k) + '/output/model.tar.gz'\n",
    "    s3_client.download_file(bucket_name, key, 'model.tar.gz')\n",
    "    print(\"Model for k={} ({})\".format(k, key))\n",
    "    !tar -xvf model.tar.gz                       \n",
    "    kmeans_model=mx.ndarray.load('model_algo-1')\n",
    "    kmeans_numpy = kmeans_model[0].asnumpy()\n",
    "    distortions.append(sum(np.min(cdist(female_transformed, kmeans_numpy, 'euclidean'), axis=1)) / female_transformed.shape[0])\n",
    "    models[k] = kmeans_numpy\n",
    " \n",
    "# Plot the elbow\n",
    "plt.plot(K, distortions, 'bx-')\n",
    "plt.xlabel('k')\n",
    "plt.ylabel('distortion')\n",
    "plt.title('Elbow graph')\n",
    "plt.show()"
   ]
  },
  {
   "cell_type": "markdown",
   "metadata": {},
   "source": [
    "At **k=6** we see a bit of an inflection point. We will use k=6 for our model."
   ]
  },
  {
   "cell_type": "code",
   "execution_count": 37,
   "metadata": {},
   "outputs": [
    {
     "name": "stdout",
     "output_type": "stream",
     "text": [
      "2020-05-16 19:36:02 Starting - Starting the training job...\n",
      "2020-05-16 19:36:03 Starting - Launching requested ML instances......\n",
      "2020-05-16 19:37:32 Starting - Preparing the instances for training.........\n",
      "2020-05-16 19:39:02 Downloading - Downloading input data\n",
      "2020-05-16 19:39:02 Training - Downloading the training image...\n",
      "2020-05-16 19:39:28 Uploading - Uploading generated training model\n",
      "2020-05-16 19:39:28 Completed - Training job completed\n",
      "\u001b[34mDocker entrypoint called with argument(s): train\u001b[0m\n",
      "\u001b[34mRunning default environment configuration script\u001b[0m\n",
      "\u001b[34m[05/16/2020 19:39:19 INFO 140712374159168] Reading default configuration from /opt/amazon/lib/python2.7/site-packages/algorithm/resources/default-input.json: {u'_enable_profiler': u'false', u'_tuning_objective_metric': u'', u'_num_gpus': u'auto', u'local_lloyd_num_trials': u'auto', u'_log_level': u'info', u'_kvstore': u'auto', u'local_lloyd_init_method': u'kmeans++', u'force_dense': u'true', u'epochs': u'1', u'init_method': u'random', u'local_lloyd_tol': u'0.0001', u'local_lloyd_max_iter': u'300', u'_disable_wait_to_read': u'false', u'extra_center_factor': u'auto', u'eval_metrics': u'[\"msd\"]', u'_num_kv_servers': u'1', u'mini_batch_size': u'5000', u'half_life_time_size': u'0', u'_num_slices': u'1'}\u001b[0m\n",
      "\u001b[34m[05/16/2020 19:39:19 INFO 140712374159168] Reading provided configuration from /opt/ml/input/config/hyperparameters.json: {u'feature_dim': u'3', u'k': u'6', u'force_dense': u'True'}\u001b[0m\n",
      "\u001b[34m[05/16/2020 19:39:19 INFO 140712374159168] Final configuration: {u'_tuning_objective_metric': u'', u'extra_center_factor': u'auto', u'local_lloyd_init_method': u'kmeans++', u'force_dense': u'True', u'epochs': u'1', u'feature_dim': u'3', u'local_lloyd_tol': u'0.0001', u'_disable_wait_to_read': u'false', u'eval_metrics': u'[\"msd\"]', u'_num_kv_servers': u'1', u'mini_batch_size': u'5000', u'_enable_profiler': u'false', u'_num_gpus': u'auto', u'local_lloyd_num_trials': u'auto', u'_log_level': u'info', u'init_method': u'random', u'half_life_time_size': u'0', u'local_lloyd_max_iter': u'300', u'_kvstore': u'auto', u'k': u'6', u'_num_slices': u'1'}\u001b[0m\n",
      "\u001b[34m[05/16/2020 19:39:19 WARNING 140712374159168] Loggers have already been setup.\u001b[0m\n",
      "\u001b[34mProcess 1 is a worker.\u001b[0m\n",
      "\u001b[34m[05/16/2020 19:39:19 INFO 140712374159168] Using default worker.\u001b[0m\n",
      "\u001b[34m[05/16/2020 19:39:19 INFO 140712374159168] Loaded iterator creator application/x-recordio-protobuf for content type ('application/x-recordio-protobuf', '1.0')\u001b[0m\n",
      "\u001b[34m[05/16/2020 19:39:19 INFO 140712374159168] Create Store: local\u001b[0m\n",
      "\u001b[34m[05/16/2020 19:39:19 INFO 140712374159168] nvidia-smi took: 0.0252611637115 secs to identify 0 gpus\u001b[0m\n",
      "\u001b[34m[05/16/2020 19:39:19 INFO 140712374159168] Number of GPUs being used: 0\u001b[0m\n",
      "\u001b[34m[05/16/2020 19:39:19 INFO 140712374159168] Setting up with params: {u'_tuning_objective_metric': u'', u'extra_center_factor': u'auto', u'local_lloyd_init_method': u'kmeans++', u'force_dense': u'True', u'epochs': u'1', u'feature_dim': u'3', u'local_lloyd_tol': u'0.0001', u'_disable_wait_to_read': u'false', u'eval_metrics': u'[\"msd\"]', u'_num_kv_servers': u'1', u'mini_batch_size': u'5000', u'_enable_profiler': u'false', u'_num_gpus': u'auto', u'local_lloyd_num_trials': u'auto', u'_log_level': u'info', u'init_method': u'random', u'half_life_time_size': u'0', u'local_lloyd_max_iter': u'300', u'_kvstore': u'auto', u'k': u'6', u'_num_slices': u'1'}\u001b[0m\n",
      "\u001b[34m[05/16/2020 19:39:19 INFO 140712374159168] 'extra_center_factor' was set to 'auto', evaluated to 10.\u001b[0m\n",
      "\u001b[34m[05/16/2020 19:39:19 INFO 140712374159168] Number of GPUs being used: 0\u001b[0m\n",
      "\u001b[34m[05/16/2020 19:39:19 INFO 140712374159168] number of center slices 1\u001b[0m\n",
      "\u001b[34m#metrics {\"Metrics\": {\"Max Batches Seen Between Resets\": {\"count\": 1, \"max\": 1, \"sum\": 1.0, \"min\": 1}, \"Number of Batches Since Last Reset\": {\"count\": 1, \"max\": 1, \"sum\": 1.0, \"min\": 1}, \"Number of Records Since Last Reset\": {\"count\": 1, \"max\": 5000, \"sum\": 5000.0, \"min\": 5000}, \"Total Batches Seen\": {\"count\": 1, \"max\": 1, \"sum\": 1.0, \"min\": 1}, \"Total Records Seen\": {\"count\": 1, \"max\": 5000, \"sum\": 5000.0, \"min\": 5000}, \"Max Records Seen Between Resets\": {\"count\": 1, \"max\": 5000, \"sum\": 5000.0, \"min\": 5000}, \"Reset Count\": {\"count\": 1, \"max\": 0, \"sum\": 0.0, \"min\": 0}}, \"EndTime\": 1589657959.642042, \"Dimensions\": {\"Host\": \"algo-1\", \"Meta\": \"init_train_data_iter\", \"Operation\": \"training\", \"Algorithm\": \"AWS/KMeansWebscale\"}, \"StartTime\": 1589657959.642011}\n",
      "\u001b[0m\n",
      "\u001b[34m[2020-05-16 19:39:19.642] [tensorio] [info] epoch_stats={\"data_pipeline\": \"/opt/ml/input/data/train\", \"epoch\": 0, \"duration\": 39, \"num_examples\": 1, \"num_bytes\": 180000}\u001b[0m\n",
      "\u001b[34m[2020-05-16 19:39:19.711] [tensorio] [info] epoch_stats={\"data_pipeline\": \"/opt/ml/input/data/train\", \"epoch\": 1, \"duration\": 68, \"num_examples\": 2, \"num_bytes\": 298620}\u001b[0m\n",
      "\u001b[34m[05/16/2020 19:39:19 INFO 140712374159168] processed a total of 8295 examples\u001b[0m\n",
      "\u001b[34m[05/16/2020 19:39:19 INFO 140712374159168] #progress_metric: host=algo-1, completed 100 % of epochs\u001b[0m\n",
      "\u001b[34m#metrics {\"Metrics\": {\"Max Batches Seen Between Resets\": {\"count\": 1, \"max\": 2, \"sum\": 2.0, \"min\": 2}, \"Number of Batches Since Last Reset\": {\"count\": 1, \"max\": 2, \"sum\": 2.0, \"min\": 2}, \"Number of Records Since Last Reset\": {\"count\": 1, \"max\": 8295, \"sum\": 8295.0, \"min\": 8295}, \"Total Batches Seen\": {\"count\": 1, \"max\": 3, \"sum\": 3.0, \"min\": 3}, \"Total Records Seen\": {\"count\": 1, \"max\": 13295, \"sum\": 13295.0, \"min\": 13295}, \"Max Records Seen Between Resets\": {\"count\": 1, \"max\": 8295, \"sum\": 8295.0, \"min\": 8295}, \"Reset Count\": {\"count\": 1, \"max\": 1, \"sum\": 1.0, \"min\": 1}}, \"EndTime\": 1589657959.711922, \"Dimensions\": {\"Host\": \"algo-1\", \"Meta\": \"training_data_iter\", \"Operation\": \"training\", \"Algorithm\": \"AWS/KMeansWebscale\", \"epoch\": 0}, \"StartTime\": 1589657959.642271}\n",
      "\u001b[0m\n",
      "\u001b[34m[05/16/2020 19:39:19 INFO 140712374159168] #throughput_metric: host=algo-1, train throughput=118861.63576 records/second\u001b[0m\n",
      "\u001b[34m[05/16/2020 19:39:19 WARNING 140712374159168] wait_for_all_workers will not sync workers since the kv store is not running distributed\u001b[0m\n",
      "\u001b[34m[05/16/2020 19:39:19 INFO 140712374159168] shrinking 60 centers into 6\u001b[0m\n",
      "\u001b[34m[05/16/2020 19:39:19 INFO 140712374159168] local kmeans attempt #0. Current mean square distance 0.041887\u001b[0m\n",
      "\u001b[34m[05/16/2020 19:39:19 INFO 140712374159168] local kmeans attempt #1. Current mean square distance 0.041775\u001b[0m\n",
      "\u001b[34m[05/16/2020 19:39:19 INFO 140712374159168] local kmeans attempt #2. Current mean square distance 0.044420\u001b[0m\n",
      "\u001b[34m[05/16/2020 19:39:19 INFO 140712374159168] local kmeans attempt #3. Current mean square distance 0.043172\u001b[0m\n",
      "\u001b[34m[05/16/2020 19:39:19 INFO 140712374159168] local kmeans attempt #4. Current mean square distance 0.040188\u001b[0m\n",
      "\u001b[34m[05/16/2020 19:39:19 INFO 140712374159168] local kmeans attempt #5. Current mean square distance 0.042347\u001b[0m\n",
      "\u001b[34m[05/16/2020 19:39:19 INFO 140712374159168] local kmeans attempt #6. Current mean square distance 0.042996\u001b[0m\n",
      "\u001b[34m[05/16/2020 19:39:19 INFO 140712374159168] local kmeans attempt #7. Current mean square distance 0.046251\u001b[0m\n",
      "\u001b[34m[05/16/2020 19:39:19 INFO 140712374159168] local kmeans attempt #8. Current mean square distance 0.042475\u001b[0m\n",
      "\u001b[34m[05/16/2020 19:39:19 INFO 140712374159168] local kmeans attempt #9. Current mean square distance 0.044043\u001b[0m\n",
      "\u001b[34m[05/16/2020 19:39:19 INFO 140712374159168] finished shrinking process. Mean Square Distance = 0\u001b[0m\n",
      "\u001b[34m[05/16/2020 19:39:19 INFO 140712374159168] #quality_metric: host=algo-1, train msd <loss>=0.0401876866817\u001b[0m\n",
      "\u001b[34m[05/16/2020 19:39:19 INFO 140712374159168] compute all data-center distances: inner product took: 30.1195%, (0.023020 secs)\u001b[0m\n",
      "\u001b[34m[05/16/2020 19:39:19 INFO 140712374159168] collect from kv store took: 10.4654%, (0.007999 secs)\u001b[0m\n",
      "\u001b[34m[05/16/2020 19:39:19 INFO 140712374159168] splitting centers key-value pair took: 10.1819%, (0.007782 secs)\u001b[0m\n",
      "\u001b[34m[05/16/2020 19:39:19 INFO 140712374159168] gradient: cluster center took: 9.5486%, (0.007298 secs)\u001b[0m\n",
      "\u001b[34m[05/16/2020 19:39:19 INFO 140712374159168] gradient: one_hot took: 9.0252%, (0.006898 secs)\u001b[0m\n",
      "\u001b[34m[05/16/2020 19:39:19 INFO 140712374159168] predict compute msd took: 8.9469%, (0.006838 secs)\u001b[0m\n",
      "\u001b[34m[05/16/2020 19:39:19 INFO 140712374159168] batch data loading with context took: 8.5504%, (0.006535 secs)\u001b[0m\n",
      "\u001b[34m[05/16/2020 19:39:19 INFO 140712374159168] compute all data-center distances: point norm took: 7.9811%, (0.006100 secs)\u001b[0m\n",
      "\u001b[34m[05/16/2020 19:39:19 INFO 140712374159168] gradient: cluster size  took: 3.3575%, (0.002566 secs)\u001b[0m\n",
      "\u001b[34m[05/16/2020 19:39:19 INFO 140712374159168] update state and report convergance took: 1.0818%, (0.000827 secs)\u001b[0m\n",
      "\u001b[34m[05/16/2020 19:39:19 INFO 140712374159168] compute all data-center distances: center norm took: 0.4199%, (0.000321 secs)\u001b[0m\n",
      "\u001b[34m[05/16/2020 19:39:19 INFO 140712374159168] update set-up time took: 0.2708%, (0.000207 secs)\u001b[0m\n",
      "\u001b[34m[05/16/2020 19:39:19 INFO 140712374159168] predict minus dist took: 0.0512%, (0.000039 secs)\u001b[0m\n",
      "\u001b[34m[05/16/2020 19:39:19 INFO 140712374159168] TOTAL took: 0.0764298439026\u001b[0m\n",
      "\u001b[34m[05/16/2020 19:39:19 INFO 140712374159168] Number of GPUs being used: 0\u001b[0m\n",
      "\u001b[34m#metrics {\"Metrics\": {\"finalize.time\": {\"count\": 1, \"max\": 260.7870101928711, \"sum\": 260.7870101928711, \"min\": 260.7870101928711}, \"initialize.time\": {\"count\": 1, \"max\": 32.235145568847656, \"sum\": 32.235145568847656, \"min\": 32.235145568847656}, \"model.serialize.time\": {\"count\": 1, \"max\": 0.1308917999267578, \"sum\": 0.1308917999267578, \"min\": 0.1308917999267578}, \"update.time\": {\"count\": 1, \"max\": 69.48494911193848, \"sum\": 69.48494911193848, \"min\": 69.48494911193848}, \"epochs\": {\"count\": 1, \"max\": 1, \"sum\": 1.0, \"min\": 1}, \"state.serialize.time\": {\"count\": 1, \"max\": 1.9159317016601562, \"sum\": 1.9159317016601562, \"min\": 1.9159317016601562}, \"_shrink.time\": {\"count\": 1, \"max\": 258.8660717010498, \"sum\": 258.8660717010498, \"min\": 258.8660717010498}}, \"EndTime\": 1589657959.975255, \"Dimensions\": {\"Host\": \"algo-1\", \"Operation\": \"training\", \"Algorithm\": \"AWS/KMeansWebscale\"}, \"StartTime\": 1589657959.601558}\n",
      "\u001b[0m\n",
      "\u001b[34m[05/16/2020 19:39:19 INFO 140712374159168] Test data is not provided.\u001b[0m\n",
      "\u001b[34m#metrics {\"Metrics\": {\"totaltime\": {\"count\": 1, \"max\": 443.7909126281738, \"sum\": 443.7909126281738, \"min\": 443.7909126281738}, \"setuptime\": {\"count\": 1, \"max\": 14.271974563598633, \"sum\": 14.271974563598633, \"min\": 14.271974563598633}}, \"EndTime\": 1589657959.975632, \"Dimensions\": {\"Host\": \"algo-1\", \"Operation\": \"training\", \"Algorithm\": \"AWS/KMeansWebscale\"}, \"StartTime\": 1589657959.975354}\n",
      "\u001b[0m\n",
      "Training seconds: 38\n",
      "Billable seconds: 38\n"
     ]
    }
   ],
   "source": [
    "k = 6\n",
    "male_kmeans = KMeans(role=role,\n",
    "                train_instance_count=1,\n",
    "                train_instance_type='ml.c4.xlarge',\n",
    "                output_path=output_path_male + '{}/'.format(str(k)),             \n",
    "                k=k)\n",
    "\n",
    "# convert the transformed dataframe into record_set data\n",
    "male_kmeans_train_data_np = male_transformed.values.astype('float32')\n",
    "male_kmeans_formatted_data = male_kmeans.record_set(male_kmeans_train_data_np)    \n",
    "\n",
    "male_kmeans.fit(male_kmeans_formatted_data)"
   ]
  },
  {
   "cell_type": "code",
   "execution_count": 38,
   "metadata": {},
   "outputs": [
    {
     "name": "stdout",
     "output_type": "stream",
     "text": [
      "-----------------!CPU times: user 311 ms, sys: 4.62 ms, total: 315 ms\n",
      "Wall time: 8min 32s\n"
     ]
    }
   ],
   "source": [
    "%%time\n",
    "# deploy the model to create a predictor\n",
    "male_kmeans_predictor = male_kmeans.deploy(initial_instance_count=1, \n",
    "                                 instance_type='ml.t2.medium')"
   ]
  },
  {
   "cell_type": "code",
   "execution_count": 39,
   "metadata": {},
   "outputs": [
    {
     "name": "stdout",
     "output_type": "stream",
     "text": [
      "2.0    1875\n",
      "0.0    1864\n",
      "5.0    1461\n",
      "1.0    1121\n",
      "4.0    1096\n",
      "3.0     878\n",
      "Name: 0, dtype: int64\n"
     ]
    }
   ],
   "source": [
    "# get the predicted clusters for all the kmeans training data\n",
    "male_cluster_info=male_kmeans_predictor.predict(male_kmeans_train_data_np)\n",
    "male_cluster_labels = [c.label['closest_cluster'].float32_tensor.values[0] for c in male_cluster_info]\n",
    "male_cluster_df = pd.DataFrame(male_cluster_labels)[0].value_counts()\n",
    "#View distribution of clusters\n",
    "print(male_cluster_df)"
   ]
  },
  {
   "cell_type": "code",
   "execution_count": 40,
   "metadata": {},
   "outputs": [],
   "source": [
    "# delete kmeans endpoint\n",
    "session.delete_endpoint(male_kmeans_predictor.endpoint)"
   ]
  },
  {
   "cell_type": "markdown",
   "metadata": {},
   "source": [
    "### Model attributes"
   ]
  },
  {
   "cell_type": "code",
   "execution_count": 41,
   "metadata": {},
   "outputs": [
    {
     "name": "stdout",
     "output_type": "stream",
     "text": [
      "[\n",
      "[[ 0.12168763  0.27804592 -0.12484832]\n",
      " [ 0.00916167 -0.41582668 -0.14343618]\n",
      " [-0.2296111  -0.12980902  0.05374248]\n",
      " [ 0.18102582 -0.13902986 -0.04554396]\n",
      " [ 0.15872929  0.07632631  0.19448003]\n",
      " [-0.47849745  0.13885881 -0.00845752]]\n",
      "<NDArray 6x3 @cpu(0)>]\n"
     ]
    },
    {
     "data": {
      "text/html": [
       "<div>\n",
       "<style scoped>\n",
       "    .dataframe tbody tr th:only-of-type {\n",
       "        vertical-align: middle;\n",
       "    }\n",
       "\n",
       "    .dataframe tbody tr th {\n",
       "        vertical-align: top;\n",
       "    }\n",
       "\n",
       "    .dataframe thead th {\n",
       "        text-align: right;\n",
       "    }\n",
       "</style>\n",
       "<table border=\"1\" class=\"dataframe\">\n",
       "  <thead>\n",
       "    <tr style=\"text-align: right;\">\n",
       "      <th></th>\n",
       "      <th>c_1</th>\n",
       "      <th>c_2</th>\n",
       "      <th>c_3</th>\n",
       "    </tr>\n",
       "  </thead>\n",
       "  <tbody>\n",
       "    <tr>\n",
       "      <th>0</th>\n",
       "      <td>0.121688</td>\n",
       "      <td>0.278046</td>\n",
       "      <td>-0.124848</td>\n",
       "    </tr>\n",
       "    <tr>\n",
       "      <th>1</th>\n",
       "      <td>0.009162</td>\n",
       "      <td>-0.415827</td>\n",
       "      <td>-0.143436</td>\n",
       "    </tr>\n",
       "    <tr>\n",
       "      <th>2</th>\n",
       "      <td>-0.229611</td>\n",
       "      <td>-0.129809</td>\n",
       "      <td>0.053742</td>\n",
       "    </tr>\n",
       "    <tr>\n",
       "      <th>3</th>\n",
       "      <td>0.181026</td>\n",
       "      <td>-0.139030</td>\n",
       "      <td>-0.045544</td>\n",
       "    </tr>\n",
       "    <tr>\n",
       "      <th>4</th>\n",
       "      <td>0.158729</td>\n",
       "      <td>0.076326</td>\n",
       "      <td>0.194480</td>\n",
       "    </tr>\n",
       "    <tr>\n",
       "      <th>5</th>\n",
       "      <td>-0.478497</td>\n",
       "      <td>0.138859</td>\n",
       "      <td>-0.008458</td>\n",
       "    </tr>\n",
       "  </tbody>\n",
       "</table>\n",
       "</div>"
      ],
      "text/plain": [
       "        c_1       c_2       c_3\n",
       "0  0.121688  0.278046 -0.124848\n",
       "1  0.009162 -0.415827 -0.143436\n",
       "2 -0.229611 -0.129809  0.053742\n",
       "3  0.181026 -0.139030 -0.045544\n",
       "4  0.158729  0.076326  0.194480\n",
       "5 -0.478497  0.138859 -0.008458"
      ]
     },
     "metadata": {},
     "output_type": "display_data"
    }
   ],
   "source": [
    "# download and unzip the kmeans model file\n",
    "male_model_key = 'male_customers/6/kmeans-2020-05-13-15-50-25-500/output/model.tar.gz'\n",
    "\n",
    "# download the model file\n",
    "boto3.resource('s3').Bucket(bucket_name).download_file(male_model_key, 'model.tar.gz')\n",
    "os.system('tar -zxvf model.tar.gz')\n",
    "os.system('unzip model_algo-1')\n",
    "\n",
    "male_kmeans_model_params = mx.ndarray.load('model_algo-1')\n",
    "\n",
    "print(male_kmeans_model_params)\n",
    "\n",
    "# get all the centroids\n",
    "male_cluster_centroids=pd.DataFrame(male_kmeans_model_params[0].asnumpy())\n",
    "male_cluster_centroids.columns=male_transformed.columns\n",
    "\n",
    "display(male_cluster_centroids)"
   ]
  },
  {
   "cell_type": "markdown",
   "metadata": {},
   "source": [
    "### Visualize centroids with heatmap"
   ]
  },
  {
   "cell_type": "code",
   "execution_count": 42,
   "metadata": {},
   "outputs": [
    {
     "data": {
      "image/png": "[encoded data removed]",
      "text/plain": [
       "<Figure size 864x648 with 2 Axes>"
      ]
     },
     "metadata": {
      "needs_background": "light"
     },
     "output_type": "display_data"
    }
   ],
   "source": [
    "# generate a heatmap in component space, using the seaborn library\n",
    "plt.figure(figsize = (12,9))\n",
    "ax = sns.heatmap(male_cluster_centroids.T, cmap = 'YlGnBu')\n",
    "ax.set_xlabel(\"Cluster\")\n",
    "plt.yticks(fontsize = 16)\n",
    "plt.xticks(fontsize = 16)\n",
    "ax.set_title(\"Attribute Value by Centroid\")\n",
    "plt.show()"
   ]
  },
  {
   "cell_type": "code",
   "execution_count": null,
   "metadata": {},
   "outputs": [],
   "source": []
  },
  {
   "cell_type": "markdown",
   "metadata": {},
   "source": [
    "### Natural Groupings"
   ]
  },
  {
   "cell_type": "code",
   "execution_count": 43,
   "metadata": {},
   "outputs": [
    {
     "data": {
      "text/html": [
       "<div>\n",
       "<style scoped>\n",
       "    .dataframe tbody tr th:only-of-type {\n",
       "        vertical-align: middle;\n",
       "    }\n",
       "\n",
       "    .dataframe tbody tr th {\n",
       "        vertical-align: top;\n",
       "    }\n",
       "\n",
       "    .dataframe thead th {\n",
       "        text-align: right;\n",
       "    }\n",
       "</style>\n",
       "<table border=\"1\" class=\"dataframe\">\n",
       "  <thead>\n",
       "    <tr style=\"text-align: right;\">\n",
       "      <th></th>\n",
       "      <th>c_1</th>\n",
       "      <th>c_2</th>\n",
       "      <th>c_3</th>\n",
       "      <th>labels</th>\n",
       "    </tr>\n",
       "    <tr>\n",
       "      <th>id</th>\n",
       "      <th></th>\n",
       "      <th></th>\n",
       "      <th></th>\n",
       "      <th></th>\n",
       "    </tr>\n",
       "  </thead>\n",
       "  <tbody>\n",
       "    <tr>\n",
       "      <th>d53ea893dd774977ad75280d4be4c621</th>\n",
       "      <td>0.154218</td>\n",
       "      <td>0.177039</td>\n",
       "      <td>0.027152</td>\n",
       "      <td>0</td>\n",
       "    </tr>\n",
       "    <tr>\n",
       "      <th>02dd040b77914163b1fd02efc3976d55</th>\n",
       "      <td>0.113542</td>\n",
       "      <td>0.147166</td>\n",
       "      <td>-0.126302</td>\n",
       "      <td>0</td>\n",
       "    </tr>\n",
       "    <tr>\n",
       "      <th>0a03ef333feb47db93bf30d6ef41b239</th>\n",
       "      <td>0.260916</td>\n",
       "      <td>0.268767</td>\n",
       "      <td>0.079016</td>\n",
       "      <td>0</td>\n",
       "    </tr>\n",
       "    <tr>\n",
       "      <th>0d3451dbd862480caf1f408154c18887</th>\n",
       "      <td>0.317323</td>\n",
       "      <td>0.363301</td>\n",
       "      <td>-0.134879</td>\n",
       "      <td>0</td>\n",
       "    </tr>\n",
       "    <tr>\n",
       "      <th>c8c5b06729f04e4f81759c605d839658</th>\n",
       "      <td>0.130141</td>\n",
       "      <td>0.316091</td>\n",
       "      <td>-0.009710</td>\n",
       "      <td>0</td>\n",
       "    </tr>\n",
       "  </tbody>\n",
       "</table>\n",
       "</div>"
      ],
      "text/plain": [
       "                                       c_1       c_2       c_3  labels\n",
       "id                                                                    \n",
       "d53ea893dd774977ad75280d4be4c621  0.154218  0.177039  0.027152       0\n",
       "02dd040b77914163b1fd02efc3976d55  0.113542  0.147166 -0.126302       0\n",
       "0a03ef333feb47db93bf30d6ef41b239  0.260916  0.268767  0.079016       0\n",
       "0d3451dbd862480caf1f408154c18887  0.317323  0.363301 -0.134879       0\n",
       "c8c5b06729f04e4f81759c605d839658  0.130141  0.316091 -0.009710       0"
      ]
     },
     "execution_count": 43,
     "metadata": {},
     "output_type": "execute_result"
    }
   ],
   "source": [
    "# add a 'labels' column to the dataframe\n",
    "male_transformed['labels']=list(map(int, male_cluster_labels))\n",
    "\n",
    "# sort by cluster label 0-6\n",
    "sorted_male = male_transformed.sort_values('labels', ascending=True)\n",
    "# view some pts in cluster 0\n",
    "sorted_male.head(5)"
   ]
  },
  {
   "cell_type": "code",
   "execution_count": 44,
   "metadata": {},
   "outputs": [
    {
     "data": {
      "text/html": [
       "<div>\n",
       "<style scoped>\n",
       "    .dataframe tbody tr th:only-of-type {\n",
       "        vertical-align: middle;\n",
       "    }\n",
       "\n",
       "    .dataframe tbody tr th {\n",
       "        vertical-align: top;\n",
       "    }\n",
       "\n",
       "    .dataframe thead th {\n",
       "        text-align: right;\n",
       "    }\n",
       "</style>\n",
       "<table border=\"1\" class=\"dataframe\">\n",
       "  <thead>\n",
       "    <tr style=\"text-align: right;\">\n",
       "      <th></th>\n",
       "      <th>c_1</th>\n",
       "      <th>c_2</th>\n",
       "      <th>c_3</th>\n",
       "      <th>labels</th>\n",
       "    </tr>\n",
       "    <tr>\n",
       "      <th>id</th>\n",
       "      <th></th>\n",
       "      <th></th>\n",
       "      <th></th>\n",
       "      <th></th>\n",
       "    </tr>\n",
       "  </thead>\n",
       "  <tbody>\n",
       "    <tr>\n",
       "      <th>5917d13f6fa04286abdf95f4d5cefb1e</th>\n",
       "      <td>-0.464664</td>\n",
       "      <td>-0.449253</td>\n",
       "      <td>-0.115596</td>\n",
       "      <td>1</td>\n",
       "    </tr>\n",
       "    <tr>\n",
       "      <th>9fa9ae8f57894cc9a3b8a9bbe0fc1b2f</th>\n",
       "      <td>-0.233732</td>\n",
       "      <td>-0.221924</td>\n",
       "      <td>-0.338291</td>\n",
       "      <td>1</td>\n",
       "    </tr>\n",
       "    <tr>\n",
       "      <th>11da2f066d3943699d10b61fd276fd1a</th>\n",
       "      <td>-0.152819</td>\n",
       "      <td>-0.232465</td>\n",
       "      <td>-0.215134</td>\n",
       "      <td>1</td>\n",
       "    </tr>\n",
       "    <tr>\n",
       "      <th>c74beaa959a742309ba8350b7d472676</th>\n",
       "      <td>-0.206050</td>\n",
       "      <td>-0.259251</td>\n",
       "      <td>-0.308168</td>\n",
       "      <td>1</td>\n",
       "    </tr>\n",
       "    <tr>\n",
       "      <th>2204f8ff966f48db90246bd7b5918a7f</th>\n",
       "      <td>-0.110986</td>\n",
       "      <td>-0.195777</td>\n",
       "      <td>0.094061</td>\n",
       "      <td>1</td>\n",
       "    </tr>\n",
       "  </tbody>\n",
       "</table>\n",
       "</div>"
      ],
      "text/plain": [
       "                                       c_1       c_2       c_3  labels\n",
       "id                                                                    \n",
       "5917d13f6fa04286abdf95f4d5cefb1e -0.464664 -0.449253 -0.115596       1\n",
       "9fa9ae8f57894cc9a3b8a9bbe0fc1b2f -0.233732 -0.221924 -0.338291       1\n",
       "11da2f066d3943699d10b61fd276fd1a -0.152819 -0.232465 -0.215134       1\n",
       "c74beaa959a742309ba8350b7d472676 -0.206050 -0.259251 -0.308168       1\n",
       "2204f8ff966f48db90246bd7b5918a7f -0.110986 -0.195777  0.094061       1"
      ]
     },
     "execution_count": 44,
     "metadata": {},
     "output_type": "execute_result"
    }
   ],
   "source": [
    "male_cluster=male_transformed[male_transformed['labels']==1]\n",
    "male_cluster.head()"
   ]
  },
  {
   "cell_type": "markdown",
   "metadata": {},
   "source": [
    "### Last Step\n",
    "That's the last step for the analysis. Now we simply process and join the male and female sets into our final customer segmentation dataset."
   ]
  },
  {
   "cell_type": "code",
   "execution_count": 45,
   "metadata": {},
   "outputs": [
    {
     "name": "stdout",
     "output_type": "stream",
     "text": [
      "2020-05-16 19:48:18 Starting - Starting the training job...\n",
      "2020-05-16 19:48:20 Starting - Launching requested ML instances.........\n",
      "2020-05-16 19:49:50 Starting - Preparing the instances for training...\n",
      "2020-05-16 19:50:46 Downloading - Downloading input data...\n",
      "2020-05-16 19:51:18 Training - Downloading the training image..\n",
      "2020-05-16 19:51:44 Uploading - Uploading generated training model\n",
      "2020-05-16 19:51:44 Completed - Training job completed\n",
      "\u001b[34mDocker entrypoint called with argument(s): train\u001b[0m\n",
      "\u001b[34mRunning default environment configuration script\u001b[0m\n",
      "\u001b[34m[05/16/2020 19:51:34 INFO 139660500174656] Reading default configuration from /opt/amazon/lib/python2.7/site-packages/algorithm/resources/default-input.json: {u'_enable_profiler': u'false', u'_tuning_objective_metric': u'', u'_num_gpus': u'auto', u'local_lloyd_num_trials': u'auto', u'_log_level': u'info', u'_kvstore': u'auto', u'local_lloyd_init_method': u'kmeans++', u'force_dense': u'true', u'epochs': u'1', u'init_method': u'random', u'local_lloyd_tol': u'0.0001', u'local_lloyd_max_iter': u'300', u'_disable_wait_to_read': u'false', u'extra_center_factor': u'auto', u'eval_metrics': u'[\"msd\"]', u'_num_kv_servers': u'1', u'mini_batch_size': u'5000', u'half_life_time_size': u'0', u'_num_slices': u'1'}\u001b[0m\n",
      "\u001b[34m[05/16/2020 19:51:34 INFO 139660500174656] Reading provided configuration from /opt/ml/input/config/hyperparameters.json: {u'feature_dim': u'3', u'k': u'6', u'force_dense': u'True'}\u001b[0m\n",
      "\u001b[34m[05/16/2020 19:51:34 INFO 139660500174656] Final configuration: {u'_tuning_objective_metric': u'', u'extra_center_factor': u'auto', u'local_lloyd_init_method': u'kmeans++', u'force_dense': u'True', u'epochs': u'1', u'feature_dim': u'3', u'local_lloyd_tol': u'0.0001', u'_disable_wait_to_read': u'false', u'eval_metrics': u'[\"msd\"]', u'_num_kv_servers': u'1', u'mini_batch_size': u'5000', u'_enable_profiler': u'false', u'_num_gpus': u'auto', u'local_lloyd_num_trials': u'auto', u'_log_level': u'info', u'init_method': u'random', u'half_life_time_size': u'0', u'local_lloyd_max_iter': u'300', u'_kvstore': u'auto', u'k': u'6', u'_num_slices': u'1'}\u001b[0m\n",
      "\u001b[34m[05/16/2020 19:51:34 WARNING 139660500174656] Loggers have already been setup.\u001b[0m\n",
      "\u001b[34mProcess 1 is a worker.\u001b[0m\n",
      "\u001b[34m[05/16/2020 19:51:34 INFO 139660500174656] Using default worker.\u001b[0m\n",
      "\u001b[34m[05/16/2020 19:51:34 INFO 139660500174656] Loaded iterator creator application/x-recordio-protobuf for content type ('application/x-recordio-protobuf', '1.0')\u001b[0m\n",
      "\u001b[34m[05/16/2020 19:51:34 INFO 139660500174656] Create Store: local\u001b[0m\n",
      "\u001b[34m[05/16/2020 19:51:34 INFO 139660500174656] nvidia-smi took: 0.0252549648285 secs to identify 0 gpus\u001b[0m\n",
      "\u001b[34m[05/16/2020 19:51:34 INFO 139660500174656] Number of GPUs being used: 0\u001b[0m\n",
      "\u001b[34m[05/16/2020 19:51:34 INFO 139660500174656] Setting up with params: {u'_tuning_objective_metric': u'', u'extra_center_factor': u'auto', u'local_lloyd_init_method': u'kmeans++', u'force_dense': u'True', u'epochs': u'1', u'feature_dim': u'3', u'local_lloyd_tol': u'0.0001', u'_disable_wait_to_read': u'false', u'eval_metrics': u'[\"msd\"]', u'_num_kv_servers': u'1', u'mini_batch_size': u'5000', u'_enable_profiler': u'false', u'_num_gpus': u'auto', u'local_lloyd_num_trials': u'auto', u'_log_level': u'info', u'init_method': u'random', u'half_life_time_size': u'0', u'local_lloyd_max_iter': u'300', u'_kvstore': u'auto', u'k': u'6', u'_num_slices': u'1'}\u001b[0m\n",
      "\u001b[34m[05/16/2020 19:51:34 INFO 139660500174656] 'extra_center_factor' was set to 'auto', evaluated to 10.\u001b[0m\n",
      "\u001b[34m[05/16/2020 19:51:34 INFO 139660500174656] Number of GPUs being used: 0\u001b[0m\n",
      "\u001b[34m[05/16/2020 19:51:34 INFO 139660500174656] number of center slices 1\u001b[0m\n",
      "\u001b[34m#metrics {\"Metrics\": {\"Max Batches Seen Between Resets\": {\"count\": 1, \"max\": 1, \"sum\": 1.0, \"min\": 1}, \"Number of Batches Since Last Reset\": {\"count\": 1, \"max\": 1, \"sum\": 1.0, \"min\": 1}, \"Number of Records Since Last Reset\": {\"count\": 1, \"max\": 5000, \"sum\": 5000.0, \"min\": 5000}, \"Total Batches Seen\": {\"count\": 1, \"max\": 1, \"sum\": 1.0, \"min\": 1}, \"Total Records Seen\": {\"count\": 1, \"max\": 5000, \"sum\": 5000.0, \"min\": 5000}, \"Max Records Seen Between Resets\": {\"count\": 1, \"max\": 5000, \"sum\": 5000.0, \"min\": 5000}, \"Reset Count\": {\"count\": 1, \"max\": 0, \"sum\": 0.0, \"min\": 0}}, \"EndTime\": 1589658694.846651, \"Dimensions\": {\"Host\": \"algo-1\", \"Meta\": \"init_train_data_iter\", \"Operation\": \"training\", \"Algorithm\": \"AWS/KMeansWebscale\"}, \"StartTime\": 1589658694.846621}\n",
      "\u001b[0m\n",
      "\u001b[34m[2020-05-16 19:51:34.846] [tensorio] [info] epoch_stats={\"data_pipeline\": \"/opt/ml/input/data/train\", \"epoch\": 0, \"duration\": 31, \"num_examples\": 1, \"num_bytes\": 180000}\u001b[0m\n",
      "\u001b[34m[2020-05-16 19:51:34.901] [tensorio] [info] epoch_stats={\"data_pipeline\": \"/opt/ml/input/data/train\", \"epoch\": 1, \"duration\": 54, \"num_examples\": 2, \"num_bytes\": 215748}\u001b[0m\n",
      "\u001b[34m[05/16/2020 19:51:34 INFO 139660500174656] processed a total of 5993 examples\u001b[0m\n",
      "\u001b[34m[05/16/2020 19:51:34 INFO 139660500174656] #progress_metric: host=algo-1, completed 100 % of epochs\u001b[0m\n",
      "\u001b[34m#metrics {\"Metrics\": {\"Max Batches Seen Between Resets\": {\"count\": 1, \"max\": 2, \"sum\": 2.0, \"min\": 2}, \"Number of Batches Since Last Reset\": {\"count\": 1, \"max\": 2, \"sum\": 2.0, \"min\": 2}, \"Number of Records Since Last Reset\": {\"count\": 1, \"max\": 5993, \"sum\": 5993.0, \"min\": 5993}, \"Total Batches Seen\": {\"count\": 1, \"max\": 3, \"sum\": 3.0, \"min\": 3}, \"Total Records Seen\": {\"count\": 1, \"max\": 10993, \"sum\": 10993.0, \"min\": 10993}, \"Max Records Seen Between Resets\": {\"count\": 1, \"max\": 5993, \"sum\": 5993.0, \"min\": 5993}, \"Reset Count\": {\"count\": 1, \"max\": 1, \"sum\": 1.0, \"min\": 1}}, \"EndTime\": 1589658694.90208, \"Dimensions\": {\"Host\": \"algo-1\", \"Meta\": \"training_data_iter\", \"Operation\": \"training\", \"Algorithm\": \"AWS/KMeansWebscale\", \"epoch\": 0}, \"StartTime\": 1589658694.846894}\n",
      "\u001b[0m\n",
      "\u001b[34m[05/16/2020 19:51:34 INFO 139660500174656] #throughput_metric: host=algo-1, train throughput=108356.635178 records/second\u001b[0m\n",
      "\u001b[34m[05/16/2020 19:51:34 WARNING 139660500174656] wait_for_all_workers will not sync workers since the kv store is not running distributed\u001b[0m\n",
      "\u001b[34m[05/16/2020 19:51:34 INFO 139660500174656] shrinking 60 centers into 6\u001b[0m\n",
      "\u001b[34m[05/16/2020 19:51:34 INFO 139660500174656] local kmeans attempt #0. Current mean square distance 0.045020\u001b[0m\n",
      "\u001b[34m[05/16/2020 19:51:34 INFO 139660500174656] local kmeans attempt #1. Current mean square distance 0.044013\u001b[0m\n",
      "\u001b[34m[05/16/2020 19:51:34 INFO 139660500174656] local kmeans attempt #2. Current mean square distance 0.044528\u001b[0m\n",
      "\u001b[34m[05/16/2020 19:51:35 INFO 139660500174656] local kmeans attempt #3. Current mean square distance 0.042318\u001b[0m\n",
      "\u001b[34m[05/16/2020 19:51:35 INFO 139660500174656] local kmeans attempt #4. Current mean square distance 0.042650\u001b[0m\n",
      "\u001b[34m[05/16/2020 19:51:35 INFO 139660500174656] local kmeans attempt #5. Current mean square distance 0.046458\u001b[0m\n",
      "\u001b[34m[05/16/2020 19:51:35 INFO 139660500174656] local kmeans attempt #6. Current mean square distance 0.044449\u001b[0m\n",
      "\u001b[34m[05/16/2020 19:51:35 INFO 139660500174656] local kmeans attempt #7. Current mean square distance 0.046244\u001b[0m\n",
      "\u001b[34m[05/16/2020 19:51:35 INFO 139660500174656] local kmeans attempt #8. Current mean square distance 0.046658\u001b[0m\n",
      "\u001b[34m[05/16/2020 19:51:35 INFO 139660500174656] local kmeans attempt #9. Current mean square distance 0.046609\u001b[0m\n",
      "\u001b[34m[05/16/2020 19:51:35 INFO 139660500174656] finished shrinking process. Mean Square Distance = 0\u001b[0m\n",
      "\u001b[34m[05/16/2020 19:51:35 INFO 139660500174656] #quality_metric: host=algo-1, train msd <loss>=0.0423178374767\u001b[0m\n",
      "\u001b[34m[05/16/2020 19:51:35 INFO 139660500174656] compute all data-center distances: inner product took: 31.5183%, (0.019314 secs)\u001b[0m\n",
      "\u001b[34m[05/16/2020 19:51:35 INFO 139660500174656] collect from kv store took: 11.9717%, (0.007336 secs)\u001b[0m\n",
      "\u001b[34m[05/16/2020 19:51:35 INFO 139660500174656] splitting centers key-value pair took: 11.6076%, (0.007113 secs)\u001b[0m\n",
      "\u001b[34m[05/16/2020 19:51:35 INFO 139660500174656] batch data loading with context took: 10.5030%, (0.006436 secs)\u001b[0m\n",
      "\u001b[34m[05/16/2020 19:51:35 INFO 139660500174656] gradient: cluster center took: 9.2564%, (0.005672 secs)\u001b[0m\n",
      "\u001b[34m[05/16/2020 19:51:35 INFO 139660500174656] predict compute msd took: 7.6161%, (0.004667 secs)\u001b[0m\n",
      "\u001b[34m[05/16/2020 19:51:35 INFO 139660500174656] compute all data-center distances: point norm took: 6.9290%, (0.004246 secs)\u001b[0m\n",
      "\u001b[34m[05/16/2020 19:51:35 INFO 139660500174656] gradient: one_hot took: 5.2357%, (0.003208 secs)\u001b[0m\n",
      "\u001b[34m[05/16/2020 19:51:35 INFO 139660500174656] gradient: cluster size  took: 3.0908%, (0.001894 secs)\u001b[0m\n",
      "\u001b[34m[05/16/2020 19:51:35 INFO 139660500174656] update state and report convergance took: 1.3691%, (0.000839 secs)\u001b[0m\n",
      "\u001b[34m[05/16/2020 19:51:35 INFO 139660500174656] compute all data-center distances: center norm took: 0.5221%, (0.000320 secs)\u001b[0m\n",
      "\u001b[34m[05/16/2020 19:51:35 INFO 139660500174656] update set-up time took: 0.3167%, (0.000194 secs)\u001b[0m\n",
      "\u001b[34m[05/16/2020 19:51:35 INFO 139660500174656] predict minus dist took: 0.0634%, (0.000039 secs)\u001b[0m\n",
      "\u001b[34m[05/16/2020 19:51:35 INFO 139660500174656] TOTAL took: 0.0612788200378\u001b[0m\n",
      "\u001b[34m[05/16/2020 19:51:35 INFO 139660500174656] Number of GPUs being used: 0\u001b[0m\n",
      "\u001b[34m#metrics {\"Metrics\": {\"finalize.time\": {\"count\": 1, \"max\": 252.6540756225586, \"sum\": 252.6540756225586, \"min\": 252.6540756225586}, \"initialize.time\": {\"count\": 1, \"max\": 24.280071258544922, \"sum\": 24.280071258544922, \"min\": 24.280071258544922}, \"model.serialize.time\": {\"count\": 1, \"max\": 0.12278556823730469, \"sum\": 0.12278556823730469, \"min\": 0.12278556823730469}, \"update.time\": {\"count\": 1, \"max\": 55.00507354736328, \"sum\": 55.00507354736328, \"min\": 55.00507354736328}, \"epochs\": {\"count\": 1, \"max\": 1, \"sum\": 1.0, \"min\": 1}, \"state.serialize.time\": {\"count\": 1, \"max\": 1.1820793151855469, \"sum\": 1.1820793151855469, \"min\": 1.1820793151855469}, \"_shrink.time\": {\"count\": 1, \"max\": 250.83017349243164, \"sum\": 250.83017349243164, \"min\": 250.83017349243164}}, \"EndTime\": 1589658695.156522, \"Dimensions\": {\"Host\": \"algo-1\", \"Operation\": \"training\", \"Algorithm\": \"AWS/KMeansWebscale\"}, \"StartTime\": 1589658694.81456}\n",
      "\u001b[0m\n",
      "\u001b[34m[05/16/2020 19:51:35 INFO 139660500174656] Test data is not provided.\u001b[0m\n",
      "\u001b[34m#metrics {\"Metrics\": {\"totaltime\": {\"count\": 1, \"max\": 407.40013122558594, \"sum\": 407.40013122558594, \"min\": 407.40013122558594}, \"setuptime\": {\"count\": 1, \"max\": 14.617204666137695, \"sum\": 14.617204666137695, \"min\": 14.617204666137695}}, \"EndTime\": 1589658695.156915, \"Dimensions\": {\"Host\": \"algo-1\", \"Operation\": \"training\", \"Algorithm\": \"AWS/KMeansWebscale\"}, \"StartTime\": 1589658695.156628}\n",
      "\u001b[0m\n",
      "Training seconds: 58\n",
      "Billable seconds: 58\n"
     ]
    }
   ],
   "source": [
    "k = 6\n",
    "female_kmeans = KMeans(role=role,\n",
    "                train_instance_count=1,\n",
    "                train_instance_type='ml.c4.xlarge',\n",
    "                output_path=output_path_female + '{}/'.format(str(k)),             \n",
    "                k=k)\n",
    "\n",
    "# convert the transformed dataframe into record_set data\n",
    "female_kmeans_train_data_np = female_transformed.values.astype('float32')\n",
    "female_kmeans_formatted_data = female_kmeans.record_set(female_kmeans_train_data_np)    \n",
    "\n",
    "female_kmeans.fit(female_kmeans_formatted_data)"
   ]
  },
  {
   "cell_type": "code",
   "execution_count": 46,
   "metadata": {},
   "outputs": [
    {
     "name": "stdout",
     "output_type": "stream",
     "text": [
      "---------------!CPU times: user 275 ms, sys: 13.1 ms, total: 288 ms\n",
      "Wall time: 7min 31s\n"
     ]
    }
   ],
   "source": [
    "%%time\n",
    "# deploy the model to create a predictor\n",
    "female_kmeans_predictor = female_kmeans.deploy(initial_instance_count=1, \n",
    "                                 instance_type='ml.t2.medium')"
   ]
  },
  {
   "cell_type": "code",
   "execution_count": 47,
   "metadata": {},
   "outputs": [
    {
     "name": "stdout",
     "output_type": "stream",
     "text": [
      "1.0    1159\n",
      "3.0    1145\n",
      "2.0    1125\n",
      "4.0    1013\n",
      "0.0     789\n",
      "5.0     762\n",
      "Name: 0, dtype: int64\n"
     ]
    }
   ],
   "source": [
    "# get the predicted clusters for all the kmeans training data\n",
    "female_cluster_info=female_kmeans_predictor.predict(female_kmeans_train_data_np)\n",
    "female_cluster_labels = [c.label['closest_cluster'].float32_tensor.values[0] for c in female_cluster_info]\n",
    "female_cluster_df = pd.DataFrame(female_cluster_labels)[0].value_counts()\n",
    "#View distribution of clusters\n",
    "print(female_cluster_df)"
   ]
  },
  {
   "cell_type": "code",
   "execution_count": 48,
   "metadata": {},
   "outputs": [],
   "source": [
    "female_transformed['labels']=list(map(int, female_cluster_labels))"
   ]
  },
  {
   "cell_type": "code",
   "execution_count": 49,
   "metadata": {},
   "outputs": [],
   "source": [
    "# delete kmeans endpoint\n",
    "session.delete_endpoint(female_kmeans_predictor.endpoint)"
   ]
  },
  {
   "cell_type": "code",
   "execution_count": 50,
   "metadata": {},
   "outputs": [],
   "source": [
    "#offset by k so that male and female segments remain distinct in order to be combined\n",
    "female_transformed['labels']=female_transformed['labels']+k"
   ]
  },
  {
   "cell_type": "markdown",
   "metadata": {},
   "source": []
  },
  {
   "cell_type": "code",
   "execution_count": 51,
   "metadata": {},
   "outputs": [
    {
     "data": {
      "text/html": [
       "<div>\n",
       "<style scoped>\n",
       "    .dataframe tbody tr th:only-of-type {\n",
       "        vertical-align: middle;\n",
       "    }\n",
       "\n",
       "    .dataframe tbody tr th {\n",
       "        vertical-align: top;\n",
       "    }\n",
       "\n",
       "    .dataframe thead th {\n",
       "        text-align: right;\n",
       "    }\n",
       "</style>\n",
       "<table border=\"1\" class=\"dataframe\">\n",
       "  <thead>\n",
       "    <tr style=\"text-align: right;\">\n",
       "      <th></th>\n",
       "      <th>labels</th>\n",
       "    </tr>\n",
       "    <tr>\n",
       "      <th>id</th>\n",
       "      <th></th>\n",
       "    </tr>\n",
       "  </thead>\n",
       "  <tbody>\n",
       "    <tr>\n",
       "      <th>e2127556f4f64592b11af22de27a7932</th>\n",
       "      <td>5</td>\n",
       "    </tr>\n",
       "    <tr>\n",
       "      <th>389bc3fa690240e798340f5a15918d5c</th>\n",
       "      <td>2</td>\n",
       "    </tr>\n",
       "    <tr>\n",
       "      <th>2eeac8d8feae4a8cad5a6af0499a211d</th>\n",
       "      <td>2</td>\n",
       "    </tr>\n",
       "    <tr>\n",
       "      <th>e12aeaf2d47d42479ea1c4ac3d8286c6</th>\n",
       "      <td>4</td>\n",
       "    </tr>\n",
       "    <tr>\n",
       "      <th>62cf5e10845442329191fc246e7bcea3</th>\n",
       "      <td>4</td>\n",
       "    </tr>\n",
       "  </tbody>\n",
       "</table>\n",
       "</div>"
      ],
      "text/plain": [
       "                                  labels\n",
       "id                                      \n",
       "e2127556f4f64592b11af22de27a7932       5\n",
       "389bc3fa690240e798340f5a15918d5c       2\n",
       "2eeac8d8feae4a8cad5a6af0499a211d       2\n",
       "e12aeaf2d47d42479ea1c4ac3d8286c6       4\n",
       "62cf5e10845442329191fc246e7bcea3       4"
      ]
     },
     "execution_count": 51,
     "metadata": {},
     "output_type": "execute_result"
    }
   ],
   "source": [
    "customer_segments = pd.concat([male_transformed,female_transformed])\n",
    "customer_segments = customer_segments.drop(columns = ['c_1','c_2','c_3'])\n",
    "customer_segments.head(5)"
   ]
  },
  {
   "cell_type": "code",
   "execution_count": 52,
   "metadata": {},
   "outputs": [
    {
     "data": {
      "text/html": [
       "<div>\n",
       "<style scoped>\n",
       "    .dataframe tbody tr th:only-of-type {\n",
       "        vertical-align: middle;\n",
       "    }\n",
       "\n",
       "    .dataframe tbody tr th {\n",
       "        vertical-align: top;\n",
       "    }\n",
       "\n",
       "    .dataframe thead th {\n",
       "        text-align: right;\n",
       "    }\n",
       "</style>\n",
       "<table border=\"1\" class=\"dataframe\">\n",
       "  <thead>\n",
       "    <tr style=\"text-align: right;\">\n",
       "      <th></th>\n",
       "      <th>age</th>\n",
       "      <th>income</th>\n",
       "      <th>age of account</th>\n",
       "      <th>num purchases</th>\n",
       "      <th>amount per purchase</th>\n",
       "      <th>customer_segment</th>\n",
       "    </tr>\n",
       "    <tr>\n",
       "      <th>id</th>\n",
       "      <th></th>\n",
       "      <th></th>\n",
       "      <th></th>\n",
       "      <th></th>\n",
       "      <th></th>\n",
       "      <th></th>\n",
       "    </tr>\n",
       "  </thead>\n",
       "  <tbody>\n",
       "    <tr>\n",
       "      <th>e2127556f4f64592b11af22de27a7932</th>\n",
       "      <td>68</td>\n",
       "      <td>70</td>\n",
       "      <td>2</td>\n",
       "      <td>3</td>\n",
       "      <td>19.243333</td>\n",
       "      <td>5</td>\n",
       "    </tr>\n",
       "    <tr>\n",
       "      <th>389bc3fa690240e798340f5a15918d5c</th>\n",
       "      <td>65</td>\n",
       "      <td>53</td>\n",
       "      <td>5</td>\n",
       "      <td>3</td>\n",
       "      <td>12.143333</td>\n",
       "      <td>2</td>\n",
       "    </tr>\n",
       "    <tr>\n",
       "      <th>2eeac8d8feae4a8cad5a6af0499a211d</th>\n",
       "      <td>58</td>\n",
       "      <td>51</td>\n",
       "      <td>8</td>\n",
       "      <td>4</td>\n",
       "      <td>3.905000</td>\n",
       "      <td>2</td>\n",
       "    </tr>\n",
       "    <tr>\n",
       "      <th>e12aeaf2d47d42479ea1c4ac3d8286c6</th>\n",
       "      <td>26</td>\n",
       "      <td>46</td>\n",
       "      <td>53</td>\n",
       "      <td>11</td>\n",
       "      <td>5.110909</td>\n",
       "      <td>4</td>\n",
       "    </tr>\n",
       "    <tr>\n",
       "      <th>62cf5e10845442329191fc246e7bcea3</th>\n",
       "      <td>49</td>\n",
       "      <td>52</td>\n",
       "      <td>44</td>\n",
       "      <td>9</td>\n",
       "      <td>16.012222</td>\n",
       "      <td>4</td>\n",
       "    </tr>\n",
       "  </tbody>\n",
       "</table>\n",
       "</div>"
      ],
      "text/plain": [
       "                                  age  income  age of account  num purchases  \\\n",
       "id                                                                             \n",
       "e2127556f4f64592b11af22de27a7932   68      70               2              3   \n",
       "389bc3fa690240e798340f5a15918d5c   65      53               5              3   \n",
       "2eeac8d8feae4a8cad5a6af0499a211d   58      51               8              4   \n",
       "e12aeaf2d47d42479ea1c4ac3d8286c6   26      46              53             11   \n",
       "62cf5e10845442329191fc246e7bcea3   49      52              44              9   \n",
       "\n",
       "                                  amount per purchase  customer_segment  \n",
       "id                                                                       \n",
       "e2127556f4f64592b11af22de27a7932            19.243333                 5  \n",
       "389bc3fa690240e798340f5a15918d5c            12.143333                 2  \n",
       "2eeac8d8feae4a8cad5a6af0499a211d             3.905000                 2  \n",
       "e12aeaf2d47d42479ea1c4ac3d8286c6             5.110909                 4  \n",
       "62cf5e10845442329191fc246e7bcea3            16.012222                 4  "
      ]
     },
     "execution_count": 52,
     "metadata": {},
     "output_type": "execute_result"
    }
   ],
   "source": [
    "customers = pd.concat([male_customers,female_customers])\n",
    "customers = customers.merge(customer_segments,left_index=True, right_index=True)\n",
    "customers = customers.rename(columns={'labels': 'customer_segment'})\n",
    "customers.head(5)"
   ]
  },
  {
   "cell_type": "code",
   "execution_count": 53,
   "metadata": {},
   "outputs": [
    {
     "data": {
      "text/plain": [
       "array([[<matplotlib.axes._subplots.AxesSubplot object at 0x7f6f38a6e860>]],\n",
       "      dtype=object)"
      ]
     },
     "execution_count": 53,
     "metadata": {},
     "output_type": "execute_result"
    },
    {
     "data": {
      "image/png": "[encoded data removed]",
      "text/plain": [
       "<Figure size 432x288 with 1 Axes>"
      ]
     },
     "metadata": {
      "needs_background": "light"
     },
     "output_type": "display_data"
    }
   ],
   "source": [
    "customers.hist(column='customer_segment', bins=12)"
   ]
  },
  {
   "cell_type": "markdown",
   "metadata": {},
   "source": [
    "And that's it. We now have our customer data segmented into 12 different groups, with each group ranging from just under 500 to ~1800 customers. Let's save it locally for the next notebook and then proceed to Notebook #3."
   ]
  },
  {
   "cell_type": "code",
   "execution_count": 54,
   "metadata": {},
   "outputs": [],
   "source": [
    "import os\n",
    "\n",
    "def make_csv(df, filename, data_dir):\n",
    "    '''Merges features and labels and converts them into one csv file with labels in the first column.\n",
    "       :param x: Data features\n",
    "       :param y: Data labels\n",
    "       :param file_name: Name of csv file, ex. 'train.csv'\n",
    "       :param data_dir: The directory where files will be saved\n",
    "       '''\n",
    "    # make data dir, if it does not exist\n",
    "    if not os.path.exists(data_dir):\n",
    "        os.makedirs(data_dir)\n",
    "\n",
    "    df.to_csv(os.path.join(data_dir, filename), header=True, index=True)  \n",
    "    \n",
    "    # nothing is returned, but a print statement indicates that the function has run\n",
    "    print('Path created: '+str(data_dir)+'/'+str(filename))"
   ]
  },
  {
   "cell_type": "code",
   "execution_count": null,
   "metadata": {},
   "outputs": [],
   "source": []
  },
  {
   "cell_type": "code",
   "execution_count": 55,
   "metadata": {},
   "outputs": [
    {
     "name": "stdout",
     "output_type": "stream",
     "text": [
      "Path created: segmentation_data/customers.csv\n"
     ]
    }
   ],
   "source": [
    "data_dir = 'segmentation_data'\n",
    "make_csv(customers,'customers.csv',data_dir)    "
   ]
  },
  {
   "cell_type": "markdown",
   "metadata": {},
   "source": [
    "That concludes the Customer Segmentation notebook. The next notebook is further processing of promotions data to prepare for linear regression."
   ]
  },
  {
   "cell_type": "code",
   "execution_count": null,
   "metadata": {},
   "outputs": [],
   "source": []
  }
 ],
 "metadata": {
  "kernelspec": {
   "display_name": "conda_amazonei_mxnet_p36",
   "language": "python",
   "name": "conda_amazonei_mxnet_p36"
  },
  "language_info": {
   "codemirror_mode": {
    "name": "ipython",
    "version": 3
   },
   "file_extension": ".py",
   "mimetype": "text/x-python",
   "name": "python",
   "nbconvert_exporter": "python",
   "pygments_lexer": "ipython3",
   "version": "3.6.10"
  }
 },
 "nbformat": 4,
 "nbformat_minor": 4
}
